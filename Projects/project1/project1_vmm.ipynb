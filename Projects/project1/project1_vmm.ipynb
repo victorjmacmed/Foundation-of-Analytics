{
 "cells": [
  {
   "cell_type": "markdown",
   "metadata": {},
   "source": [
    "# Project 1: Víctor J. Maciá Medina\n",
    "\n",
    "## 1 Linear Algebra in Numpy\n",
    "\n",
    "1. Create a random 100-by-100 matrix M, using numpy method \"np.random.randn(100, 100)\", where each element is drawn from a random normal distribution.\n",
    "\n",
    "2. Calculate the mean and variance of all the elements in M;\n",
    "\n",
    "3. Use \"for loop\" to calculate the mean and variance of each row of M.\n",
    "\n",
    "4. Use matrix operation instead of \"for loop\" to calculate the mean of each row of M, hint: create a vector of ones using np.ones(100, 1)?\n",
    "\n",
    "5. Calculate the inverse matrix $M^{−1}$\n",
    "\n",
    "6. Verify that $M^{−1}M$ = $MM^{−1}$ = I. Are the off-diagonal elements exactly 0, why?"
   ]
  },
  {
   "cell_type": "code",
   "execution_count": 1,
   "metadata": {},
   "outputs": [],
   "source": [
    "# (1) Create a random 100-by-100 matrix M, using numpy method \n",
    "# \"np.random.randn(100, 100)\", where each element is drawn \n",
    "# from a random normal distribution.\n",
    "\n",
    "import numpy as np\n",
    "\n",
    "M = np.random.randn(100,100)"
   ]
  },
  {
   "cell_type": "code",
   "execution_count": 2,
   "metadata": {},
   "outputs": [
    {
     "data": {
      "text/plain": [
       "-0.003415824670711709"
      ]
     },
     "execution_count": 2,
     "metadata": {},
     "output_type": "execute_result"
    }
   ],
   "source": [
    "# (2) Calculate the mean and variance of all the elements in M;\n",
    "\n",
    "\n",
    "np.mean(M)"
   ]
  },
  {
   "cell_type": "code",
   "execution_count": 3,
   "metadata": {},
   "outputs": [
    {
     "data": {
      "text/plain": [
       "0.9913147764164356"
      ]
     },
     "execution_count": 3,
     "metadata": {},
     "output_type": "execute_result"
    }
   ],
   "source": [
    "np.var(M)"
   ]
  },
  {
   "cell_type": "code",
   "execution_count": 4,
   "metadata": {},
   "outputs": [
    {
     "data": {
      "text/plain": [
       "array([[0.73170727],\n",
       "       [0.79458613],\n",
       "       [0.24184162],\n",
       "       [0.39886653],\n",
       "       [0.00901273],\n",
       "       [0.64355206],\n",
       "       [0.16237803],\n",
       "       [0.84804829],\n",
       "       [0.56637245],\n",
       "       [0.30839715],\n",
       "       [0.5500487 ],\n",
       "       [0.9459686 ],\n",
       "       [0.98506109],\n",
       "       [0.72546666],\n",
       "       [0.08399291],\n",
       "       [0.98286133],\n",
       "       [0.11281425],\n",
       "       [0.69048375],\n",
       "       [0.80405232],\n",
       "       [0.39307458],\n",
       "       [0.66539698],\n",
       "       [0.2297565 ],\n",
       "       [0.45426431],\n",
       "       [0.53912157],\n",
       "       [0.56260406],\n",
       "       [0.88211608],\n",
       "       [0.10855964],\n",
       "       [0.14620711],\n",
       "       [0.17279534],\n",
       "       [0.06575111],\n",
       "       [0.47065595],\n",
       "       [0.39434174],\n",
       "       [0.14970206],\n",
       "       [0.49604969],\n",
       "       [0.29475662],\n",
       "       [0.35992998],\n",
       "       [0.44463109],\n",
       "       [0.6595447 ],\n",
       "       [0.84542171],\n",
       "       [0.82829811],\n",
       "       [0.53022319],\n",
       "       [0.25003804],\n",
       "       [0.74913436],\n",
       "       [0.95269412],\n",
       "       [0.9669502 ],\n",
       "       [0.48734543],\n",
       "       [0.06035712],\n",
       "       [0.94173042],\n",
       "       [0.07484915],\n",
       "       [0.62765151],\n",
       "       [0.37114558],\n",
       "       [0.79974481],\n",
       "       [0.32796322],\n",
       "       [0.50159878],\n",
       "       [0.93334431],\n",
       "       [0.39632175],\n",
       "       [0.07819606],\n",
       "       [0.85607239],\n",
       "       [0.47625407],\n",
       "       [0.35506759],\n",
       "       [0.37829177],\n",
       "       [0.73500751],\n",
       "       [0.78403562],\n",
       "       [0.53391677],\n",
       "       [0.86529328],\n",
       "       [0.44647489],\n",
       "       [0.49408673],\n",
       "       [0.3643867 ],\n",
       "       [0.12771441],\n",
       "       [0.80678975],\n",
       "       [0.24528215],\n",
       "       [0.96134959],\n",
       "       [0.21234786],\n",
       "       [0.19986308],\n",
       "       [0.47158096],\n",
       "       [0.80886422],\n",
       "       [0.98043738],\n",
       "       [0.06417814],\n",
       "       [0.81623   ],\n",
       "       [0.66678783],\n",
       "       [0.43624204],\n",
       "       [0.56713655],\n",
       "       [0.49206188],\n",
       "       [0.17740223],\n",
       "       [0.98037125],\n",
       "       [0.08857454],\n",
       "       [0.43320439],\n",
       "       [0.65607148],\n",
       "       [0.85187581],\n",
       "       [0.1671603 ],\n",
       "       [0.72291184],\n",
       "       [0.92191451],\n",
       "       [0.97953057],\n",
       "       [0.01428359],\n",
       "       [0.24031313],\n",
       "       [0.92621407],\n",
       "       [0.32368707],\n",
       "       [0.73407156],\n",
       "       [0.81413978],\n",
       "       [0.9163827 ]])"
      ]
     },
     "execution_count": 4,
     "metadata": {},
     "output_type": "execute_result"
    }
   ],
   "source": [
    "# (3) Use \"for loop\" to calculate the mean and variance\n",
    "# of each row of M.\n",
    "\n",
    "mean = np.random.rand(100,1)\n",
    "\n",
    "for m in range(0,100):\n",
    "    mean[m] == np.mean(M[m,:])\n",
    "mean\n",
    "    "
   ]
  },
  {
   "cell_type": "code",
   "execution_count": 5,
   "metadata": {},
   "outputs": [
    {
     "data": {
      "text/plain": [
       "array([[0.43663568],\n",
       "       [0.16214108],\n",
       "       [0.55091247],\n",
       "       [0.93925208],\n",
       "       [0.54752787],\n",
       "       [0.75783474],\n",
       "       [0.71795917],\n",
       "       [0.43140254],\n",
       "       [0.26442041],\n",
       "       [0.08859103],\n",
       "       [0.05267049],\n",
       "       [0.17119166],\n",
       "       [0.20086501],\n",
       "       [0.85582334],\n",
       "       [0.2596729 ],\n",
       "       [0.65240276],\n",
       "       [0.0973319 ],\n",
       "       [0.18648167],\n",
       "       [0.65377998],\n",
       "       [0.52155548],\n",
       "       [0.4509911 ],\n",
       "       [0.48637947],\n",
       "       [0.02482974],\n",
       "       [0.08986918],\n",
       "       [0.42839527],\n",
       "       [0.13823436],\n",
       "       [0.3350633 ],\n",
       "       [0.42933731],\n",
       "       [0.94745732],\n",
       "       [0.30541323],\n",
       "       [0.01590981],\n",
       "       [0.59313043],\n",
       "       [0.58372213],\n",
       "       [0.13086323],\n",
       "       [0.71271797],\n",
       "       [0.95502859],\n",
       "       [0.30153893],\n",
       "       [0.80212109],\n",
       "       [0.66043711],\n",
       "       [0.0369717 ],\n",
       "       [0.69543117],\n",
       "       [0.29501967],\n",
       "       [0.6720343 ],\n",
       "       [0.04911598],\n",
       "       [0.08551973],\n",
       "       [0.33468174],\n",
       "       [0.0112343 ],\n",
       "       [0.24491304],\n",
       "       [0.64464221],\n",
       "       [0.88218328],\n",
       "       [0.09873443],\n",
       "       [0.94025076],\n",
       "       [0.6553192 ],\n",
       "       [0.2202384 ],\n",
       "       [0.52502525],\n",
       "       [0.01590425],\n",
       "       [0.50186373],\n",
       "       [0.00900044],\n",
       "       [0.48326976],\n",
       "       [0.45261162],\n",
       "       [0.0262066 ],\n",
       "       [0.62549884],\n",
       "       [0.09251234],\n",
       "       [0.80409905],\n",
       "       [0.08898544],\n",
       "       [0.64793798],\n",
       "       [0.88444383],\n",
       "       [0.97713252],\n",
       "       [0.79724608],\n",
       "       [0.11440103],\n",
       "       [0.43718232],\n",
       "       [0.50260567],\n",
       "       [0.58786219],\n",
       "       [0.91184174],\n",
       "       [0.42899141],\n",
       "       [0.86430732],\n",
       "       [0.2620788 ],\n",
       "       [0.23821159],\n",
       "       [0.52740539],\n",
       "       [0.70522882],\n",
       "       [0.51611444],\n",
       "       [0.24270762],\n",
       "       [0.38540389],\n",
       "       [0.43211611],\n",
       "       [0.70176516],\n",
       "       [0.73100072],\n",
       "       [0.60408785],\n",
       "       [0.60068085],\n",
       "       [0.70478893],\n",
       "       [0.42235048],\n",
       "       [0.89741217],\n",
       "       [0.9453707 ],\n",
       "       [0.78881295],\n",
       "       [0.04654861],\n",
       "       [0.01759066],\n",
       "       [0.05789461],\n",
       "       [0.56765248],\n",
       "       [0.07277301],\n",
       "       [0.86704655],\n",
       "       [0.59611162]])"
      ]
     },
     "execution_count": 5,
     "metadata": {},
     "output_type": "execute_result"
    }
   ],
   "source": [
    "variance = np.random.rand(100,1)\n",
    "\n",
    "for m in range(0,100):\n",
    "    variance[m] == np.var(M[m,:])\n",
    "variance"
   ]
  },
  {
   "cell_type": "code",
   "execution_count": 6,
   "metadata": {},
   "outputs": [],
   "source": [
    "e1 = np.ones((100,1))"
   ]
  },
  {
   "cell_type": "code",
   "execution_count": 7,
   "metadata": {},
   "outputs": [],
   "source": [
    "# this is a function which calculates the mean of a row\n",
    "\n",
    "def mymean(M,m):\n",
    "    e1 = np.ones((100,1))\n",
    "    return (1/float(np.size(M[0,:])))*np.matmul(M,e1)[m]"
   ]
  },
  {
   "cell_type": "code",
   "execution_count": 8,
   "metadata": {},
   "outputs": [
    {
     "data": {
      "text/plain": [
       "array([0.07138787])"
      ]
     },
     "execution_count": 8,
     "metadata": {},
     "output_type": "execute_result"
    }
   ],
   "source": [
    "mymean(M,1)\n"
   ]
  },
  {
   "cell_type": "code",
   "execution_count": 9,
   "metadata": {},
   "outputs": [
    {
     "data": {
      "text/plain": [
       "array([[-0.2014931 ],\n",
       "       [ 0.07138787],\n",
       "       [-0.08045353],\n",
       "       [ 0.0278096 ],\n",
       "       [ 0.2114712 ],\n",
       "       [ 0.02645119],\n",
       "       [ 0.03847795],\n",
       "       [-0.06005068],\n",
       "       [ 0.01656029],\n",
       "       [-0.01198721],\n",
       "       [ 0.0275464 ],\n",
       "       [-0.01426693],\n",
       "       [ 0.09411022],\n",
       "       [ 0.00323261],\n",
       "       [-0.05045403],\n",
       "       [ 0.0232174 ],\n",
       "       [ 0.03142576],\n",
       "       [ 0.05549228],\n",
       "       [-0.0535376 ],\n",
       "       [-0.12495016],\n",
       "       [ 0.08714353],\n",
       "       [ 0.13905612],\n",
       "       [-0.01517649],\n",
       "       [ 0.01372807],\n",
       "       [ 0.05150085],\n",
       "       [ 0.04937835],\n",
       "       [-0.09993733],\n",
       "       [ 0.08930043],\n",
       "       [ 0.13207786],\n",
       "       [ 0.0788314 ],\n",
       "       [-0.11701451],\n",
       "       [-0.03551847],\n",
       "       [-0.25296113],\n",
       "       [ 0.13804178],\n",
       "       [ 0.06905129],\n",
       "       [ 0.01377634],\n",
       "       [ 0.01552309],\n",
       "       [-0.08304702],\n",
       "       [-0.06469777],\n",
       "       [ 0.06127955],\n",
       "       [-0.18056662],\n",
       "       [ 0.05392186],\n",
       "       [ 0.1940571 ],\n",
       "       [-0.1294681 ],\n",
       "       [-0.00733231],\n",
       "       [-0.12204895],\n",
       "       [-0.13104514],\n",
       "       [ 0.01302774],\n",
       "       [-0.01274271],\n",
       "       [ 0.12223483],\n",
       "       [-0.10208537],\n",
       "       [ 0.03637095],\n",
       "       [-0.01685488],\n",
       "       [ 0.17010034],\n",
       "       [ 0.11647204],\n",
       "       [-0.21920056],\n",
       "       [-0.01490253],\n",
       "       [ 0.12975504],\n",
       "       [ 0.0022312 ],\n",
       "       [-0.06865563],\n",
       "       [-0.00085215],\n",
       "       [ 0.06470378],\n",
       "       [-0.00034737],\n",
       "       [ 0.10361229],\n",
       "       [-0.25291487],\n",
       "       [-0.03499965],\n",
       "       [ 0.18258271],\n",
       "       [ 0.10056708],\n",
       "       [-0.06393712],\n",
       "       [ 0.01082023],\n",
       "       [-0.11270544],\n",
       "       [-0.04070374],\n",
       "       [ 0.20717077],\n",
       "       [ 0.19035027],\n",
       "       [-0.08363368],\n",
       "       [-0.11298007],\n",
       "       [ 0.09660015],\n",
       "       [-0.17682792],\n",
       "       [ 0.00146219],\n",
       "       [-0.17907303],\n",
       "       [ 0.09699432],\n",
       "       [-0.12781532],\n",
       "       [-0.02667291],\n",
       "       [ 0.14733906],\n",
       "       [-0.08876638],\n",
       "       [ 0.0314653 ],\n",
       "       [-0.00739052],\n",
       "       [ 0.01615119],\n",
       "       [-0.22707822],\n",
       "       [-0.01814674],\n",
       "       [-0.01306351],\n",
       "       [-0.0855481 ],\n",
       "       [ 0.07532745],\n",
       "       [-0.13368089],\n",
       "       [ 0.1397448 ],\n",
       "       [-0.01703971],\n",
       "       [-0.1322335 ],\n",
       "       [ 0.03008885],\n",
       "       [-0.08923122],\n",
       "       [ 0.05548544]])"
      ]
     },
     "execution_count": 9,
     "metadata": {},
     "output_type": "execute_result"
    }
   ],
   "source": [
    "# Here we calculate the mean of each row\n",
    "\n",
    "(1/float(np.size(M[0,:])))*np.matmul(M,e1)"
   ]
  },
  {
   "cell_type": "code",
   "execution_count": 10,
   "metadata": {},
   "outputs": [
    {
     "data": {
      "text/plain": [
       "array([[-0.30855405, -0.04004707, -0.42008142, ...,  0.34718072,\n",
       "        -0.35034948,  0.04236192],\n",
       "       [-0.04325505,  0.13206451, -0.04057098, ...,  0.50476592,\n",
       "        -0.3055831 ,  0.08185324],\n",
       "       [ 0.22699708, -0.00341243,  0.25853999, ..., -0.15232008,\n",
       "         0.15225465, -0.22784637],\n",
       "       ...,\n",
       "       [ 0.45646992,  0.10559738,  0.42943755, ..., -0.35326311,\n",
       "         0.29153283, -0.36022302],\n",
       "       [ 0.04151844, -0.09467753,  0.113017  , ..., -0.50169199,\n",
       "         0.29997853, -0.04209271],\n",
       "       [ 0.12840861,  0.11133958,  0.12032907, ..., -0.09596665,\n",
       "         0.05523821, -0.08357051]])"
      ]
     },
     "execution_count": 10,
     "metadata": {},
     "output_type": "execute_result"
    }
   ],
   "source": [
    "# (5) Calculate the inverse matrix M^{−1}\n",
    "\n",
    "Minv = np.linalg.inv(M)\n",
    "Minv"
   ]
  },
  {
   "cell_type": "code",
   "execution_count": 11,
   "metadata": {},
   "outputs": [
    {
     "data": {
      "text/plain": [
       "array([[ 1.00000000e+00,  2.60074664e-15,  5.40108603e-16, ...,\n",
       "         1.33226763e-15, -2.22044605e-15, -7.21644966e-16],\n",
       "       [ 1.04974468e-16,  1.00000000e+00,  4.94069779e-16, ...,\n",
       "        -3.88578059e-16,  6.10622664e-16,  2.22044605e-16],\n",
       "       [ 1.01736921e-15,  7.08261831e-15,  1.00000000e+00, ...,\n",
       "         6.21724894e-15,  5.32907052e-15, -1.25767452e-15],\n",
       "       ...,\n",
       "       [ 2.80092681e-15,  3.52355856e-15, -3.91461099e-17, ...,\n",
       "         1.00000000e+00, -1.11022302e-15, -3.83026943e-15],\n",
       "       [ 1.11022302e-15, -8.88178420e-16,  2.22044605e-16, ...,\n",
       "         1.66533454e-16,  1.00000000e+00, -5.55111512e-16],\n",
       "       [ 3.88578059e-16,  1.77635684e-15,  2.22044605e-15, ...,\n",
       "         2.22044605e-15,  2.85882429e-15,  1.00000000e+00]])"
      ]
     },
     "execution_count": 11,
     "metadata": {},
     "output_type": "execute_result"
    }
   ],
   "source": [
    "# (6) Verify that M^{−1}M = MM^{−1} = I. \n",
    "# Are the off-diagonal elements exactly 0, why?\n",
    "\n",
    "I = np.matmul(M,Minv)\n",
    "I\n"
   ]
  },
  {
   "cell_type": "code",
   "execution_count": 12,
   "metadata": {},
   "outputs": [
    {
     "data": {
      "text/plain": [
       "100.0"
      ]
     },
     "execution_count": 12,
     "metadata": {},
     "output_type": "execute_result"
    }
   ],
   "source": [
    "test = 0 # A simple test (not really conclusive)\n",
    "\n",
    "for i in range(0,100):\n",
    "     test += I[i,i]\n",
    "test"
   ]
  },
  {
   "cell_type": "markdown",
   "metadata": {},
   "source": [
    "__Are the off-diagonal elements exactly 0, why?__\n",
    "\n",
    "The elements which are not in the diagonal are not exactly zero. We are using 'floating' variables. When you perform matrix multiplication, the algorithm is rounding the results (you have limited precision and limited resources - memory). For that reason you don't have zeros in the off-diagonal positions of this matrix, but you have some numbers that are close to zero.\n"
   ]
  },
  {
   "cell_type": "markdown",
   "metadata": {},
   "source": [
    "## 2 Probability Distribution\n",
    "\n",
    "You have recently joined a data science team and working on a project that needs to simulate 5 types of distributions (Bernoulli, Poisson, Gaussian, uniform and Rolling-Dice distribution). Your teammate provides you with a simulated data sample __\"sample_trials.csv\"__. In the file, each column contains 5000 numbers drawn from one of the 5 distributions. However, the columns are not labeled properly and you have to figure out the labels yourself as your teammate is on vacation.\n",
    "\n",
    "(1) Do the columns have discrete value or continuous value? How many unique values does each column have?\n",
    "\n",
    "(2) What are the min, max, mean, variance of the columns?\n",
    "\n",
    "(3) Investigate the distribution of each column by plotting the histograms. Make sure you choose the bin size properly.\n",
    "\n",
    "(4) Based on the analysis above, label each column with the distribution name and explain why.\n",
    "\n",
    "(5) Knowing the mean, variance, write down the formulas of the distributions.\n",
    "\n",
    "(6) Simulate another 5000 samples of Bernoulli distribution with the same set of parameters. Write it into a text file."
   ]
  },
  {
   "cell_type": "code",
   "execution_count": 13,
   "metadata": {},
   "outputs": [
    {
     "data": {
      "text/plain": [
       "array([[ 0.        ,  3.        ,  0.36362867, -1.40713219,  1.        ],\n",
       "       [ 1.        ,  4.        ,  0.26304612,  0.41229043,  1.        ],\n",
       "       [ 3.        ,  4.        ,  0.3943678 , -1.19853606,  1.        ],\n",
       "       ...,\n",
       "       [ 1.        ,  3.        ,  0.67161194, -0.33284874,  1.        ],\n",
       "       [ 0.        ,  3.        ,  0.33100578, -1.64358573,  1.        ],\n",
       "       [ 2.        ,  5.        ,  0.77263561, -0.24055526,  1.        ]])"
      ]
     },
     "execution_count": 13,
     "metadata": {},
     "output_type": "execute_result"
    }
   ],
   "source": [
    "# First we load the dataset\n",
    "\n",
    "import numpy as np\n",
    "\n",
    "sample = np.loadtxt(open(\"sample_trials.csv\",\"rb\"), delimiter = \",\")\n",
    "sample"
   ]
  },
  {
   "cell_type": "code",
   "execution_count": 14,
   "metadata": {},
   "outputs": [],
   "source": [
    "# (1) Do the columns have discrete value or continuous value? \n",
    "# How many unique values does each column have?"
   ]
  },
  {
   "cell_type": "code",
   "execution_count": 15,
   "metadata": {},
   "outputs": [
    {
     "data": {
      "text/plain": [
       "array([0., 1., 3., ..., 1., 0., 2.])"
      ]
     },
     "execution_count": 15,
     "metadata": {},
     "output_type": "execute_result"
    }
   ],
   "source": [
    "sample[:,0]"
   ]
  },
  {
   "cell_type": "code",
   "execution_count": 16,
   "metadata": {},
   "outputs": [
    {
     "data": {
      "text/plain": [
       "(5000, 5)"
      ]
     },
     "execution_count": 16,
     "metadata": {},
     "output_type": "execute_result"
    }
   ],
   "source": [
    "sample.shape"
   ]
  },
  {
   "cell_type": "code",
   "execution_count": 17,
   "metadata": {},
   "outputs": [
    {
     "data": {
      "text/plain": [
       "array([1., 1., 1., ..., 1., 1., 1.])"
      ]
     },
     "execution_count": 17,
     "metadata": {},
     "output_type": "execute_result"
    }
   ],
   "source": [
    "sample[:,4]"
   ]
  },
  {
   "cell_type": "markdown",
   "metadata": {},
   "source": [
    "(1) Do the columns have discrete value or continuous value? \n",
    "\n",
    "From the mathematical viewpoint some colums are discrete variables and other columns are continuous. From the computer science point of view all the values are floats.\n"
   ]
  },
  {
   "cell_type": "code",
   "execution_count": 18,
   "metadata": {},
   "outputs": [
    {
     "name": "stdout",
     "output_type": "stream",
     "text": [
      "9\n",
      "6\n",
      "5000\n",
      "5000\n",
      "2\n"
     ]
    }
   ],
   "source": [
    "# How many unique values does each column have?\n",
    "\n",
    "import pandas as pd\n",
    "\n",
    "for i in range(0,5):  # range covers from 0 to n-1 inclusive if we write range(0,n)\n",
    "    print(np.size(pd.unique(sample[:,i])))\n",
    "    "
   ]
  },
  {
   "cell_type": "code",
   "execution_count": 19,
   "metadata": {},
   "outputs": [],
   "source": [
    "# (2) What are the min, max, mean, variance of the columns?\n",
    "\n",
    "MAX = 5*[0]\n",
    "MIN = 5*[0]\n"
   ]
  },
  {
   "cell_type": "code",
   "execution_count": 20,
   "metadata": {},
   "outputs": [
    {
     "data": {
      "text/plain": [
       "[0.0, 1.0, 0.00037136174624674556, -4.453981228831423, 0.0]"
      ]
     },
     "execution_count": 20,
     "metadata": {},
     "output_type": "execute_result"
    }
   ],
   "source": [
    "# minimum of the columns\n",
    "\n",
    "for i in range(0,5):\n",
    "    MIN[i] = np.min(sample[:,i])\n",
    "MIN"
   ]
  },
  {
   "cell_type": "code",
   "execution_count": 21,
   "metadata": {},
   "outputs": [
    {
     "data": {
      "text/plain": [
       "[8.0, 6.0, 0.9998915976210577, 3.810686879834815, 1.0]"
      ]
     },
     "execution_count": 21,
     "metadata": {},
     "output_type": "execute_result"
    }
   ],
   "source": [
    "# maximum of each column\n",
    "\n",
    "for i in range(0,5):\n",
    "    MAX[i] = np.max(sample[:,i])\n",
    "MAX\n"
   ]
  },
  {
   "cell_type": "code",
   "execution_count": 22,
   "metadata": {},
   "outputs": [
    {
     "data": {
      "text/plain": [
       "[1.9898, 3.5028, 0.49743933618608815, 0.025130676760924172, 0.305]"
      ]
     },
     "execution_count": 22,
     "metadata": {},
     "output_type": "execute_result"
    }
   ],
   "source": [
    "# mean of each column\n",
    "\n",
    "mean_col = 5*[0]\n",
    "\n",
    "for i in range(0,5):\n",
    "    mean_col[i] = np.mean(sample[:,i]) \n",
    "mean_col"
   ]
  },
  {
   "cell_type": "code",
   "execution_count": 23,
   "metadata": {},
   "outputs": [
    {
     "data": {
      "text/plain": [
       "[1.9616959600000001,\n",
       " 2.90839216,\n",
       " 0.08355261995766033,\n",
       " 0.9953101806208575,\n",
       " 0.211975]"
      ]
     },
     "execution_count": 23,
     "metadata": {},
     "output_type": "execute_result"
    }
   ],
   "source": [
    "# variance of each column\n",
    "\n",
    "var_col = 5*[0]\n",
    "\n",
    "for i in range(0,5):\n",
    "    var_col[i] = np.var(sample[:,i]) \n",
    "var_col"
   ]
  },
  {
   "cell_type": "markdown",
   "metadata": {},
   "source": [
    "(3) Investigate the distribution of each column by plotting the histograms. Make sure you choose the bin size properly.\n",
    "\n",
    "__Steps to plot histograms__\n",
    "\n",
    "1. Discrete variables\n",
    "\n",
    "1.1. Count the number of different values\n",
    "1.2  The number of bins is given by 1.1\n",
    "\n",
    "2. Continuous variables\n",
    "\n",
    "2.1 Count the number of different values in the intervals ... [-2,1.5),[1.5,1),...\n",
    "    (we can adjust the size of the intervals depending on the range max-min)\n",
    "    \n",
    "2.2 The number of bins is given by 2.1"
   ]
  },
  {
   "cell_type": "code",
   "execution_count": 24,
   "metadata": {},
   "outputs": [
    {
     "data": {
      "text/plain": [
       "506"
      ]
     },
     "execution_count": 24,
     "metadata": {},
     "output_type": "execute_result"
    }
   ],
   "source": [
    "# Counting continuous values inside intervals\n",
    "\n",
    "mx = 5*[0]\n",
    "m = 5*[0]\n",
    "l = 0\n",
    "\n",
    "for i in range(0,5):\n",
    "    mx[i] = max(sample[:,i])\n",
    "    m[i] = min(sample[:,i])\n",
    "\n",
    "# A is a lists\n",
    "# a,b are real numbers a <= b\n",
    "\n",
    "def check(A,a,b):\n",
    "    return len(list(x for x in A if a <= x < b)) \n",
    "\n",
    "\n",
    "check(sample[:,2],m[2],m[2]+0.1)\n",
    "\n"
   ]
  },
  {
   "cell_type": "code",
   "execution_count": 25,
   "metadata": {},
   "outputs": [
    {
     "data": {
      "text/plain": [
       "1011"
      ]
     },
     "execution_count": 25,
     "metadata": {},
     "output_type": "execute_result"
    }
   ],
   "source": [
    "check(sample[:,2],m[2],m[2]+2*0.1)\n",
    "\n",
    "# This distribution has the same number of points in each interval. Therefore is uniform.\n",
    "# We can do the same with the other continuous distribution using that the range max-min = 8\n",
    "# we can divide 8 by 0.1 to find the number of points inside each interval of size 0.1"
   ]
  },
  {
   "cell_type": "code",
   "execution_count": 26,
   "metadata": {},
   "outputs": [
    {
     "data": {
      "image/png": "[encoded data removed]",
      "text/plain": [
       "<Figure size 432x288 with 1 Axes>"
      ]
     },
     "metadata": {
      "needs_background": "light"
     },
     "output_type": "display_data"
    }
   ],
   "source": [
    "# (3) Investigate the distribution of each column by plotting the histograms. \n",
    "# Make sure you choose the bin size properly.\n",
    "\n",
    "import matplotlib.pyplot as plt\n",
    "\n",
    "plt.hist(sample[:,0], bins = 9) # here 9 is the number of unique values\n",
    "plt.show()\n",
    "\n"
   ]
  },
  {
   "cell_type": "code",
   "execution_count": 27,
   "metadata": {},
   "outputs": [
    {
     "data": {
      "image/png": "[encoded data removed]",
      "text/plain": [
       "<Figure size 432x288 with 1 Axes>"
      ]
     },
     "metadata": {
      "needs_background": "light"
     },
     "output_type": "display_data"
    }
   ],
   "source": [
    "plt.hist(sample[:,1], bins = 6) # here 6 is the number of unique values\n",
    "plt.show()\n",
    "\n"
   ]
  },
  {
   "cell_type": "code",
   "execution_count": 28,
   "metadata": {},
   "outputs": [
    {
     "data": {
      "image/png": "[encoded data removed]",
      "text/plain": [
       "<Figure size 432x288 with 1 Axes>"
      ]
     },
     "metadata": {
      "needs_background": "light"
     },
     "output_type": "display_data"
    }
   ],
   "source": [
    "plt.hist(sample[:,2], bins = 10) # here 10 is the number of unique values inside intervals of size 0.1\n",
    "plt.show()\n",
    "\n"
   ]
  },
  {
   "cell_type": "code",
   "execution_count": 29,
   "metadata": {},
   "outputs": [
    {
     "data": {
      "image/png": "[encoded data removed]",
      "text/plain": [
       "<Figure size 432x288 with 1 Axes>"
      ]
     },
     "metadata": {
      "needs_background": "light"
     },
     "output_type": "display_data"
    }
   ],
   "source": [
    "plt.hist(sample[:,3], bins =16) # here 15 is the number of unique values inside intervals of size 0.5\n",
    "plt.show()\n"
   ]
  },
  {
   "cell_type": "code",
   "execution_count": 30,
   "metadata": {},
   "outputs": [
    {
     "data": {
      "image/png": "[encoded data removed]",
      "text/plain": [
       "<Figure size 432x288 with 1 Axes>"
      ]
     },
     "metadata": {
      "needs_background": "light"
     },
     "output_type": "display_data"
    }
   ],
   "source": [
    "plt.hist(sample[:,4], bins = 2) # here 2 is the number of unique values\n",
    "plt.show()"
   ]
  },
  {
   "cell_type": "markdown",
   "metadata": {},
   "source": [
    "(4) Based on the analysis above, label each column with \n",
    "the distribution name and explain why.\n",
    "\n",
    "Column 0: Poisson distribution of parameter $\\lambda = 1.9898$\n",
    "\n",
    "Column 1: Die distribution, because there are 6 possible outcomes\n",
    "\n",
    "Column 2: Uniform distribution\n",
    "\n",
    "Column 3: Normal distribution with $\\mu = 0.02$ and $\\sigma = 0.9976523345$\n",
    "\n",
    "Column 4: Bernoulli distribution of parameter $p = 0.305$, because the variable is discrete and there are two possible outcomes.\n",
    "\n",
    "There is something important we should highlight. Random generators are not really random, we should also highlight that there is some fluctuation due to rounding. For instance the mean of the third column is 0.02 or so."
   ]
  },
  {
   "cell_type": "markdown",
   "metadata": {},
   "source": [
    "__(5) Knowing the mean, variance, write down the formulas of the distributions.__\n",
    "\n",
    "\n",
    "The \"zero\" column is a Poisson distribution with parameter $\\lambda = 1.9898$ (I think the parameter is 2, but we are missing precision because the float variable). Let $X$ be a Poisson variable with parameter $\\lambda = 1.9898$, then\n",
    "\n",
    "\n",
    "\\begin{align*}\n",
    "P(X = n) = \\frac{(1.9898)^n e^{-1.9898n}}{n!}.\n",
    "\\end{align*}\n",
    "If we round \n",
    "\\begin{align*}\n",
    "P(X = n) = \\frac{(2)^n e^{-2n}}{n!}.\n",
    "\\end{align*}\n",
    "\n",
    "\n",
    "The first column is a die distribution. Suppose that $Y$ represents the outcome of a die, then \n",
    "\n",
    "\\begin{align*}\n",
    "P(Y = n) = \\frac{1}{6}.\n",
    "\\end{align*}\n",
    "\n",
    "The second column is a uniform distribution over the interval $[0,1]$. If $Z$ is a uniform distribution in the interval $[0,1]$, then\n",
    "\n",
    "\\begin{align*}\n",
    "P(Z = x) = \\int_{0}^{x}1dx= x\n",
    "\\end{align*}\n",
    "where $x \\in [0,1]$. In particular the density function is $f(x) = 1$.\n",
    "\n",
    "The third column, if we round the mean and the variance, follows a standard normal distribution. Suppose that $N$ is a standard normal distribution, then \n",
    "\n",
    "\\begin{align*}\n",
    "P(N = x) = \\frac{1}{\\sqrt{2\\pi}}\\int_{0}^{x}e^{-y^2/2}dy\n",
    "\\end{align*}\n",
    "\n",
    "The last column is a Bernoulli variable of parameter $p = 0.305$. Suppose $B$ is a Bernoulli variable of parameter $p$, then $P(B = 0) = 1-0.305$ and $P(B = 1) = 0.305$."
   ]
  },
  {
   "cell_type": "code",
   "execution_count": 49,
   "metadata": {},
   "outputs": [
    {
     "data": {
      "text/plain": [
       "array([0, 0, 1, ..., 1, 1, 0])"
      ]
     },
     "execution_count": 49,
     "metadata": {},
     "output_type": "execute_result"
    }
   ],
   "source": [
    "# (6) Simulate another 5000 samples of Bernoulli distribution with the same \n",
    "# set of parameters. Write it into a text file.\n",
    "\n",
    "# I guess that p is 0.3 but I got that the expectation is 0.305 because these are float \n",
    "# variables. I don't know if you want us to round the numbers.\n",
    "\n",
    "from scipy.stats import bernoulli\n",
    "\n",
    "bernoulli.rvs(size = 5000,p = 0.305)"
   ]
  }
 ],
 "metadata": {
  "kernelspec": {
   "display_name": "Python 3",
   "language": "python",
   "name": "python3"
  },
  "language_info": {
   "codemirror_mode": {
    "name": "ipython",
    "version": 3
   },
   "file_extension": ".py",
   "mimetype": "text/x-python",
   "name": "python",
   "nbconvert_exporter": "python",
   "pygments_lexer": "ipython3",
   "version": "3.8.3"
  }
 },
 "nbformat": 4,
 "nbformat_minor": 4
}
