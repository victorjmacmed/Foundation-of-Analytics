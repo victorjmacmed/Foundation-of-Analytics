{
 "cells": [
  {
   "cell_type": "markdown",
   "metadata": {},
   "source": [
    "# 1 Optimization I: Linear Regression \n",
    "\n",
    "## 1.1 Single Variable Regression\n",
    "\n",
    "Analyze the data set \"single_variate_optimization.csv\" and understand the relationship between the target variable Y and the predictor X\n",
    "\n",
    "(1) Calculate the variance, standard deviation of $X$ and $Y$\n",
    "\n",
    "(2) Calculate the covariance, correlation coefficient of $X$ and $Y$\n",
    "\n",
    "(3) Using the LinearRegression from sklearn package in python and build a linear regression model $Y ∼ X$, what are $\\beta_0$ and $\\beta_1$?\n",
    "\n",
    "(4) Can you replicate $\\beta_1$ using the calculation from (1) and (2)? How about $\\beta_0$?"
   ]
  },
  {
   "cell_type": "code",
   "execution_count": 169,
   "metadata": {},
   "outputs": [],
   "source": [
    "# (0) loading the data set\n",
    "\n",
    "import pandas as pd\n",
    "import numpy as np\n",
    "import matplotlib.pyplot as plt\n",
    "from sklearn.linear_model import LinearRegression\n",
    "\n",
    "\n",
    "df = pd.read_csv('single_variate_optimization.csv')\n",
    "df.rename(columns = {'# X':'X',' Y':'Y'}, inplace = True) \n"
   ]
  },
  {
   "cell_type": "code",
   "execution_count": 170,
   "metadata": {},
   "outputs": [],
   "source": [
    "# (1) Calculate the variance, standard deviation of X and Y\n",
    "\n",
    "var_x = df.X.var()\n",
    "var_y = df.Y.var()\n",
    "\n",
    "sd_x = np.sqrt(var_x)\n",
    "sd_y = np.sqrt(var_y)\n",
    "\n"
   ]
  },
  {
   "cell_type": "code",
   "execution_count": 171,
   "metadata": {},
   "outputs": [
    {
     "data": {
      "text/plain": [
       "0.9765230658169038"
      ]
     },
     "execution_count": 171,
     "metadata": {},
     "output_type": "execute_result"
    }
   ],
   "source": [
    "# (2) Calculate the covariance, correlation coefficient of X and Y\n",
    "\n",
    "cov_xy = np.mean((df.X-df.X.mean())*(df.Y-df.Y.mean()))\n",
    "\n",
    "r = cov_xy/(sd_x*sd_y) # Correlation coefficient\n",
    "r"
   ]
  },
  {
   "cell_type": "markdown",
   "metadata": {},
   "source": [
    "The correlation coefficient is incredibly close to one, therefore the relation between $X$ and $Y$ is almost linear. The points are all around the regreesion line being very close to it. Notice that"
   ]
  },
  {
   "cell_type": "code",
   "execution_count": 172,
   "metadata": {},
   "outputs": [
    {
     "data": {
      "image/png": "[encoded data removed]",
      "text/plain": [
       "<Figure size 432x288 with 1 Axes>"
      ]
     },
     "metadata": {
      "needs_background": "light"
     },
     "output_type": "display_data"
    }
   ],
   "source": [
    "plt.scatter(df.X.values,df.Y.values)\n",
    "plt.show()"
   ]
  },
  {
   "cell_type": "code",
   "execution_count": 173,
   "metadata": {},
   "outputs": [
    {
     "name": "stdout",
     "output_type": "stream",
     "text": [
      "[array([2.30875957]), 0.9929982700491148]\n"
     ]
    }
   ],
   "source": [
    "# Using the LinearRegression from sklearn package in python and build a \n",
    "# linear regression model $Y ∼ X$, what are $\\beta_0$ and $\\beta_1$?\n",
    "\n",
    "from sklearn import linear_model\n",
    "\n",
    "x = df.X.values.reshape((-1,1))\n",
    "y = df.Y.values\n",
    "\n",
    "reg = linear_model.LinearRegression()\n",
    "reg.fit(x,y)\n",
    "print([reg.coef_, reg.intercept_])\n"
   ]
  },
  {
   "cell_type": "code",
   "execution_count": 174,
   "metadata": {},
   "outputs": [],
   "source": [
    "# (4) Can you replicate β1 using the calculation from (1) and (2)? \n",
    "# How about $\\beta_0$? Yes, I need the mean of X and Y."
   ]
  },
  {
   "cell_type": "markdown",
   "metadata": {},
   "source": [
    "Recall that\n",
    "\n",
    "\\begin{align*}\n",
    "\\beta_1 = r_{xy}\\frac{\\sigma_Y}{\\sigma_X} \\\\\n",
    "\\beta_0 = \\overline{y}-\\beta_1 \\overline{x}\n",
    "\\end{align*}\n",
    "\n",
    "If we calculate these values 'by hand':\n"
   ]
  },
  {
   "cell_type": "code",
   "execution_count": 175,
   "metadata": {},
   "outputs": [
    {
     "data": {
      "text/plain": [
       "2.308297819461404"
      ]
     },
     "execution_count": 175,
     "metadata": {},
     "output_type": "execute_result"
    }
   ],
   "source": [
    "beta1 = r*sd_y/sd_x\n",
    "beta1"
   ]
  },
  {
   "cell_type": "code",
   "execution_count": 176,
   "metadata": {},
   "outputs": [
    {
     "data": {
      "text/plain": [
       "0.9929858677005061"
      ]
     },
     "execution_count": 176,
     "metadata": {},
     "output_type": "execute_result"
    }
   ],
   "source": [
    "beta0 = df.Y.mean()-beta1*df.X.mean() # Here I need to use the mean\n",
    "beta0"
   ]
  },
  {
   "cell_type": "code",
   "execution_count": 177,
   "metadata": {},
   "outputs": [
    {
     "data": {
      "text/plain": [
       "array([-0.00046175])"
      ]
     },
     "execution_count": 177,
     "metadata": {},
     "output_type": "execute_result"
    }
   ],
   "source": [
    "# Error \n",
    "\n",
    "beta1-reg.coef_"
   ]
  },
  {
   "cell_type": "code",
   "execution_count": 178,
   "metadata": {},
   "outputs": [
    {
     "data": {
      "text/plain": [
       "-1.2402348608664404e-05"
      ]
     },
     "execution_count": 178,
     "metadata": {},
     "output_type": "execute_result"
    }
   ],
   "source": [
    "beta0-reg.intercept_"
   ]
  },
  {
   "cell_type": "code",
   "execution_count": 179,
   "metadata": {},
   "outputs": [
    {
     "data": {
      "image/png": "[encoded data removed]",
      "text/plain": [
       "<Figure size 432x288 with 1 Axes>"
      ]
     },
     "metadata": {
      "needs_background": "light"
     },
     "output_type": "display_data"
    }
   ],
   "source": [
    "# Plotting the line and a scatter plot\n",
    "\n",
    "import matplotlib.pyplot as plt\n",
    "\n",
    "y_pred = reg.predict(x)\n",
    "plt.plot(x,y_pred, color = 'red')\n",
    "plt.scatter(x,y)\n",
    "plt.show()\n"
   ]
  },
  {
   "cell_type": "markdown",
   "metadata": {},
   "source": [
    "## 1.2 Multivariate Regression\n",
    "\n",
    "Analyze the data set \"multi_variate_optimization.csv\" and understand the relationship between the tar- get variable Y and the predictor $X$s\n",
    "\n",
    "(1) Using the LinearRegression from sklearn package in python and build a linear regression model $Y ∼ X$, what are the $\\beta$'s?\n",
    "\n",
    "\n",
    "(2) Caculate the $\\beta$'s using the algorithm that we derived in class. hint: $\\hat{\\beta} = (X^TX)^{-1}X^TY$. Make sure you replicate $\\beta_0$."
   ]
  },
  {
   "cell_type": "code",
   "execution_count": 180,
   "metadata": {},
   "outputs": [
    {
     "data": {
      "text/plain": [
       "<mpl_toolkits.mplot3d.art3d.Path3DCollection at 0x7fe0b2f11d30>"
      ]
     },
     "execution_count": 180,
     "metadata": {},
     "output_type": "execute_result"
    },
    {
     "data": {
      "image/png": "[encoded data removed]",
      "text/plain": [
       "<Figure size 432x288 with 1 Axes>"
      ]
     },
     "metadata": {
      "needs_background": "light"
     },
     "output_type": "display_data"
    }
   ],
   "source": [
    "# (0) Loading the dataset\n",
    "\n",
    "df2 = pd.read_csv('multi_variate_optimization.csv')\n",
    "df2.rename(columns = {'# X1':'X1',' X2':'X2',' X3':'X3',' Y':'Y'}, inplace = True)\n",
    "\n",
    "# This lives in a 4 dimensional space, we can only plot a triple\n",
    "\n",
    "ax = plt.axes(projection='3d')\n",
    "ax.scatter3D(df2.X1.values,df2.X2.values,df2.Y.values)"
   ]
  },
  {
   "cell_type": "code",
   "execution_count": 181,
   "metadata": {},
   "outputs": [
    {
     "name": "stdout",
     "output_type": "stream",
     "text": [
      "[array([3.90481328, 1.19976052, 4.57225211]), 5.004780479291684]\n"
     ]
    }
   ],
   "source": [
    "# (1) Using the LinearRegression from sklearn package in python and build\n",
    "# a linear regression model Y~X, what are the beta's?\n",
    "\n",
    "X = df2[['X1','X2','X3']].values\n",
    "df2['ones'] = np.ones(np.size(X[:,0]))\n",
    "X_t = df2[['ones','X1','X2','X3']].values\n",
    "Y = df2['Y'].values\n",
    "\n",
    "reg = linear_model.LinearRegression()\n",
    "reg.fit(X,Y)\n",
    "print([reg.coef_, reg.intercept_])\n"
   ]
  },
  {
   "cell_type": "code",
   "execution_count": 182,
   "metadata": {},
   "outputs": [
    {
     "data": {
      "text/plain": [
       "array([5.00478048, 3.90481328, 1.19976052, 4.57225211])"
      ]
     },
     "execution_count": 182,
     "metadata": {},
     "output_type": "execute_result"
    }
   ],
   "source": [
    "# (2) Caculate the $\\beta$'s using the algorithm that we derived in class. \n",
    "# hint: $\\hat{\\beta} = (X^TX)^{-1}X^TY$. Make sure you replicate $\\beta_0$.\n",
    "\n",
    "np.matmul(np.linalg.inv(np.matmul(np.transpose(X_t),X_t)),np.matmul(np.transpose(X_t),Y))\n",
    "\n",
    "# X_t has a column of ones at the first colum, the result below\n",
    "# is beta_0, beta_1,beta_2,beta_3."
   ]
  },
  {
   "cell_type": "markdown",
   "metadata": {},
   "source": [
    "# Optimization II: Logistic Regression\n",
    "\n",
    "Analyze the data set \"logistic_regression_optimization.csv\" and understand the relationship between the target variable Y and the predictor Xs\n",
    "\n",
    "\n",
    "(1) Using the LogisticRegression from sklearn package in python and build a logistic regression model $Y \\sim X$, what are the $\\beta$'s? Hint: make sure that you set the regularization parameter to be large e.g. C = 1e4. See the code below for your reference\n",
    "\n",
    "from sklearn.linear_model import LogisticRegression logisticRegr = LogisticRegression(C=1e4)\n",
    "\n",
    "(2) Calculate $\\beta$'s using Newton-Raphson method. Hint: initialize $\\beta$'s with some random values e.g. 0.1. Update $\\beta$'s using the formula below until $\\beta$ converges, i.e. stop updating when the minimum value of $\\Delta \\beta$ is less than $\\delta = 1e−15$. How are your $\\beta$'s compare to what you got in question (1)?"
   ]
  },
  {
   "cell_type": "code",
   "execution_count": 183,
   "metadata": {},
   "outputs": [
    {
     "name": "stdout",
     "output_type": "stream",
     "text": [
      "[array([[3.8338663 , 1.19918226, 4.52602262]]), array([-4.92798701])]\n"
     ]
    }
   ],
   "source": [
    "# Loading the data set\n",
    "\n",
    "data = pd.read_csv('logistic_regression_optimization.csv')\n",
    "data.rename(columns = {'# X1':'X1',' X2':'X2',' X3':'X3',' Y':'Y'}, inplace = True) \n",
    "\n",
    "X = data[['X1','X2','X3']].values\n",
    "Y = data.Y.values.reshape(5000,1)\n",
    "\n",
    "# λ is the regularization parameter. It controls the \n",
    "# the relation between two goals: fitting the training data well \n",
    "# vs keeping the params small to avoid overfitting.\n",
    "\n",
    "# In this case C = 1/lambda.\n",
    "\n",
    "# Solving part 1 using sciklearn\n",
    "\n",
    "from sklearn.linear_model import LogisticRegression \n",
    "\n",
    "lr = LogisticRegression(C = 1e4)\n",
    "lr.fit(X,Y.reshape(Y.size))\n",
    "\n",
    "print([logisticRegr.coef_,logisticRegr.intercept_])\n",
    "\n",
    "# Testing the previos result - comparing probabilities with the real Y.\n",
    "\n",
    "#ones = np.ones(5000)\n",
    "#l1 = logisticRegr.coef_\n",
    "#l2 = logisticRegr.intercept_\n",
    "#X = np.column_stack([ones,X])\n",
    "#bt = np.column_stack([l1,l2])\n",
    "#\n",
    "# p = 1/(1+np.exp(-np.matmul(X,bt.reshape(-1,1)))) # probabilities at each iteration\n",
    "# for i in range(0,len(p)):\n",
    "#    print(np.around(p)[i],Y[i]) \n"
   ]
  },
  {
   "cell_type": "code",
   "execution_count": 184,
   "metadata": {},
   "outputs": [
    {
     "data": {
      "text/plain": [
       "array([[-4.92801398,  3.8338874 ,  1.19918903,  4.52605093]])"
      ]
     },
     "execution_count": 184,
     "metadata": {},
     "output_type": "execute_result"
    }
   ],
   "source": [
    "# solving part 2 using 'Newton-Raphson algorithm'\n",
    "\n",
    "X = data[['X1','X2','X3']].values\n",
    "Y = data.Y.values.reshape(5000,1)\n",
    "\n",
    "ones = np.ones(5000)\n",
    "X = np.column_stack([ones,X]) # We a 'one column' -> considering beta_0\n",
    "\n",
    "\n",
    "beta = np.array([0.1,0.1,0.1,0.1]).reshape(-1,1) # initial beta - transpose - reshape(-1,1)\n",
    "Deltabeta = np.array([0.1,0.1,0.1,0.1]).reshape(-1,1) # The initial Deltabeta should be bigger than your while-condition\n",
    "\n",
    "while np.max(np.abs(Deltabeta))>1e-15:\n",
    "       p = 1/(1+np.exp(-np.matmul(X,beta))) # probabilities at each iteration\n",
    "       W = np.diag(np.multiply(p,(1-p))[:,0]) # matrices in the decomposition\n",
    "       XtY = np.matmul(X.T,(Y-p))\n",
    "       XtWX = np.matmul(np.matmul(X.T,W),X)\n",
    "       Deltabeta = np.matmul(np.linalg.inv(XtWX),XtY)\n",
    "       beta = beta + Deltabeta\n",
    "beta.T"
   ]
  },
  {
   "cell_type": "markdown",
   "metadata": {},
   "source": [
    "The values are the same for both methods. There is an important remark here. When modelling with intercept we have to add a 'one' column to the matrix X. If we don't do this, the results will be different.\n"
   ]
  }
 ],
 "metadata": {
  "kernelspec": {
   "display_name": "Python 3",
   "language": "python",
   "name": "python3"
  },
  "language_info": {
   "codemirror_mode": {
    "name": "ipython",
    "version": 3
   },
   "file_extension": ".py",
   "mimetype": "text/x-python",
   "name": "python",
   "nbconvert_exporter": "python",
   "pygments_lexer": "ipython3",
   "version": "3.8.3"
  }
 },
 "nbformat": 4,
 "nbformat_minor": 4
}
