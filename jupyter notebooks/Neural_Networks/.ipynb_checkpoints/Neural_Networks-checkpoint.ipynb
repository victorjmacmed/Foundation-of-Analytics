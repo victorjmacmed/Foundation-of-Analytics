{
 "cells": [
  {
   "cell_type": "markdown",
   "metadata": {},
   "source": [
    "# Artificial Neural Networks\n",
    "\n",
    "Artificial intelligence \n",
    "\n",
    "1. NLP (Natural Language Processing),\n",
    "2. Computer vision (Faces, object recognition, ...),\n",
    "3. Uses: stock market, medical/health care. \n",
    "\n",
    "Three types: ResNet, LSTM, Convolution Neural Network CNN. \n",
    "\n",
    "## Real networks: how do they work?\n",
    "\n",
    "Parts: soma, dendrites (receive information), axons (carry information and sends to other neurons).\n",
    "Neurons work using electric signals. There are voltage variations. \n",
    "\n",
    "## Artificial neural networks\n",
    "\n",
    "Artificial neurons are able to receive information. Then the neuron perform a calculation and gives a result. \n",
    "This involves an activation function. \n",
    "\n",
    "<img src=\"neuron.png\" alt=\"Neuron\" width=\"500\" height=\"600\">\n",
    "\n",
    "The neuron use the weights $w_i$ to calculate $z = \\sum_{i=1}^{n}w_i x_i$, where $x_i$ is the input. \n",
    "Now we apply the activation function $\\sigma$ to $z$ getting this way that\n",
    "\n",
    "$$\\sigma(z) = \\sigma\\left( \\sum_{i=1}^{n}w_i x_i\\right),$$\n",
    "\n",
    "The model adjust the weights to the data set. There are different activations functions as the sigmoid, etc. \n",
    "We can also consider a function $\\sigma(z)$ which takes the value 1 when $z \\geq 0$ and the value $0$ when $z < 0$.\n",
    "There is another typical activation function ReLu where $\\sigma(z)$ is $z$ when $z > 0$ and $0$ otherwise. \n",
    "\n",
    "<img src=\"network.png\" alt=\"One layer Neural Network\" width=\"250\" height=\"300\">\n",
    "\n",
    "Here you can see a neural network with one layer and several neurons. We can have neural networks with several layers.\n",
    "\n",
    "## Binary classification using neural networks\n",
    "\n",
    "We want to know if an application, to certain university, will be accepted or not.\n",
    "\n",
    "<img src=\"application.png\" alt=\"Application matrix\" width=\"250\" height=\"300\">\n",
    "\n",
    "In this case we will use the logistic function $p = \\frac{1}{1+\\exp(-x \\cdot \\beta)}$. The output of this neural network is the probability of being accepted by certain university. If we use the logistic function this is equivalent to logistic regression.\n",
    "\n",
    "<img src=\"logistic.png\" alt=\"Application matrix\" width=\"250\" height=\"300\">\n",
    "\n",
    "In general we have an 'output layer' which is at the end of our neural network. Deep neural network are composed by a lot of layers.\n",
    "\n",
    "## Gradient descent\n",
    "\n",
    "<img src=\"deep.png\" alt=\"Application matrix\" width=\"250\" height=\"300\">\n",
    "\n",
    "Suppose we build a neural network with multiple layers and an output layer at the end. We can to solve a classification problem, then \n",
    "\n",
    "$$p = \\sigma(\\sum_{i=1}^{n}w_{i}^{n-1}\\sigma(\\dots)).$$\n",
    "\n",
    "We should compose the activation function several times, and evaluate in the proper values. Our likelihood function is\n",
    "$$L = \\prod_{i=1}^{N} p_i^{y_i}(1-p_i)^{1-y_i}.$$\n",
    "We want to maximize the likelihood function. To do this we use the log-likelihood function $l$.\n",
    "\n",
    "We want to do this in a computational way, therefore we need to introduce an algorithm in order to maximize this function. In this case we will use gradient descent. We want to minimize the error and maximize the likelihood function. Recall that the weights are not defined a priori, we need to adjust these weights to our data set.\n",
    "\n",
    "We have the cost function $C = -l$, we want to minimize $C$. If we minimize $C$ we are maximizing $l$ and therefore $L$.\n",
    "\n",
    "We want to find the weights which minimizes the $C$ function. \n",
    "\n",
    "<img src=\"Gradient.png\" alt=\"Application matrix\" width=\"250\" height=\"300\">\n",
    "\n",
    "We want to arrive to the minimum step by step (for that reason this is an algorithm). First we start in any point $w_1$, then we calculate the slope at that point. If the slope is positive we move to the left, if the slope is negative we move to the right (we choose other point using the tangent line, plane etc. This is similar to Newton-Raphson).  \n",
    "\n",
    "## Stochastic Gradient Descent \n",
    "\n",
    "We want to calculate the weights in our neural network. This is a dinamical process where we have several layers dependent on the previous ones.\n",
    "\n",
    "How to update the weights $w$?\n",
    "\n",
    "1. Update weights by using $\\nabla_{w}C$ of one data point\n",
    "2. Update weights by using the average of $\\sum_{i}\\nabla_{w}C_i$\n",
    "3. Update $w$ by taking the average of $\\sum_{i}\\nabla_{w}C_i/m$. Here we divide the weights into mini-batchs. \n",
    "   We adjust a particular group of weights, and then we switch to the next one etc. Here we use $N/m$ iterations      where $m$ is the number of weights on each mini-batchs (we divide the weights into groups)\n",
    "\n",
    "## Backpropagation \n",
    "\n",
    "How do we calculate the gradient of the cost function against all the weights in our neural network?\n",
    "\n",
    "To calculate the partial derivatives of each $z_k^{l} = \\sum_{j=1}^{n}w_{kj}^{l-1}a_j^{l-1}$, we need to use the chain rule. If we write a function $f(z_1^{l}, \\dots, z_n^{l})$, then we need to use the chain rule to calculate the partial derivatives. Notice that the cost function depends on these $z$ variables, therefore we should follow the same approach than with $f$.\n",
    "\n",
    "This is called back propagration becasue the k,l partial derivative depends on the l+1,m partial derivative. Therefore we get the previous partial derivative from the next partial derivative.\n",
    "\n",
    "We have\n",
    "\n",
    "$$\\frac{\\partial C}{\\partial z_k^{l}} = \\sum_{m} \\frac{\\partial C}{\\partial_{m}^{l+1}}w_{mk}^{l}\\sigma'(z_k^{l}).$$\n",
    "\n",
    "For the mathematical details read Pattern Recognition and Machine Learning from C. Bishop."
   ]
  },
  {
   "cell_type": "markdown",
   "metadata": {},
   "source": [
    "## Implementing NN for binary classification"
   ]
  },
  {
   "cell_type": "code",
   "execution_count": 10,
   "metadata": {},
   "outputs": [],
   "source": [
    "import pandas as pd\n",
    "import tensorflow as tf\n",
    "import numpy as np\n",
    "from tensorflow.keras import layers\n",
    "from sklearn.metrics import roc_auc_score, accuracy_score\n",
    "from sklearn.linear_model import LogisticRegression\n",
    "\n",
    "logData = pd.read_csv(\"logistic_regression_optimization.csv\")"
   ]
  },
  {
   "cell_type": "code",
   "execution_count": 3,
   "metadata": {},
   "outputs": [],
   "source": [
    "x = logData.iloc[:,0:-1].values\n",
    "y = logData.iloc[:,-1:]"
   ]
  },
  {
   "cell_type": "code",
   "execution_count": 5,
   "metadata": {},
   "outputs": [
    {
     "name": "stdout",
     "output_type": "stream",
     "text": [
      "[array([[3.83389295, 1.1991905 , 4.52605611]]), array([-4.92802048])]\n"
     ]
    },
    {
     "name": "stderr",
     "output_type": "stream",
     "text": [
      "/Users/victormaciamedina/Library/Python/3.8/lib/python/site-packages/sklearn/utils/validation.py:744: DataConversionWarning: A column-vector y was passed when a 1d array was expected. Please change the shape of y to (n_samples, ), for example using ravel().\n",
      "  y = column_or_1d(y, warn=True)\n"
     ]
    }
   ],
   "source": [
    "clf = LogisticRegression(penalty ='none', solver = 'lbfgs').fit(x,y) # build a logistic regression model\n",
    "print([clf.coef_, clf.intercept_])"
   ]
  },
  {
   "cell_type": "markdown",
   "metadata": {},
   "source": [
    "# Logistic regression with a single neuron\n",
    "\n",
    "## Theoretical part.\n",
    "\n",
    "$$p = a = \\frac{1}{1+\\exp{-(w_0+w_1x_1+w_2x_2+w_3x_3)}}$$\n",
    "\n",
    "Loss function: binary_crossentropy which is\n",
    "\n",
    "$$L = - \\sum_{i=1}^{N} (y^{i}log(a^ i)+(1-y^{i})log(1-a^{i}))$$\n",
    "\n",
    "which is equivalent to the geometric likelihood function except for a negative sign. "
   ]
  },
  {
   "cell_type": "code",
   "execution_count": 12,
   "metadata": {},
   "outputs": [],
   "source": [
    "model = tf.keras.Sequential() # start a sequential neuron\n",
    "model.add(layers.Dense(1, input_shape = (3,), use_bias = True, activation = 'sigmoid'))\n",
    "model.compile(optimizer = tf.keras.optimizers.Adam(0.01), loss = 'binary_crossentropy', metrics = ['accuracy']) \n",
    "\n",
    "# define loss and optimization methods"
   ]
  },
  {
   "cell_type": "code",
   "execution_count": 13,
   "metadata": {},
   "outputs": [
    {
     "data": {
      "text/plain": [
       "[array([[-1.0499663 ],\n",
       "        [ 0.7679441 ],\n",
       "        [-0.84475136]], dtype=float32),\n",
       " array([0.], dtype=float32)]"
      ]
     },
     "execution_count": 13,
     "metadata": {},
     "output_type": "execute_result"
    }
   ],
   "source": [
    "model.get_weights() # initial weights"
   ]
  },
  {
   "cell_type": "code",
   "execution_count": 14,
   "metadata": {},
   "outputs": [
    {
     "data": {
      "text/plain": [
       "0.6830759930391261"
      ]
     },
     "execution_count": 14,
     "metadata": {},
     "output_type": "execute_result"
    }
   ],
   "source": [
    "testinput = np.array([0,1,0])\n",
    "1/(1+np.exp(-np.dot(model.get_weights()[0].reshape(-1),testinput)))"
   ]
  },
  {
   "cell_type": "code",
   "execution_count": 15,
   "metadata": {
    "scrolled": true
   },
   "outputs": [
    {
     "data": {
      "text/plain": [
       "array([[0.68307596]], dtype=float32)"
      ]
     },
     "execution_count": 15,
     "metadata": {},
     "output_type": "execute_result"
    }
   ],
   "source": [
    "np.array(model(np.array([[0,1,0]])))"
   ]
  },
  {
   "cell_type": "code",
   "execution_count": 17,
   "metadata": {},
   "outputs": [
    {
     "name": "stdout",
     "output_type": "stream",
     "text": [
      "Epoch 1/200\n",
      "80/80 [==============================] - 0s 2ms/step - loss: 1.2108 - accuracy: 0.5322 - val_loss: 0.7030 - val_accuracy: 0.6270\n",
      "Epoch 2/200\n",
      "80/80 [==============================] - 0s 636us/step - loss: 0.5105 - accuracy: 0.7527 - val_loss: 0.3654 - val_accuracy: 0.8710\n",
      "Epoch 3/200\n",
      "80/80 [==============================] - 0s 673us/step - loss: 0.3171 - accuracy: 0.9028 - val_loss: 0.2648 - val_accuracy: 0.9330\n",
      "Epoch 4/200\n",
      "80/80 [==============================] - 0s 696us/step - loss: 0.2506 - accuracy: 0.9402 - val_loss: 0.2192 - val_accuracy: 0.9510\n",
      "Epoch 5/200\n",
      "80/80 [==============================] - 0s 662us/step - loss: 0.2164 - accuracy: 0.9445 - val_loss: 0.1938 - val_accuracy: 0.9620\n",
      "Epoch 6/200\n",
      "80/80 [==============================] - 0s 670us/step - loss: 0.1950 - accuracy: 0.9467 - val_loss: 0.1761 - val_accuracy: 0.9650\n",
      "Epoch 7/200\n",
      "80/80 [==============================] - 0s 653us/step - loss: 0.1803 - accuracy: 0.9485 - val_loss: 0.1616 - val_accuracy: 0.9620\n",
      "Epoch 8/200\n",
      "80/80 [==============================] - 0s 664us/step - loss: 0.1691 - accuracy: 0.9480 - val_loss: 0.1518 - val_accuracy: 0.9640\n",
      "Epoch 9/200\n",
      "80/80 [==============================] - 0s 657us/step - loss: 0.1608 - accuracy: 0.9490 - val_loss: 0.1439 - val_accuracy: 0.9640\n",
      "Epoch 10/200\n",
      "80/80 [==============================] - 0s 727us/step - loss: 0.1539 - accuracy: 0.9488 - val_loss: 0.1386 - val_accuracy: 0.9690\n",
      "Epoch 11/200\n",
      "80/80 [==============================] - 0s 644us/step - loss: 0.1487 - accuracy: 0.9507 - val_loss: 0.1326 - val_accuracy: 0.9650\n",
      "Epoch 12/200\n",
      "80/80 [==============================] - 0s 653us/step - loss: 0.1441 - accuracy: 0.9505 - val_loss: 0.1275 - val_accuracy: 0.9650\n",
      "Epoch 13/200\n",
      "80/80 [==============================] - 0s 649us/step - loss: 0.1405 - accuracy: 0.9505 - val_loss: 0.1237 - val_accuracy: 0.9640\n",
      "Epoch 14/200\n",
      "80/80 [==============================] - 0s 694us/step - loss: 0.1372 - accuracy: 0.9495 - val_loss: 0.1202 - val_accuracy: 0.9630\n",
      "Epoch 15/200\n",
      "80/80 [==============================] - 0s 693us/step - loss: 0.1342 - accuracy: 0.9498 - val_loss: 0.1179 - val_accuracy: 0.9650\n",
      "Epoch 16/200\n",
      "80/80 [==============================] - 0s 614us/step - loss: 0.1318 - accuracy: 0.9492 - val_loss: 0.1163 - val_accuracy: 0.9670\n",
      "Epoch 17/200\n",
      "80/80 [==============================] - 0s 613us/step - loss: 0.1298 - accuracy: 0.9490 - val_loss: 0.1130 - val_accuracy: 0.9670\n",
      "Epoch 18/200\n",
      "80/80 [==============================] - 0s 622us/step - loss: 0.1284 - accuracy: 0.9482 - val_loss: 0.1107 - val_accuracy: 0.9660\n",
      "Epoch 19/200\n",
      "80/80 [==============================] - 0s 611us/step - loss: 0.1266 - accuracy: 0.9492 - val_loss: 0.1090 - val_accuracy: 0.9650\n",
      "Epoch 20/200\n",
      "80/80 [==============================] - 0s 709us/step - loss: 0.1253 - accuracy: 0.9495 - val_loss: 0.1077 - val_accuracy: 0.9670\n",
      "Epoch 21/200\n",
      "80/80 [==============================] - 0s 613us/step - loss: 0.1240 - accuracy: 0.9505 - val_loss: 0.1059 - val_accuracy: 0.9670\n",
      "Epoch 22/200\n",
      "80/80 [==============================] - 0s 619us/step - loss: 0.1224 - accuracy: 0.9482 - val_loss: 0.1071 - val_accuracy: 0.9650\n",
      "Epoch 23/200\n",
      "80/80 [==============================] - 0s 600us/step - loss: 0.1215 - accuracy: 0.9503 - val_loss: 0.1033 - val_accuracy: 0.9650\n",
      "Epoch 24/200\n",
      "80/80 [==============================] - 0s 611us/step - loss: 0.1210 - accuracy: 0.9490 - val_loss: 0.1025 - val_accuracy: 0.9660\n",
      "Epoch 25/200\n",
      "80/80 [==============================] - 0s 708us/step - loss: 0.1200 - accuracy: 0.9492 - val_loss: 0.1026 - val_accuracy: 0.9650\n",
      "Epoch 26/200\n",
      "80/80 [==============================] - 0s 649us/step - loss: 0.1197 - accuracy: 0.9475 - val_loss: 0.1004 - val_accuracy: 0.9670\n",
      "Epoch 27/200\n",
      "80/80 [==============================] - 0s 635us/step - loss: 0.1188 - accuracy: 0.9500 - val_loss: 0.0997 - val_accuracy: 0.9670\n",
      "Epoch 28/200\n",
      "80/80 [==============================] - 0s 660us/step - loss: 0.1183 - accuracy: 0.9490 - val_loss: 0.0990 - val_accuracy: 0.9660\n",
      "Epoch 29/200\n",
      "80/80 [==============================] - 0s 694us/step - loss: 0.1177 - accuracy: 0.9488 - val_loss: 0.0996 - val_accuracy: 0.9650\n",
      "Epoch 30/200\n",
      "80/80 [==============================] - 0s 669us/step - loss: 0.1173 - accuracy: 0.9507 - val_loss: 0.0976 - val_accuracy: 0.9670\n",
      "Epoch 31/200\n",
      "80/80 [==============================] - 0s 659us/step - loss: 0.1169 - accuracy: 0.9500 - val_loss: 0.0981 - val_accuracy: 0.9660\n",
      "Epoch 32/200\n",
      "80/80 [==============================] - 0s 636us/step - loss: 0.1165 - accuracy: 0.9500 - val_loss: 0.0979 - val_accuracy: 0.9660\n",
      "Epoch 33/200\n",
      "80/80 [==============================] - 0s 611us/step - loss: 0.1163 - accuracy: 0.9500 - val_loss: 0.0961 - val_accuracy: 0.9680\n",
      "Epoch 34/200\n",
      "80/80 [==============================] - 0s 611us/step - loss: 0.1161 - accuracy: 0.9488 - val_loss: 0.0958 - val_accuracy: 0.9680\n",
      "Epoch 35/200\n",
      "80/80 [==============================] - 0s 616us/step - loss: 0.1156 - accuracy: 0.9490 - val_loss: 0.0954 - val_accuracy: 0.9680\n",
      "Epoch 36/200\n",
      "80/80 [==============================] - 0s 629us/step - loss: 0.1152 - accuracy: 0.9495 - val_loss: 0.0946 - val_accuracy: 0.9670\n",
      "Epoch 37/200\n",
      "80/80 [==============================] - 0s 613us/step - loss: 0.1149 - accuracy: 0.9485 - val_loss: 0.0966 - val_accuracy: 0.9660\n",
      "Epoch 38/200\n",
      "80/80 [==============================] - 0s 630us/step - loss: 0.1155 - accuracy: 0.9498 - val_loss: 0.0943 - val_accuracy: 0.9680\n",
      "Epoch 39/200\n",
      "80/80 [==============================] - 0s 636us/step - loss: 0.1148 - accuracy: 0.9488 - val_loss: 0.0939 - val_accuracy: 0.9680\n",
      "Epoch 40/200\n",
      "80/80 [==============================] - 0s 660us/step - loss: 0.1149 - accuracy: 0.9488 - val_loss: 0.0937 - val_accuracy: 0.9670\n",
      "Epoch 41/200\n",
      "80/80 [==============================] - 0s 635us/step - loss: 0.1141 - accuracy: 0.9495 - val_loss: 0.0932 - val_accuracy: 0.9660\n",
      "Epoch 42/200\n",
      "80/80 [==============================] - 0s 630us/step - loss: 0.1144 - accuracy: 0.9480 - val_loss: 0.0936 - val_accuracy: 0.9670\n",
      "Epoch 43/200\n",
      "80/80 [==============================] - 0s 621us/step - loss: 0.1141 - accuracy: 0.9495 - val_loss: 0.0932 - val_accuracy: 0.9680\n",
      "Epoch 44/200\n",
      "80/80 [==============================] - 0s 635us/step - loss: 0.1141 - accuracy: 0.9505 - val_loss: 0.0924 - val_accuracy: 0.9670\n",
      "Epoch 45/200\n",
      "80/80 [==============================] - 0s 708us/step - loss: 0.1139 - accuracy: 0.9490 - val_loss: 0.0924 - val_accuracy: 0.9670\n",
      "Epoch 46/200\n",
      "80/80 [==============================] - 0s 633us/step - loss: 0.1139 - accuracy: 0.9503 - val_loss: 0.0923 - val_accuracy: 0.9670\n",
      "Epoch 47/200\n",
      "80/80 [==============================] - 0s 613us/step - loss: 0.1136 - accuracy: 0.9500 - val_loss: 0.0922 - val_accuracy: 0.9670\n",
      "Epoch 48/200\n",
      "80/80 [==============================] - 0s 599us/step - loss: 0.1135 - accuracy: 0.9492 - val_loss: 0.0921 - val_accuracy: 0.9670\n",
      "Epoch 49/200\n",
      "80/80 [==============================] - 0s 618us/step - loss: 0.1135 - accuracy: 0.9492 - val_loss: 0.0918 - val_accuracy: 0.9660\n",
      "Epoch 50/200\n",
      "80/80 [==============================] - 0s 655us/step - loss: 0.1137 - accuracy: 0.9500 - val_loss: 0.0921 - val_accuracy: 0.9660\n",
      "Epoch 51/200\n",
      "80/80 [==============================] - 0s 636us/step - loss: 0.1133 - accuracy: 0.9495 - val_loss: 0.0914 - val_accuracy: 0.9670\n",
      "Epoch 52/200\n",
      "80/80 [==============================] - 0s 638us/step - loss: 0.1134 - accuracy: 0.9503 - val_loss: 0.0912 - val_accuracy: 0.9660\n",
      "Epoch 53/200\n",
      "80/80 [==============================] - 0s 636us/step - loss: 0.1133 - accuracy: 0.9492 - val_loss: 0.0917 - val_accuracy: 0.9660\n",
      "Epoch 54/200\n",
      "80/80 [==============================] - 0s 881us/step - loss: 0.1133 - accuracy: 0.9490 - val_loss: 0.0913 - val_accuracy: 0.9680\n",
      "Epoch 55/200\n",
      "80/80 [==============================] - 0s 751us/step - loss: 0.1137 - accuracy: 0.9495 - val_loss: 0.0911 - val_accuracy: 0.9670\n",
      "Epoch 56/200\n",
      "80/80 [==============================] - 0s 778us/step - loss: 0.1132 - accuracy: 0.9500 - val_loss: 0.0910 - val_accuracy: 0.9670\n",
      "Epoch 57/200\n",
      "80/80 [==============================] - 0s 611us/step - loss: 0.1132 - accuracy: 0.9490 - val_loss: 0.0914 - val_accuracy: 0.9670\n"
     ]
    },
    {
     "name": "stdout",
     "output_type": "stream",
     "text": [
      "Epoch 58/200\n",
      "80/80 [==============================] - 0s 692us/step - loss: 0.1132 - accuracy: 0.9490 - val_loss: 0.0908 - val_accuracy: 0.9680\n",
      "Epoch 59/200\n",
      "80/80 [==============================] - 0s 714us/step - loss: 0.1133 - accuracy: 0.9498 - val_loss: 0.0911 - val_accuracy: 0.9660\n",
      "Epoch 60/200\n",
      "80/80 [==============================] - 0s 647us/step - loss: 0.1133 - accuracy: 0.9500 - val_loss: 0.0916 - val_accuracy: 0.9660\n",
      "Epoch 61/200\n",
      "80/80 [==============================] - 0s 627us/step - loss: 0.1131 - accuracy: 0.9503 - val_loss: 0.0906 - val_accuracy: 0.9670\n",
      "Epoch 62/200\n",
      "80/80 [==============================] - 0s 624us/step - loss: 0.1129 - accuracy: 0.9490 - val_loss: 0.0912 - val_accuracy: 0.9660\n",
      "Epoch 63/200\n",
      "80/80 [==============================] - 0s 786us/step - loss: 0.1134 - accuracy: 0.9492 - val_loss: 0.0909 - val_accuracy: 0.9660\n",
      "Epoch 64/200\n",
      "80/80 [==============================] - 0s 780us/step - loss: 0.1131 - accuracy: 0.9488 - val_loss: 0.0904 - val_accuracy: 0.9670\n",
      "Epoch 65/200\n",
      "80/80 [==============================] - 0s 642us/step - loss: 0.1129 - accuracy: 0.9515 - val_loss: 0.0902 - val_accuracy: 0.9670\n",
      "Epoch 66/200\n",
      "80/80 [==============================] - 0s 598us/step - loss: 0.1131 - accuracy: 0.9500 - val_loss: 0.0912 - val_accuracy: 0.9650\n",
      "Epoch 67/200\n",
      "80/80 [==============================] - 0s 596us/step - loss: 0.1135 - accuracy: 0.9495 - val_loss: 0.0901 - val_accuracy: 0.9670\n",
      "Epoch 68/200\n",
      "80/80 [==============================] - 0s 609us/step - loss: 0.1131 - accuracy: 0.9492 - val_loss: 0.0901 - val_accuracy: 0.9660\n",
      "Epoch 69/200\n",
      "80/80 [==============================] - 0s 617us/step - loss: 0.1130 - accuracy: 0.9490 - val_loss: 0.0900 - val_accuracy: 0.9670\n",
      "Epoch 70/200\n",
      "80/80 [==============================] - 0s 708us/step - loss: 0.1130 - accuracy: 0.9492 - val_loss: 0.0904 - val_accuracy: 0.9660\n",
      "Epoch 71/200\n",
      "80/80 [==============================] - 0s 665us/step - loss: 0.1131 - accuracy: 0.9495 - val_loss: 0.0906 - val_accuracy: 0.9650\n",
      "Epoch 72/200\n",
      "80/80 [==============================] - 0s 604us/step - loss: 0.1132 - accuracy: 0.9488 - val_loss: 0.0902 - val_accuracy: 0.9680\n",
      "Epoch 73/200\n",
      "80/80 [==============================] - 0s 606us/step - loss: 0.1133 - accuracy: 0.9503 - val_loss: 0.0901 - val_accuracy: 0.9680\n",
      "Epoch 74/200\n",
      "80/80 [==============================] - 0s 601us/step - loss: 0.1127 - accuracy: 0.9492 - val_loss: 0.0901 - val_accuracy: 0.9670\n",
      "Epoch 75/200\n",
      "80/80 [==============================] - 0s 599us/step - loss: 0.1129 - accuracy: 0.9492 - val_loss: 0.0899 - val_accuracy: 0.9670\n",
      "Epoch 76/200\n",
      "80/80 [==============================] - 0s 608us/step - loss: 0.1130 - accuracy: 0.9503 - val_loss: 0.0903 - val_accuracy: 0.9670\n",
      "Epoch 77/200\n",
      "80/80 [==============================] - 0s 601us/step - loss: 0.1132 - accuracy: 0.9517 - val_loss: 0.0897 - val_accuracy: 0.9670\n",
      "Epoch 78/200\n",
      "80/80 [==============================] - 0s 607us/step - loss: 0.1133 - accuracy: 0.9495 - val_loss: 0.0901 - val_accuracy: 0.9670\n",
      "Epoch 79/200\n",
      "80/80 [==============================] - 0s 647us/step - loss: 0.1128 - accuracy: 0.9492 - val_loss: 0.0899 - val_accuracy: 0.9680\n",
      "Epoch 80/200\n",
      "80/80 [==============================] - 0s 636us/step - loss: 0.1130 - accuracy: 0.9495 - val_loss: 0.0906 - val_accuracy: 0.9670\n",
      "Epoch 81/200\n",
      "80/80 [==============================] - 0s 628us/step - loss: 0.1128 - accuracy: 0.9498 - val_loss: 0.0898 - val_accuracy: 0.9670\n",
      "Epoch 82/200\n",
      "80/80 [==============================] - 0s 651us/step - loss: 0.1130 - accuracy: 0.9500 - val_loss: 0.0897 - val_accuracy: 0.9670\n",
      "Epoch 83/200\n",
      "80/80 [==============================] - 0s 636us/step - loss: 0.1129 - accuracy: 0.9500 - val_loss: 0.0900 - val_accuracy: 0.9670\n",
      "Epoch 84/200\n",
      "80/80 [==============================] - 0s 704us/step - loss: 0.1128 - accuracy: 0.9488 - val_loss: 0.0897 - val_accuracy: 0.9670\n",
      "Epoch 85/200\n",
      "80/80 [==============================] - 0s 662us/step - loss: 0.1128 - accuracy: 0.9495 - val_loss: 0.0905 - val_accuracy: 0.9650\n",
      "Epoch 86/200\n",
      "80/80 [==============================] - 0s 619us/step - loss: 0.1129 - accuracy: 0.9490 - val_loss: 0.0908 - val_accuracy: 0.9650\n",
      "Epoch 87/200\n",
      "80/80 [==============================] - 0s 613us/step - loss: 0.1130 - accuracy: 0.9505 - val_loss: 0.0896 - val_accuracy: 0.9670\n",
      "Epoch 88/200\n",
      "80/80 [==============================] - 0s 624us/step - loss: 0.1129 - accuracy: 0.9492 - val_loss: 0.0900 - val_accuracy: 0.9660\n",
      "Epoch 89/200\n",
      "80/80 [==============================] - 0s 700us/step - loss: 0.1130 - accuracy: 0.9495 - val_loss: 0.0894 - val_accuracy: 0.9670\n",
      "Epoch 90/200\n",
      "80/80 [==============================] - 0s 604us/step - loss: 0.1127 - accuracy: 0.9492 - val_loss: 0.0897 - val_accuracy: 0.9670\n",
      "Epoch 91/200\n",
      "80/80 [==============================] - 0s 629us/step - loss: 0.1131 - accuracy: 0.9485 - val_loss: 0.0902 - val_accuracy: 0.9670\n",
      "Epoch 92/200\n",
      "80/80 [==============================] - 0s 636us/step - loss: 0.1133 - accuracy: 0.9490 - val_loss: 0.0900 - val_accuracy: 0.9660\n",
      "Epoch 93/200\n",
      "80/80 [==============================] - 0s 614us/step - loss: 0.1127 - accuracy: 0.9482 - val_loss: 0.0903 - val_accuracy: 0.9660\n",
      "Epoch 94/200\n",
      "80/80 [==============================] - 0s 683us/step - loss: 0.1128 - accuracy: 0.9488 - val_loss: 0.0897 - val_accuracy: 0.9670\n",
      "Epoch 95/200\n",
      "80/80 [==============================] - 0s 625us/step - loss: 0.1129 - accuracy: 0.9503 - val_loss: 0.0897 - val_accuracy: 0.9680\n",
      "Epoch 96/200\n",
      "80/80 [==============================] - 0s 624us/step - loss: 0.1128 - accuracy: 0.9495 - val_loss: 0.0898 - val_accuracy: 0.9670\n",
      "Epoch 97/200\n",
      "80/80 [==============================] - 0s 662us/step - loss: 0.1127 - accuracy: 0.9492 - val_loss: 0.0904 - val_accuracy: 0.9660\n",
      "Epoch 98/200\n",
      "80/80 [==============================] - 0s 645us/step - loss: 0.1139 - accuracy: 0.9503 - val_loss: 0.0903 - val_accuracy: 0.9650\n",
      "Epoch 99/200\n",
      "80/80 [==============================] - 0s 713us/step - loss: 0.1131 - accuracy: 0.9492 - val_loss: 0.0899 - val_accuracy: 0.9680\n",
      "Epoch 100/200\n",
      "80/80 [==============================] - 0s 641us/step - loss: 0.1132 - accuracy: 0.9495 - val_loss: 0.0903 - val_accuracy: 0.9650\n",
      "Epoch 101/200\n",
      "80/80 [==============================] - 0s 625us/step - loss: 0.1128 - accuracy: 0.9492 - val_loss: 0.0902 - val_accuracy: 0.9660\n",
      "Epoch 102/200\n",
      "80/80 [==============================] - 0s 620us/step - loss: 0.1130 - accuracy: 0.9500 - val_loss: 0.0897 - val_accuracy: 0.9670\n",
      "Epoch 103/200\n",
      "80/80 [==============================] - 0s 643us/step - loss: 0.1130 - accuracy: 0.9498 - val_loss: 0.0894 - val_accuracy: 0.9680\n",
      "Epoch 104/200\n",
      "80/80 [==============================] - 0s 640us/step - loss: 0.1126 - accuracy: 0.9495 - val_loss: 0.0901 - val_accuracy: 0.9650\n",
      "Epoch 105/200\n",
      "80/80 [==============================] - 0s 601us/step - loss: 0.1132 - accuracy: 0.9498 - val_loss: 0.0900 - val_accuracy: 0.9650\n",
      "Epoch 106/200\n",
      "80/80 [==============================] - 0s 604us/step - loss: 0.1132 - accuracy: 0.9490 - val_loss: 0.0895 - val_accuracy: 0.9670\n",
      "Epoch 107/200\n",
      "80/80 [==============================] - 0s 622us/step - loss: 0.1133 - accuracy: 0.9492 - val_loss: 0.0895 - val_accuracy: 0.9680\n",
      "Epoch 108/200\n",
      "80/80 [==============================] - 0s 657us/step - loss: 0.1128 - accuracy: 0.9498 - val_loss: 0.0895 - val_accuracy: 0.9680\n",
      "Epoch 109/200\n",
      "80/80 [==============================] - 0s 632us/step - loss: 0.1131 - accuracy: 0.9500 - val_loss: 0.0894 - val_accuracy: 0.9660\n",
      "Epoch 110/200\n",
      "80/80 [==============================] - 0s 606us/step - loss: 0.1129 - accuracy: 0.9495 - val_loss: 0.0896 - val_accuracy: 0.9670\n",
      "Epoch 111/200\n",
      "80/80 [==============================] - 0s 603us/step - loss: 0.1128 - accuracy: 0.9503 - val_loss: 0.0893 - val_accuracy: 0.9680\n",
      "Epoch 112/200\n",
      "80/80 [==============================] - 0s 607us/step - loss: 0.1130 - accuracy: 0.9510 - val_loss: 0.0897 - val_accuracy: 0.9670\n",
      "Epoch 113/200\n",
      "80/80 [==============================] - 0s 621us/step - loss: 0.1131 - accuracy: 0.9492 - val_loss: 0.0894 - val_accuracy: 0.9670\n",
      "Epoch 114/200\n",
      "80/80 [==============================] - 0s 687us/step - loss: 0.1130 - accuracy: 0.9500 - val_loss: 0.0894 - val_accuracy: 0.9670\n"
     ]
    },
    {
     "name": "stdout",
     "output_type": "stream",
     "text": [
      "Epoch 115/200\n",
      "80/80 [==============================] - 0s 610us/step - loss: 0.1128 - accuracy: 0.9485 - val_loss: 0.0897 - val_accuracy: 0.9670\n",
      "Epoch 116/200\n",
      "80/80 [==============================] - 0s 606us/step - loss: 0.1131 - accuracy: 0.9503 - val_loss: 0.0895 - val_accuracy: 0.9660\n",
      "Epoch 117/200\n",
      "80/80 [==============================] - 0s 617us/step - loss: 0.1131 - accuracy: 0.9498 - val_loss: 0.0902 - val_accuracy: 0.9650\n",
      "Epoch 118/200\n",
      "80/80 [==============================] - 0s 620us/step - loss: 0.1129 - accuracy: 0.9498 - val_loss: 0.0893 - val_accuracy: 0.9670\n",
      "Epoch 119/200\n",
      "80/80 [==============================] - 0s 619us/step - loss: 0.1126 - accuracy: 0.9500 - val_loss: 0.0899 - val_accuracy: 0.9660\n",
      "Epoch 120/200\n",
      "80/80 [==============================] - 0s 603us/step - loss: 0.1129 - accuracy: 0.9477 - val_loss: 0.0893 - val_accuracy: 0.9670\n",
      "Epoch 121/200\n",
      "80/80 [==============================] - 0s 611us/step - loss: 0.1127 - accuracy: 0.9507 - val_loss: 0.0894 - val_accuracy: 0.9670\n",
      "Epoch 122/200\n",
      "80/80 [==============================] - 0s 624us/step - loss: 0.1128 - accuracy: 0.9488 - val_loss: 0.0900 - val_accuracy: 0.9660\n",
      "Epoch 123/200\n",
      "80/80 [==============================] - 0s 626us/step - loss: 0.1129 - accuracy: 0.9490 - val_loss: 0.0900 - val_accuracy: 0.9670\n",
      "Epoch 124/200\n",
      "80/80 [==============================] - 0s 623us/step - loss: 0.1127 - accuracy: 0.9492 - val_loss: 0.0907 - val_accuracy: 0.9660\n",
      "Epoch 125/200\n",
      "80/80 [==============================] - 0s 598us/step - loss: 0.1126 - accuracy: 0.9492 - val_loss: 0.0893 - val_accuracy: 0.9670\n",
      "Epoch 126/200\n",
      "80/80 [==============================] - 0s 626us/step - loss: 0.1131 - accuracy: 0.9495 - val_loss: 0.0895 - val_accuracy: 0.9660\n",
      "Epoch 127/200\n",
      "80/80 [==============================] - 0s 607us/step - loss: 0.1127 - accuracy: 0.9498 - val_loss: 0.0898 - val_accuracy: 0.9660\n",
      "Epoch 128/200\n",
      "80/80 [==============================] - 0s 635us/step - loss: 0.1130 - accuracy: 0.9492 - val_loss: 0.0901 - val_accuracy: 0.9650\n",
      "Epoch 129/200\n",
      "80/80 [==============================] - 0s 614us/step - loss: 0.1129 - accuracy: 0.9490 - val_loss: 0.0902 - val_accuracy: 0.9650\n",
      "Epoch 130/200\n",
      "80/80 [==============================] - 0s 674us/step - loss: 0.1133 - accuracy: 0.9490 - val_loss: 0.0896 - val_accuracy: 0.9670\n",
      "Epoch 131/200\n",
      "80/80 [==============================] - 0s 736us/step - loss: 0.1128 - accuracy: 0.9492 - val_loss: 0.0897 - val_accuracy: 0.9670\n",
      "Epoch 132/200\n",
      "80/80 [==============================] - 0s 673us/step - loss: 0.1130 - accuracy: 0.9490 - val_loss: 0.0894 - val_accuracy: 0.9670\n",
      "Epoch 133/200\n",
      "80/80 [==============================] - 0s 689us/step - loss: 0.1128 - accuracy: 0.9498 - val_loss: 0.0895 - val_accuracy: 0.9660\n",
      "Epoch 134/200\n",
      "80/80 [==============================] - 0s 668us/step - loss: 0.1131 - accuracy: 0.9495 - val_loss: 0.0894 - val_accuracy: 0.9670\n",
      "Epoch 135/200\n",
      "80/80 [==============================] - 0s 639us/step - loss: 0.1130 - accuracy: 0.9488 - val_loss: 0.0895 - val_accuracy: 0.9660\n",
      "Epoch 136/200\n",
      "80/80 [==============================] - 0s 616us/step - loss: 0.1128 - accuracy: 0.9500 - val_loss: 0.0901 - val_accuracy: 0.9650\n",
      "Epoch 137/200\n",
      "80/80 [==============================] - 0s 606us/step - loss: 0.1131 - accuracy: 0.9505 - val_loss: 0.0896 - val_accuracy: 0.9670\n",
      "Epoch 138/200\n",
      "80/80 [==============================] - 0s 608us/step - loss: 0.1130 - accuracy: 0.9488 - val_loss: 0.0911 - val_accuracy: 0.9670\n",
      "Epoch 139/200\n",
      "80/80 [==============================] - 0s 633us/step - loss: 0.1134 - accuracy: 0.9492 - val_loss: 0.0895 - val_accuracy: 0.9670\n",
      "Epoch 140/200\n",
      "80/80 [==============================] - 0s 662us/step - loss: 0.1130 - accuracy: 0.9495 - val_loss: 0.0895 - val_accuracy: 0.9670\n",
      "Epoch 141/200\n",
      "80/80 [==============================] - 0s 620us/step - loss: 0.1131 - accuracy: 0.9485 - val_loss: 0.0891 - val_accuracy: 0.9670\n",
      "Epoch 142/200\n",
      "80/80 [==============================] - 0s 601us/step - loss: 0.1130 - accuracy: 0.9490 - val_loss: 0.0893 - val_accuracy: 0.9680\n",
      "Epoch 143/200\n",
      "80/80 [==============================] - 0s 598us/step - loss: 0.1131 - accuracy: 0.9490 - val_loss: 0.0892 - val_accuracy: 0.9670\n",
      "Epoch 144/200\n",
      "80/80 [==============================] - 0s 603us/step - loss: 0.1130 - accuracy: 0.9498 - val_loss: 0.0895 - val_accuracy: 0.9670\n",
      "Epoch 145/200\n",
      "80/80 [==============================] - 0s 623us/step - loss: 0.1128 - accuracy: 0.9495 - val_loss: 0.0892 - val_accuracy: 0.9670\n",
      "Epoch 146/200\n",
      "80/80 [==============================] - 0s 618us/step - loss: 0.1127 - accuracy: 0.9490 - val_loss: 0.0896 - val_accuracy: 0.9670\n",
      "Epoch 147/200\n",
      "80/80 [==============================] - 0s 617us/step - loss: 0.1127 - accuracy: 0.9500 - val_loss: 0.0895 - val_accuracy: 0.9660\n",
      "Epoch 148/200\n",
      "80/80 [==============================] - 0s 601us/step - loss: 0.1128 - accuracy: 0.9492 - val_loss: 0.0905 - val_accuracy: 0.9660\n",
      "Epoch 149/200\n",
      "80/80 [==============================] - 0s 608us/step - loss: 0.1130 - accuracy: 0.9485 - val_loss: 0.0894 - val_accuracy: 0.9660\n",
      "Epoch 150/200\n",
      "80/80 [==============================] - 0s 607us/step - loss: 0.1130 - accuracy: 0.9507 - val_loss: 0.0893 - val_accuracy: 0.9670\n",
      "Epoch 151/200\n",
      "80/80 [==============================] - 0s 601us/step - loss: 0.1129 - accuracy: 0.9485 - val_loss: 0.0900 - val_accuracy: 0.9650\n",
      "Epoch 152/200\n",
      "80/80 [==============================] - 0s 622us/step - loss: 0.1127 - accuracy: 0.9503 - val_loss: 0.0892 - val_accuracy: 0.9670\n",
      "Epoch 153/200\n",
      "80/80 [==============================] - 0s 608us/step - loss: 0.1126 - accuracy: 0.9485 - val_loss: 0.0899 - val_accuracy: 0.9660\n",
      "Epoch 154/200\n",
      "80/80 [==============================] - 0s 610us/step - loss: 0.1130 - accuracy: 0.9503 - val_loss: 0.0894 - val_accuracy: 0.9670\n",
      "Epoch 155/200\n",
      "80/80 [==============================] - 0s 625us/step - loss: 0.1132 - accuracy: 0.9490 - val_loss: 0.0900 - val_accuracy: 0.9650\n",
      "Epoch 156/200\n",
      "80/80 [==============================] - 0s 607us/step - loss: 0.1129 - accuracy: 0.9498 - val_loss: 0.0895 - val_accuracy: 0.9660\n",
      "Epoch 157/200\n",
      "80/80 [==============================] - 0s 607us/step - loss: 0.1128 - accuracy: 0.9488 - val_loss: 0.0906 - val_accuracy: 0.9650\n",
      "Epoch 158/200\n",
      "80/80 [==============================] - 0s 634us/step - loss: 0.1131 - accuracy: 0.9477 - val_loss: 0.0900 - val_accuracy: 0.9650\n",
      "Epoch 159/200\n",
      "80/80 [==============================] - 0s 613us/step - loss: 0.1128 - accuracy: 0.9490 - val_loss: 0.0893 - val_accuracy: 0.9680\n",
      "Epoch 160/200\n",
      "80/80 [==============================] - 0s 637us/step - loss: 0.1128 - accuracy: 0.9492 - val_loss: 0.0897 - val_accuracy: 0.9660\n",
      "Epoch 161/200\n",
      "80/80 [==============================] - 0s 604us/step - loss: 0.1129 - accuracy: 0.9488 - val_loss: 0.0899 - val_accuracy: 0.9660\n",
      "Epoch 162/200\n",
      "80/80 [==============================] - 0s 614us/step - loss: 0.1127 - accuracy: 0.9495 - val_loss: 0.0898 - val_accuracy: 0.9670\n",
      "Epoch 163/200\n",
      "80/80 [==============================] - 0s 603us/step - loss: 0.1127 - accuracy: 0.9503 - val_loss: 0.0910 - val_accuracy: 0.9670\n",
      "Epoch 164/200\n",
      "80/80 [==============================] - 0s 633us/step - loss: 0.1135 - accuracy: 0.9500 - val_loss: 0.0904 - val_accuracy: 0.9660\n",
      "Epoch 165/200\n",
      "80/80 [==============================] - 0s 610us/step - loss: 0.1133 - accuracy: 0.9490 - val_loss: 0.0895 - val_accuracy: 0.9680\n",
      "Epoch 166/200\n",
      "80/80 [==============================] - 0s 616us/step - loss: 0.1131 - accuracy: 0.9503 - val_loss: 0.0891 - val_accuracy: 0.9670\n",
      "Epoch 167/200\n",
      "80/80 [==============================] - 0s 613us/step - loss: 0.1130 - accuracy: 0.9498 - val_loss: 0.0899 - val_accuracy: 0.9670\n",
      "Epoch 168/200\n",
      "80/80 [==============================] - 0s 611us/step - loss: 0.1129 - accuracy: 0.9498 - val_loss: 0.0904 - val_accuracy: 0.9650\n",
      "Epoch 169/200\n",
      "80/80 [==============================] - 0s 630us/step - loss: 0.1132 - accuracy: 0.9498 - val_loss: 0.0907 - val_accuracy: 0.9670\n",
      "Epoch 170/200\n",
      "80/80 [==============================] - 0s 647us/step - loss: 0.1130 - accuracy: 0.9482 - val_loss: 0.0897 - val_accuracy: 0.9660\n",
      "Epoch 171/200\n"
     ]
    },
    {
     "name": "stdout",
     "output_type": "stream",
     "text": [
      "80/80 [==============================] - 0s 661us/step - loss: 0.1129 - accuracy: 0.9490 - val_loss: 0.0895 - val_accuracy: 0.9670\n",
      "Epoch 172/200\n",
      "80/80 [==============================] - 0s 609us/step - loss: 0.1134 - accuracy: 0.9505 - val_loss: 0.0898 - val_accuracy: 0.9660\n",
      "Epoch 173/200\n",
      "80/80 [==============================] - 0s 622us/step - loss: 0.1134 - accuracy: 0.9503 - val_loss: 0.0892 - val_accuracy: 0.9670\n",
      "Epoch 174/200\n",
      "80/80 [==============================] - 0s 611us/step - loss: 0.1128 - accuracy: 0.9495 - val_loss: 0.0893 - val_accuracy: 0.9670\n",
      "Epoch 175/200\n",
      "80/80 [==============================] - 0s 638us/step - loss: 0.1128 - accuracy: 0.9498 - val_loss: 0.0899 - val_accuracy: 0.9650\n",
      "Epoch 176/200\n",
      "80/80 [==============================] - 0s 645us/step - loss: 0.1127 - accuracy: 0.9490 - val_loss: 0.0895 - val_accuracy: 0.9670\n",
      "Epoch 177/200\n",
      "80/80 [==============================] - 0s 601us/step - loss: 0.1134 - accuracy: 0.9490 - val_loss: 0.0894 - val_accuracy: 0.9670\n",
      "Epoch 178/200\n",
      "80/80 [==============================] - 0s 609us/step - loss: 0.1126 - accuracy: 0.9505 - val_loss: 0.0899 - val_accuracy: 0.9650\n",
      "Epoch 179/200\n",
      "80/80 [==============================] - 0s 613us/step - loss: 0.1128 - accuracy: 0.9498 - val_loss: 0.0897 - val_accuracy: 0.9670\n",
      "Epoch 180/200\n",
      "80/80 [==============================] - 0s 618us/step - loss: 0.1128 - accuracy: 0.9482 - val_loss: 0.0907 - val_accuracy: 0.9660\n",
      "Epoch 181/200\n",
      "80/80 [==============================] - 0s 687us/step - loss: 0.1127 - accuracy: 0.9495 - val_loss: 0.0893 - val_accuracy: 0.9660\n",
      "Epoch 182/200\n",
      "80/80 [==============================] - 0s 667us/step - loss: 0.1129 - accuracy: 0.9492 - val_loss: 0.0897 - val_accuracy: 0.9660\n",
      "Epoch 183/200\n",
      "80/80 [==============================] - 0s 623us/step - loss: 0.1128 - accuracy: 0.9480 - val_loss: 0.0908 - val_accuracy: 0.9670\n",
      "Epoch 184/200\n",
      "80/80 [==============================] - 0s 619us/step - loss: 0.1128 - accuracy: 0.9503 - val_loss: 0.0893 - val_accuracy: 0.9680\n",
      "Epoch 185/200\n",
      "80/80 [==============================] - 0s 602us/step - loss: 0.1131 - accuracy: 0.9490 - val_loss: 0.0901 - val_accuracy: 0.9660\n",
      "Epoch 186/200\n",
      "80/80 [==============================] - 0s 628us/step - loss: 0.1130 - accuracy: 0.9495 - val_loss: 0.0895 - val_accuracy: 0.9670\n",
      "Epoch 187/200\n",
      "80/80 [==============================] - 0s 600us/step - loss: 0.1130 - accuracy: 0.9485 - val_loss: 0.0893 - val_accuracy: 0.9670\n",
      "Epoch 188/200\n",
      "80/80 [==============================] - 0s 655us/step - loss: 0.1129 - accuracy: 0.9503 - val_loss: 0.0893 - val_accuracy: 0.9660\n",
      "Epoch 189/200\n",
      "80/80 [==============================] - 0s 621us/step - loss: 0.1132 - accuracy: 0.9492 - val_loss: 0.0893 - val_accuracy: 0.9670\n",
      "Epoch 190/200\n",
      "80/80 [==============================] - 0s 655us/step - loss: 0.1133 - accuracy: 0.9498 - val_loss: 0.0894 - val_accuracy: 0.9660\n",
      "Epoch 191/200\n",
      "80/80 [==============================] - 0s 641us/step - loss: 0.1133 - accuracy: 0.9495 - val_loss: 0.0900 - val_accuracy: 0.9660\n",
      "Epoch 192/200\n",
      "80/80 [==============================] - 0s 633us/step - loss: 0.1129 - accuracy: 0.9482 - val_loss: 0.0895 - val_accuracy: 0.9670\n",
      "Epoch 193/200\n",
      "80/80 [==============================] - 0s 627us/step - loss: 0.1127 - accuracy: 0.9495 - val_loss: 0.0904 - val_accuracy: 0.9660\n",
      "Epoch 194/200\n",
      "80/80 [==============================] - 0s 633us/step - loss: 0.1127 - accuracy: 0.9492 - val_loss: 0.0895 - val_accuracy: 0.9670\n",
      "Epoch 195/200\n",
      "80/80 [==============================] - 0s 629us/step - loss: 0.1129 - accuracy: 0.9503 - val_loss: 0.0894 - val_accuracy: 0.9670\n",
      "Epoch 196/200\n",
      "80/80 [==============================] - 0s 661us/step - loss: 0.1128 - accuracy: 0.9492 - val_loss: 0.0898 - val_accuracy: 0.9650\n",
      "Epoch 197/200\n",
      "80/80 [==============================] - 0s 604us/step - loss: 0.1127 - accuracy: 0.9485 - val_loss: 0.0892 - val_accuracy: 0.9670\n",
      "Epoch 198/200\n",
      "80/80 [==============================] - 0s 611us/step - loss: 0.1129 - accuracy: 0.9492 - val_loss: 0.0894 - val_accuracy: 0.9670\n",
      "Epoch 199/200\n",
      "80/80 [==============================] - 0s 644us/step - loss: 0.1135 - accuracy: 0.9492 - val_loss: 0.0900 - val_accuracy: 0.9660\n",
      "Epoch 200/200\n",
      "80/80 [==============================] - 0s 640us/step - loss: 0.1128 - accuracy: 0.9492 - val_loss: 0.0892 - val_accuracy: 0.9670\n"
     ]
    },
    {
     "data": {
      "text/plain": [
       "<tensorflow.python.keras.callbacks.History at 0x158c185e0>"
      ]
     },
     "execution_count": 17,
     "metadata": {},
     "output_type": "execute_result"
    }
   ],
   "source": [
    "model.fit(x,y, epochs = 200, validation_split = 0.2, batch_size = 50)"
   ]
  },
  {
   "cell_type": "code",
   "execution_count": 18,
   "metadata": {
    "scrolled": true
   },
   "outputs": [
    {
     "data": {
      "text/plain": [
       "[array([[3.721053 ],\n",
       "        [1.1808088],\n",
       "        [4.3950257]], dtype=float32),\n",
       " array([-4.7932577], dtype=float32)]"
      ]
     },
     "execution_count": 18,
     "metadata": {},
     "output_type": "execute_result"
    }
   ],
   "source": [
    "model.get_weights() # almost the same than our previous logistic regression"
   ]
  },
  {
   "cell_type": "code",
   "execution_count": 19,
   "metadata": {},
   "outputs": [],
   "source": [
    "import matplotlib.pyplot as plt"
   ]
  },
  {
   "cell_type": "code",
   "execution_count": 20,
   "metadata": {
    "scrolled": false
   },
   "outputs": [
    {
     "data": {
      "text/plain": [
       "177"
      ]
     },
     "execution_count": 20,
     "metadata": {},
     "output_type": "execute_result"
    }
   ],
   "source": [
    "np.argmin(model.history.history['loss'])"
   ]
  },
  {
   "cell_type": "code",
   "execution_count": 23,
   "metadata": {},
   "outputs": [
    {
     "data": {
      "text/plain": [
       "[<matplotlib.lines.Line2D at 0x159ddaaf0>]"
      ]
     },
     "execution_count": 23,
     "metadata": {},
     "output_type": "execute_result"
    },
    {
     "data": {
      "image/png": "[encoded data removed]",
      "text/plain": [
       "<Figure size 432x288 with 1 Axes>"
      ]
     },
     "metadata": {
      "needs_background": "light"
     },
     "output_type": "display_data"
    }
   ],
   "source": [
    " plt.plot(model.history.history['loss'])"
   ]
  },
  {
   "cell_type": "code",
   "execution_count": 27,
   "metadata": {
    "scrolled": false
   },
   "outputs": [
    {
     "data": {
      "text/plain": [
       "[<matplotlib.lines.Line2D at 0x159f4f3d0>]"
      ]
     },
     "execution_count": 27,
     "metadata": {},
     "output_type": "execute_result"
    },
    {
     "data": {
      "image/png": "[encoded data removed]",
      "text/plain": [
       "<Figure size 432x288 with 1 Axes>"
      ]
     },
     "metadata": {
      "needs_background": "light"
     },
     "output_type": "display_data"
    }
   ],
   "source": [
    " plt.plot(model.history.history['loss'][20:100]) # If we look closer we see fluctuation"
   ]
  },
  {
   "cell_type": "markdown",
   "metadata": {},
   "source": [
    "The loss function is not decreasing monotically. There are some oscillations. This fluctuation comes from the mini-batch approach. In our gradient descent we move to the wrong side (left or right), then we correct this movement on the next iteration. \n",
    "\n"
   ]
  },
  {
   "cell_type": "markdown",
   "metadata": {},
   "source": [
    "## Final neural network"
   ]
  },
  {
   "cell_type": "code",
   "execution_count": 35,
   "metadata": {},
   "outputs": [
    {
     "data": {
      "text/plain": [
       "<tensorflow.python.keras.callbacks.History at 0x159f22f10>"
      ]
     },
     "execution_count": 35,
     "metadata": {},
     "output_type": "execute_result"
    }
   ],
   "source": [
    "model = tf.keras.Sequential()\n",
    "model.add(layers.Dense(1, input_shape = (3,), use_bias = True, activation = 'sigmoid'))       \n",
    "model.compile(optimizer = tf.keras.optimizers.Adam(0.01), loss = 'binary_crossentropy', metrics = ['accuracy'])\n",
    "model.fit(x,y, epochs = 186, batch_size = 50, verbose = 0)"
   ]
  },
  {
   "cell_type": "code",
   "execution_count": 36,
   "metadata": {},
   "outputs": [
    {
     "data": {
      "text/plain": [
       "[array([[3.8650124],\n",
       "        [1.1829616],\n",
       "        [4.5494337]], dtype=float32),\n",
       " array([-4.927863], dtype=float32)]"
      ]
     },
     "execution_count": 36,
     "metadata": {},
     "output_type": "execute_result"
    }
   ],
   "source": [
    "model.get_weights() # the coefficients we get are the same than our pervious coefficients!"
   ]
  },
  {
   "cell_type": "markdown",
   "metadata": {},
   "source": [
    "## Implementing NN for image classification"
   ]
  },
  {
   "cell_type": "markdown",
   "metadata": {},
   "source": [
    "## Fashion MNIST classification model"
   ]
  },
  {
   "cell_type": "code",
   "execution_count": 44,
   "metadata": {},
   "outputs": [],
   "source": [
    "from tensorflow import keras\n",
    "import numpy as np\n",
    "import matplotlib.pyplot as plt\n",
    "\n",
    "\n",
    "fashion_mnist = keras.datasets.fashion_mnist"
   ]
  },
  {
   "cell_type": "code",
   "execution_count": 40,
   "metadata": {},
   "outputs": [
    {
     "name": "stdout",
     "output_type": "stream",
     "text": [
      "Downloading data from https://storage.googleapis.com/tensorflow/tf-keras-datasets/train-labels-idx1-ubyte.gz\n",
      "32768/29515 [=================================] - 0s 3us/step\n",
      "Downloading data from https://storage.googleapis.com/tensorflow/tf-keras-datasets/train-images-idx3-ubyte.gz\n",
      "26427392/26421880 [==============================] - 6s 0us/step\n",
      "Downloading data from https://storage.googleapis.com/tensorflow/tf-keras-datasets/t10k-labels-idx1-ubyte.gz\n",
      "8192/5148 [===============================================] - 0s 0us/step\n",
      "Downloading data from https://storage.googleapis.com/tensorflow/tf-keras-datasets/t10k-images-idx3-ubyte.gz\n",
      "4423680/4422102 [==============================] - 1s 0us/step\n"
     ]
    }
   ],
   "source": [
    "(train_images, train_labels), (test_images, test_labels) = fashion_mnist.load_data()"
   ]
  },
  {
   "cell_type": "code",
   "execution_count": 41,
   "metadata": {},
   "outputs": [
    {
     "data": {
      "text/plain": [
       "(60000, 28, 28)"
      ]
     },
     "execution_count": 41,
     "metadata": {},
     "output_type": "execute_result"
    }
   ],
   "source": [
    "train_images.shape"
   ]
  },
  {
   "cell_type": "code",
   "execution_count": 42,
   "metadata": {},
   "outputs": [
    {
     "data": {
      "text/plain": [
       "(28, 28)"
      ]
     },
     "execution_count": 42,
     "metadata": {},
     "output_type": "execute_result"
    }
   ],
   "source": [
    "train_images[0].shape"
   ]
  },
  {
   "cell_type": "code",
   "execution_count": 43,
   "metadata": {},
   "outputs": [
    {
     "data": {
      "text/plain": [
       "array([0, 1, 2, 3, 4, 5, 6, 7, 8, 9], dtype=uint8)"
      ]
     },
     "execution_count": 43,
     "metadata": {},
     "output_type": "execute_result"
    }
   ],
   "source": [
    "np.unique(train_labels) # 10 types of objects"
   ]
  },
  {
   "cell_type": "code",
   "execution_count": 48,
   "metadata": {},
   "outputs": [
    {
     "data": {
      "image/png": "[encoded data removed]",
      "text/plain": [
       "<Figure size 432x288 with 2 Axes>"
      ]
     },
     "metadata": {
      "needs_background": "light"
     },
     "output_type": "display_data"
    }
   ],
   "source": [
    "plt.figure()\n",
    "plt.imshow(train_images[10])\n",
    "plt.colorbar()\n",
    "plt.grid(False)\n",
    "plt.show()"
   ]
  },
  {
   "cell_type": "code",
   "execution_count": 50,
   "metadata": {},
   "outputs": [],
   "source": [
    "# regression model with 10 possible outcomes - multinomial \n",
    "\n",
    "\n",
    "model = keras.Sequential([keras.layers.Flatten(input_shape = (28,28)), keras.layers.Dense(128, activation = 'relu'), keras.layers.Dense(10, activation = 'softmax')])\n",
    "\n",
    "model.compile(optimizer = 'adam', loss = 'sparse_categorical_crossentropy', metrics = ['accuracy'])"
   ]
  },
  {
   "cell_type": "code",
   "execution_count": 51,
   "metadata": {},
   "outputs": [
    {
     "name": "stdout",
     "output_type": "stream",
     "text": [
      "Epoch 1/10\n",
      "4800/4800 [==============================] - 3s 711us/step - loss: 2.2801 - accuracy: 0.6654 - val_loss: 0.8889 - val_accuracy: 0.7119\n",
      "Epoch 2/10\n",
      "4800/4800 [==============================] - 3s 621us/step - loss: 0.8081 - accuracy: 0.7060 - val_loss: 0.8031 - val_accuracy: 0.7138\n",
      "Epoch 3/10\n",
      "4800/4800 [==============================] - 3s 608us/step - loss: 0.7482 - accuracy: 0.7268 - val_loss: 0.7549 - val_accuracy: 0.6999\n",
      "Epoch 4/10\n",
      "4800/4800 [==============================] - 3s 622us/step - loss: 0.7269 - accuracy: 0.7338 - val_loss: 0.7734 - val_accuracy: 0.7274\n",
      "Epoch 5/10\n",
      "4800/4800 [==============================] - 3s 640us/step - loss: 0.7171 - accuracy: 0.7380 - val_loss: 0.6945 - val_accuracy: 0.7577\n",
      "Epoch 6/10\n",
      "4800/4800 [==============================] - 3s 689us/step - loss: 0.7111 - accuracy: 0.7410 - val_loss: 0.7690 - val_accuracy: 0.7340\n",
      "Epoch 7/10\n",
      "4800/4800 [==============================] - 3s 667us/step - loss: 0.7092 - accuracy: 0.7449 - val_loss: 0.8107 - val_accuracy: 0.7357\n",
      "Epoch 8/10\n",
      "4800/4800 [==============================] - 3s 653us/step - loss: 0.6958 - accuracy: 0.7484 - val_loss: 0.7800 - val_accuracy: 0.7281\n",
      "Epoch 9/10\n",
      "4800/4800 [==============================] - 3s 669us/step - loss: 0.6940 - accuracy: 0.7496 - val_loss: 0.6901 - val_accuracy: 0.7699\n",
      "Epoch 10/10\n",
      "4800/4800 [==============================] - 3s 683us/step - loss: 0.6924 - accuracy: 0.7513 - val_loss: 0.7232 - val_accuracy: 0.7563\n"
     ]
    },
    {
     "data": {
      "text/plain": [
       "<tensorflow.python.keras.callbacks.History at 0x15a320490>"
      ]
     },
     "execution_count": 51,
     "metadata": {},
     "output_type": "execute_result"
    }
   ],
   "source": [
    "model.fit(train_images, train_labels, epochs = 10, validation_split = 0.2, batch_size = 10)"
   ]
  },
  {
   "cell_type": "code",
   "execution_count": 52,
   "metadata": {},
   "outputs": [
    {
     "data": {
      "text/plain": [
       "8"
      ]
     },
     "execution_count": 52,
     "metadata": {},
     "output_type": "execute_result"
    }
   ],
   "source": [
    "np.argmin(model.history.history['val_loss'])"
   ]
  },
  {
   "cell_type": "code",
   "execution_count": 53,
   "metadata": {},
   "outputs": [
    {
     "name": "stdout",
     "output_type": "stream",
     "text": [
      "Epoch 1/7\n",
      "4800/4800 [==============================] - 3s 700us/step - loss: 2.4554 - accuracy: 0.6489 - val_loss: 0.7924 - val_accuracy: 0.6974\n",
      "Epoch 2/7\n",
      "4800/4800 [==============================] - 3s 636us/step - loss: 0.7560 - accuracy: 0.7163 - val_loss: 0.8906 - val_accuracy: 0.6594\n",
      "Epoch 3/7\n",
      "4800/4800 [==============================] - 3s 596us/step - loss: 0.7578 - accuracy: 0.7221 - val_loss: 0.8277 - val_accuracy: 0.7197\n",
      "Epoch 4/7\n",
      "4800/4800 [==============================] - 3s 590us/step - loss: 0.6978 - accuracy: 0.7458 - val_loss: 0.7801 - val_accuracy: 0.7342\n",
      "Epoch 5/7\n",
      "4800/4800 [==============================] - 3s 590us/step - loss: 0.6821 - accuracy: 0.7507 - val_loss: 0.7685 - val_accuracy: 0.7486\n",
      "Epoch 6/7\n",
      "4800/4800 [==============================] - 3s 604us/step - loss: 0.6645 - accuracy: 0.7558 - val_loss: 0.6703 - val_accuracy: 0.7680\n",
      "Epoch 7/7\n",
      "4800/4800 [==============================] - 3s 667us/step - loss: 0.6715 - accuracy: 0.7562 - val_loss: 0.6871 - val_accuracy: 0.7678\n"
     ]
    },
    {
     "data": {
      "text/plain": [
       "<tensorflow.python.keras.callbacks.History at 0x15a552d30>"
      ]
     },
     "execution_count": 53,
     "metadata": {},
     "output_type": "execute_result"
    }
   ],
   "source": [
    "model = keras.Sequential([keras.layers.Flatten(input_shape = (28,28)), keras.layers.Dense(128, activation = 'relu'), keras.layers.Dense(10, activation = 'softmax')])\n",
    "model.compile(optimizer = 'adam', loss = 'sparse_categorical_crossentropy', metrics = ['accuracy'])\n",
    "model.fit(train_images, train_labels, epochs = 7, validation_split = 0.2, batch_size = 10)"
   ]
  },
  {
   "cell_type": "code",
   "execution_count": 104,
   "metadata": {},
   "outputs": [
    {
     "data": {
      "image/png": "[encoded data removed]",
      "text/plain": [
       "<Figure size 432x288 with 2 Axes>"
      ]
     },
     "metadata": {
      "needs_background": "light"
     },
     "output_type": "display_data"
    }
   ],
   "source": [
    "plt.figure()\n",
    "plt.imshow(test_images[2])\n",
    "plt.colorbar()\n",
    "plt.grid(False)\n",
    "plt.show()"
   ]
  },
  {
   "cell_type": "code",
   "execution_count": 105,
   "metadata": {},
   "outputs": [],
   "source": [
    "selectimageid = 2 # this counts from one"
   ]
  },
  {
   "cell_type": "code",
   "execution_count": 106,
   "metadata": {},
   "outputs": [
    {
     "name": "stdout",
     "output_type": "stream",
     "text": [
      "1/1 - 0s - loss: 0.0000e+00 - accuracy: 1.0000\n"
     ]
    },
    {
     "data": {
      "text/plain": [
       "[0.0, 1.0]"
      ]
     },
     "execution_count": 106,
     "metadata": {},
     "output_type": "execute_result"
    }
   ],
   "source": [
    "model.evaluate(test_images[selectimageid:(selectimageid+1)], test_labels[selectimageid:(selectimageid+1)], verbose = 2)"
   ]
  },
  {
   "cell_type": "code",
   "execution_count": 107,
   "metadata": {},
   "outputs": [
    {
     "data": {
      "text/plain": [
       "array([1], dtype=uint8)"
      ]
     },
     "execution_count": 107,
     "metadata": {},
     "output_type": "execute_result"
    }
   ],
   "source": [
    "test_labels[selectimageid:(selectimageid+1)] # Ground Truth"
   ]
  },
  {
   "cell_type": "code",
   "execution_count": 108,
   "metadata": {},
   "outputs": [
    {
     "data": {
      "text/plain": [
       "array([[1.2348562e-19, 1.0000000e+00, 0.0000000e+00, 3.1993245e-25,\n",
       "        0.0000000e+00, 0.0000000e+00, 0.0000000e+00, 0.0000000e+00,\n",
       "        4.0109554e-32, 0.0000000e+00]], dtype=float32)"
      ]
     },
     "execution_count": 108,
     "metadata": {},
     "output_type": "execute_result"
    }
   ],
   "source": [
    "model.predict(test_images[selectimageid:(selectimageid+1)])\n",
    "\n",
    "# The higher probability is given by label 2."
   ]
  },
  {
   "cell_type": "code",
   "execution_count": 109,
   "metadata": {},
   "outputs": [
    {
     "data": {
      "text/plain": [
       "1"
      ]
     },
     "execution_count": 109,
     "metadata": {},
     "output_type": "execute_result"
    }
   ],
   "source": [
    "np.argmax(model.predict(test_images[selectimageid:(selectimageid+1)]))"
   ]
  }
 ],
 "metadata": {
  "kernelspec": {
   "display_name": "Python 3",
   "language": "python",
   "name": "python3"
  },
  "language_info": {
   "codemirror_mode": {
    "name": "ipython",
    "version": 3
   },
   "file_extension": ".py",
   "mimetype": "text/x-python",
   "name": "python",
   "nbconvert_exporter": "python",
   "pygments_lexer": "ipython3",
   "version": "3.8.2"
  }
 },
 "nbformat": 4,
 "nbformat_minor": 4
}
