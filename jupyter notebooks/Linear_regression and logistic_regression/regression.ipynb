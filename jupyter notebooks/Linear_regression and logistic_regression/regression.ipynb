{
 "cells": [
  {
   "cell_type": "code",
   "execution_count": 3,
   "metadata": {},
   "outputs": [],
   "source": [
    "import numpy as np\n",
    "import matplotlib.pyplot as plt\n",
    "import math"
   ]
  },
  {
   "cell_type": "markdown",
   "metadata": {},
   "source": [
    "Victor J. Maciá Medina.\n",
    "\n",
    "These are some, improved, notes from a course on data analytics which took place at Washington University in St. Louis. Even if this is based on the classnotes, the final result is extended by introducing explanations of several of the concepts appearing here. This is written from a mathematical perspective but also contains Python implementations of these models.\n",
    "\n",
    "The purpose of these notes is having a consultation guide where going back when needed.\n",
    "\n",
    "## Recalling logistic regression\n",
    "\n",
    "\n",
    "__Likelihood function__\n",
    "\n",
    "$$log(L) = \\sum_{i=1}^{n}y_i log(p_i)+(1-y_i log(1-p_i))$$\n",
    "\n",
    "__Parameter model__ \n",
    "\n",
    "$$p_i = \\frac{1}{1+\\exp(-(\\beta_0+\\beta_1 x_1^i+ \\dots + \\beta_m x_m^i))}$$\n",
    "\n",
    "Here we combine the sigmoid with the linear model.The problem is that the linear model is not giving back probabilities, to solve this problem we use a function taking values between 0 and 1. This function is\n",
    "\n",
    "$$f(x) = \\frac{1}{1+e^{-x}}$$\n",
    "\n",
    "Let's plot this function."
   ]
  },
  {
   "cell_type": "code",
   "execution_count": 4,
   "metadata": {},
   "outputs": [
    {
     "data": {
      "text/plain": [
       "<matplotlib.collections.PathCollection at 0x7fcc80552490>"
      ]
     },
     "execution_count": 4,
     "metadata": {},
     "output_type": "execute_result"
    },
    {
     "data": {
      "image/png": "[encoded data removed]",
      "text/plain": [
       "<Figure size 432x288 with 1 Axes>"
      ]
     },
     "metadata": {
      "needs_background": "light"
     },
     "output_type": "display_data"
    }
   ],
   "source": [
    "x = np.random.normal(0,1,500)\n",
    "x = 10*x\n",
    "\n",
    "def f(x): #calculates of the sigmoid for a given vector x\n",
    "    y = len(x)*[0]\n",
    "    for i in range(0,len(x)):\n",
    "            y[i] = 1/(1+math.exp(-x[i]))\n",
    "    return y\n",
    "\n",
    "y = f(x)\n",
    "plt.scatter(x,y)"
   ]
  },
  {
   "cell_type": "markdown",
   "metadata": {},
   "source": [
    "## The general idea of this method.\n",
    "\n",
    "We have an array of values $y$ which are 0 or 1, yes or no, or in general two categories (We can generalize this to $n$ categories using the multinomial distribution). We want to model this using regression. The first problem we have is that a linear model $\\beta_0 + \\beta_1 x_1^{i}+ \\dots \\beta_m x_m^{i}$ does not work. For instance if you plot GPA against admission (in Graduate School), GPA is a continous variable taking values between 0 and 4 and admission is a discrete variable taking values 1 or 0 (or yes or no).\n",
    "\n",
    "Let's study this in detail."
   ]
  },
  {
   "cell_type": "code",
   "execution_count": 5,
   "metadata": {},
   "outputs": [
    {
     "data": {
      "text/plain": [
       "<matplotlib.collections.PathCollection at 0x7fcc487408e0>"
      ]
     },
     "execution_count": 5,
     "metadata": {},
     "output_type": "execute_result"
    },
    {
     "data": {
      "image/png": "[encoded data removed]",
      "text/plain": [
       "<Figure size 432x288 with 1 Axes>"
      ]
     },
     "metadata": {
      "needs_background": "light"
     },
     "output_type": "display_data"
    }
   ],
   "source": [
    "y = np.random.randint(2, size=1000)\n",
    "x = 4*np.random.rand(1000)\n",
    "plt.scatter(x,y)"
   ]
  },
  {
   "cell_type": "markdown",
   "metadata": {},
   "source": [
    "__This cannot be modelled using linear regression!__\n",
    "\n",
    "One of the variables takes continuous values but the other take discrete values, in particular 0 and 1.\n",
    "\n",
    "Instead of assuming that $y$ follows a linear model we assume that $\\log(\\frac{p_i}{1-p_i})$, where $p_i$ is the parameter of the variable $Y_i$, follows a linear model.\n",
    "\n",
    "In our particular case we have a vector, or an array given by an array of variables, which is a Bernoulli vector $Y$.\n",
    "\n",
    "The log-odds of a Bernoulli variable of parameter $p$ is $\\log(\\frac{p}{1-p})$. We divide the probability of success by the probability of failure and then we take the logarithm of this quantity.\n",
    "\n",
    "Suppose that the log-odd function for the event $Y_i = 1$, follows a linear model. That is, for each $p_i$ we have\n",
    "\n",
    "$$\\log(\\frac{p_i}{1-p_i}) = \\sum_{j=1}^{n}\\beta_j x_j^{i}$$\n",
    "\n",
    "Therefore\n",
    "\n",
    "$$\\frac{p_i}{1-p_i} = \\exp\\left(\\sum_{j=1}^{n}\\beta_j x_j^{i}\\right)$$\n",
    "\n",
    "In particular\n",
    "\n",
    "$$p_i = \\frac{1}{1+\\exp\\left(-\\sum_{j=1}^{n}\\beta_j x_j^{i}\\right)}$$\n",
    "\n",
    "\n",
    "Notice that we can use any base for the logarithm. Here I use the natural logarithm. Let's see a complete example."
   ]
  },
  {
   "cell_type": "code",
   "execution_count": 6,
   "metadata": {},
   "outputs": [],
   "source": [
    "X1 = 2*np.random.rand(5000,1)\n",
    "X2 = 5*np.random.rand(5000,1)\n",
    "X3 = np.random.rand(5000,1)\n",
    "\n",
    "eta = 0.5*X1+0.1*X2+1.56*X3-1\n",
    "X = np.column_stack([X1,X2,X3])\n",
    "p = 1/(1+np.exp(-eta))\n",
    "\n",
    "y = np.random.binomial(1,p).reshape(5000,1)"
   ]
  },
  {
   "cell_type": "code",
   "execution_count": 7,
   "metadata": {},
   "outputs": [
    {
     "data": {
      "image/png": "[encoded data removed]",
      "text/plain": [
       "<Figure size 432x288 with 1 Axes>"
      ]
     },
     "metadata": {
      "needs_background": "light"
     },
     "output_type": "display_data"
    }
   ],
   "source": [
    "plt.scatter(X[:,1],y)\n",
    "plt.title('Scatter plot')\n",
    "plt.xlabel('X2')\n",
    "plt.ylabel('Label')\n",
    "plt.show()"
   ]
  },
  {
   "cell_type": "markdown",
   "metadata": {},
   "source": [
    "## Implementing logistic regression using Newton-Raphson\n",
    "\n",
    "__Hessian matrix__\n",
    "\n",
    "\\begin{align*}\n",
    "H = -X^TWX, \n",
    "\\end{align*}\n",
    "\n",
    "Here $W$ is \n",
    "\n",
    "\\begin{align*}\n",
    "W = \\begin{bmatrix}\n",
    "p_1(1-p_1) & \\dots  & & &  \\\\\n",
    "  & p_2(1-p_2) & & &\\\\\n",
    "\\vdots &  &  &  & \\\\\n",
    " & & & & \\\\\n",
    " & & \\ddots & &  \\\\\n",
    " & & & p_n(1-p_n) &\n",
    "\\end{bmatrix}\n",
    "\\end{align*}\n",
    "\n",
    "where $W$ is a diagonal matrix.\n",
    "\n",
    "__Newton Raphson algorithm formula__\n",
    "\n",
    "$$\\beta^{(k+1)} = \\beta^{(k)}+(X^TWX)^{-1}X^T(y-p)$$\n",
    "\n",
    "where $k$ denotes the $k-th$ iteration. Here we choose $\\beta^{(0)}$ as initial point. (Recall that in the Newton-Raphson method we choose the first point, we calculate the tangent to the function at that point and then we find a new point close to the zero which is the zero of the tangent line at the initial point. We iterate.)\n",
    "\n",
    "__The idea under this formula__\n",
    "\n",
    "We want to find the parameters $\\beta$. The function we get when differenting the maximum likelihood function is difficult to manage (we want to apply the maximum likelihood estimation).\n",
    "\n",
    "We apply the maximum likelihood estimation when modeling $p_i$ as\n",
    "\n",
    "$$p_i = \\frac{1}{1+\\exp\\left(-\\sum_{j=1}^{m}\\beta_j x_j^{i}\\right)}$$\n",
    "\n",
    "We have \n",
    "\n",
    "\\begin{align*}\n",
    "L(p;\\beta) = \\prod_{j=1}^{m} (1-p_j)^{1-y_j}p_j^{y_j}\n",
    "\\end{align*}\n",
    "\n",
    "We maximize this function respect to $\\beta$ (we assume that $y_i$ is given). We take logarithms \n",
    "\n",
    "\\begin{align*}\n",
    "l = \\log(L) = \\sum_{j=1}^{m}\\left((1-y_j)\\log(1-p_j)+y_j\\log(p_j)\\right)\n",
    "\\end{align*}\n",
    "\n",
    "Taking partial derivatives\n",
    "\n",
    "$$\\frac{\\partial l}{\\partial \\beta_k} = \\sum_{j=1}^{m} \\left( -(1-y_j)\\frac{\\frac{\\partial p_j}{\\partial \\beta_k}}{1-p_j}+y_j\\frac{\\frac{\\partial p_j}{\\partial \\beta_k}}{p_j}\\right) $$\n",
    "\n",
    "Notice that\n",
    "\\begin{align*}\n",
    "\\frac{\\partial p_j}{\\partial \\beta_k} = (1-p_j)p_j\\frac{\\partial \\sum_{l=1}^{m}\\beta_j x_l^{j} }{\\partial \\beta_k} = (1-p_j)p_j x_k^j.\n",
    "\\end{align*}\n",
    "\n",
    "Therefore \n",
    "\n",
    "\\begin{align*}\n",
    "\\frac{\\partial l}{\\partial \\beta_k} = \\sum_{j=1}^{m}(y_j-p_j)x_k^j.\n",
    "\\end{align*}\n",
    "\n",
    "We want to solve the equation\n",
    "\n",
    "\\begin{align*}\n",
    "\\sum_{j=1}^{m}(y_j-p_j)x_k^j = 0\n",
    "\\end{align*}\n",
    "\n",
    "The term $p_j$ is non-linear, in the linear regression model we find $(y_j-x^{i}\\cdot \\beta)$, where $x^{i}$ and $\\beta$ are vectors, in this case the model is linear and we can solve the equation using linear algebra.\n",
    "\n",
    "For the case $\\sum_{j=1}^{m}(p_j-y_j)x_k^j = 0$, where $p_i$ is non linear, we will use an iterative method, the Newton-Raphson algorithm. \n",
    "\n",
    "## Newton-Raphson\n",
    "\n",
    "We will introduce here the Newton-Raphson method in a informal way.\n",
    "Suppose we have real differentiable function, of one real variable, $f(x)$, chose $x_0 \\in \\mathbb{R}$. Suppose that the derivative of $f$ is non zero in a, big enough, open set around the zero we are trying to find (This is a silly hypothesis in practice, we are applying a practical algorithm we are not really worried about the mathematical details). We write the tangent line to $f$ at this point.\n",
    "\n",
    "\\begin{align*}\n",
    "f'(x_0)(x-x_0)+f(x_0)\n",
    "\\end{align*}\n",
    "\n",
    "we find the zero of this line\n",
    "\n",
    "$$x = x_0-\\frac{f(x_0)}{f'(x_0)}$$\n",
    "\n",
    "In general we find an algorithm to find a zero of $f$,\n",
    "\n",
    "$$x_n = x_{n-1}-\\frac{f(x_{n-1})}{f'(x_{n-1})}$$\n",
    "\n",
    "When this algorithm converges, the convergence is cuadratic.\n",
    "\n",
    "We want to apply this algorithm to our previous equation. We can apply this algorithm to the derivative with respect to $\\beta$ of the log-likelihood function. We obtain the formula\n",
    "\n",
    "$$\\beta^{(k+1)} = \\beta^{(k)}-H^{-1}(\\beta) \\nabla log(L)(\\beta)$$\n",
    "\n",
    "where $H$ is the Hessian matrix of $l = log(L)(\\beta)$. This is the Newton-Raphson method in higher dimension.\n",
    "\n",
    "In practice we need to calculate the Hessian matrix. Notice that\n",
    "\n",
    "\\begin{align*}\n",
    "\\frac{\\partial^2 l}{\\partial \\beta_s \\beta_t} = -p_i(1-p_i)x_s^{i} x_t^{i}\n",
    "\\end{align*}\n",
    "\n",
    "Recall that \n",
    "\n",
    "\\begin{align*}\n",
    "\\frac{\\partial l}{\\partial \\beta_k} = \\sum_{j=1}^{m}(y_j-p_j)x_k^j,\n",
    "\\end{align*}\n",
    "\n",
    "and\n",
    "\n",
    "\\begin{align*}\n",
    "\\frac{\\partial p_j}{\\partial \\beta_k} = (1-p_j)p_j x_k^j.\n",
    "\\end{align*}\n",
    "\n",
    "If we write this using matrices, we find that\n",
    "\n",
    "$$H = -X^t W X.$$\n",
    "\n",
    "Now recall that \n",
    "\n",
    "$$\\nabla l = (\\frac{\\partial l}{\\partial \\beta_0}, \\frac{\\partial l}{\\partial \\beta_1}, \\dots, \\frac{\\partial l}{\\partial \\beta_m})^t$$\n",
    "\n",
    "and \n",
    "\n",
    "\\begin{align*}\n",
    "\\frac{\\partial l}{\\partial \\beta_k} = \\sum_{j=1}^{m}(y_j-p_j)x_k^j,\n",
    "\\end{align*}\n",
    "\n",
    "therefore \n",
    "\n",
    "$$\\nabla l = X^t(y-p)$$\n",
    "\n",
    "Going back to Newton-Raphson, we get \n",
    "\n",
    "$$\\beta^{(k+1)} = \\beta^{(k)}+(X^t W X)^{-1}X^t(y-p)$$\n",
    "\n",
    "where \n",
    "\n",
    "\\begin{align*}\n",
    "W = \\begin{bmatrix}\n",
    "p_1(1-p_1) & \\dots  & & &  \\\\\n",
    "  & p_2(1-p_2) & & &\\\\\n",
    "\\vdots &  &  &  & \\\\\n",
    " & & & & \\\\\n",
    " & & \\ddots & &  \\\\\n",
    " & & & p_n(1-p_n) &\n",
    "\\end{bmatrix}.\n",
    "\\end{align*}\n",
    "\n",
    "\n",
    "We initialize this algorithm taking an initial $\\beta_0$. With this $\\beta_0$ we can calculate $p$. We stop the iterations when the error $|\\beta^{k}-\\beta^{(k-1)}|$ is small enough."
   ]
  },
  {
   "cell_type": "markdown",
   "metadata": {},
   "source": [
    "__Comments about the implementation__\n",
    "\n",
    "$\\Delta\\beta = (X^t W X)^{-1}X^t(y-p)$ -> deltabeta parameter which varies on each iteration.\n",
    "\n",
    "This is the piece in our previous equation which is giving us the next iteration. Notice that this equation is $\\beta$ dependent, we have to use the 'new beta' in each iteration to calculate $p$ (which depends on beta)."
   ]
  },
  {
   "cell_type": "code",
   "execution_count": 8,
   "metadata": {},
   "outputs": [
    {
     "data": {
      "text/plain": [
       "array([[ 0.21663222, -0.04182741,  1.02688307]])"
      ]
     },
     "execution_count": 8,
     "metadata": {},
     "output_type": "execute_result"
    }
   ],
   "source": [
    "# Implementation of the previous algorithm\n",
    "\n",
    "\n",
    "# Here we are using the X values from above, refer to the comment below.\n",
    "\n",
    "X1 = 2*np.random.rand(5000,1)\n",
    "X2 = 5*np.random.rand(5000,1)\n",
    "X3 = np.random.rand(5000,1)\n",
    "\n",
    "eta = 0.5*X1+0.1*X2+1.56*X3-1\n",
    "X = np.column_stack([X1,X2,X3])\n",
    "p = 1/(1+np.exp(-eta))\n",
    "\n",
    "y = np.random.binomial(1,p).reshape(5000,1)\n",
    "\n",
    "\n",
    "# The piece of code above this line was written at the beginning ---\n",
    "# This is just for the sake of clarity.\n",
    "\n",
    "beta = np.array([0.2,0.1,0.1]).reshape(-1,1) # initial beta - transpose - reshape(-1,1)\n",
    "\n",
    "Deltabeta = np.array([0.1,0.1,0.1]).reshape(-1,1) # The initial Deltabeta should be bigger than your while-condition\n",
    "\n",
    "while np.max(np.abs(Deltabeta))>1e-15:\n",
    "       p = 1/(1+np.exp(-np.matmul(X,beta))) # probabilities at each iteration\n",
    "       W = np.diag(np.multiply(p,(1-p))[:,0]) # matrices in the decomposition\n",
    "       XtY = np.matmul(X.T,(y-p))\n",
    "       XtWX = np.matmul(np.matmul(X.T,W),X)\n",
    "       Deltabeta = np.matmul(np.linalg.inv(XtWX),XtY)\n",
    "       beta = beta + Deltabeta\n",
    "beta.T\n",
    "\n",
    "# We can predict the probability of an outcome using this model."
   ]
  },
  {
   "cell_type": "markdown",
   "metadata": {},
   "source": [
    "## Really important remark: \n",
    "\n",
    "We are modelling the problem without intercept. When you do this, the results are different than when we model \n",
    "the problem considering the intercept.\n",
    "\n",
    "When implementing Newton-Raphson we have to consider this and adding a column with one at the firt column of the matrix, moving the other columns to the right."
   ]
  },
  {
   "cell_type": "markdown",
   "metadata": {},
   "source": [
    "__Model prediction__\n",
    "\n",
    "\n",
    "__Prediction from this logistic-regression model__"
   ]
  },
  {
   "cell_type": "code",
   "execution_count": 113,
   "metadata": {},
   "outputs": [
    {
     "data": {
      "text/plain": [
       "array([0.55375528])"
      ]
     },
     "execution_count": 113,
     "metadata": {},
     "output_type": "execute_result"
    }
   ],
   "source": [
    "p = 1/(1+np.exp(-np.matmul(beta.T,X[0])))\n",
    "p # We are fixing the first column of the matrix X,  \n",
    "  # then this is the predition for p_0 using the logistic regression.\n",
    "    \n",
    "    "
   ]
  },
  {
   "cell_type": "markdown",
   "metadata": {},
   "source": [
    "__Prediction using the sklearn built-in model__"
   ]
  },
  {
   "cell_type": "markdown",
   "metadata": {},
   "source": [
    "This is the sklearn code and its parameters\n",
    "\n",
    "```class sklearn.linear_model.LogisticRegression(penalty='l2', *, dual=False, tol=0.0001, C=1.0, fit_intercept=True, intercept_scaling=1, class_weight=None, random_state=None, solver='lbfgs', max_iter=100, multi_class='auto', verbose=0, warm_start=False, n_jobs=None, l1_ratio=None)\n",
    "```"
   ]
  },
  {
   "cell_type": "code",
   "execution_count": 12,
   "metadata": {},
   "outputs": [
    {
     "name": "stdout",
     "output_type": "stream",
     "text": [
      "[array([[0.44237929, 0.05100324, 1.4861764 ]]), array([-0.745295])]\n"
     ]
    }
   ],
   "source": [
    "from sklearn.linear_model import LogisticRegression\n",
    "\n",
    "lr = LogisticRegression(penalty = 'none', solver = 'newton-cg', fit_intercept = False)\n",
    "\n",
    "# We will see the penalty option later, none -> standard logistic regression\n",
    "# solver = 'newton-cg', give you the method to find beta\n",
    "# fit_intercept = False, by default the model provides you beta_0 \n",
    "# if we set false, because we want to compare this with our previous model,\n",
    "# the model does not give you beta_0.\n",
    "\n",
    "lr.fit(X,y.reshape(y.size))\n",
    "\n",
    "print([lr.coef_,lr.intercept_])"
   ]
  },
  {
   "cell_type": "code",
   "execution_count": 139,
   "metadata": {},
   "outputs": [
    {
     "data": {
      "text/plain": [
       "array([[0.37867324, 0.62132676]])"
      ]
     },
     "execution_count": 139,
     "metadata": {},
     "output_type": "execute_result"
    }
   ],
   "source": [
    "lr.predict_proba(X[0:1]) # This code gives a matrix and not an array X[0:1]\n",
    "\n",
    "# Here we obtain the probability for the first parameter to be zero\n",
    "# and the probability for the second parameter to be one."
   ]
  },
  {
   "cell_type": "markdown",
   "metadata": {},
   "source": [
    "The parameters we obtain here are the same than our previous parameters.\n",
    "\n",
    "\n"
   ]
  },
  {
   "cell_type": "markdown",
   "metadata": {},
   "source": [
    "# Poisson regression\n",
    "\n",
    "\n",
    "Consider the car accident in St. Louis in a particular day. We have 365 days and the number of accidents per day. Our vector $y$ takes values freely between minus infinity and infinity (in this case, discrete values). \n",
    "\n",
    "We also consider some other variables as weather, etc. In this particular case $y$ could take values, for instance, between 0 and 1000. y will be a function of weather, weakday etc.\n",
    "\n",
    "In the linear regression model we can assume $y$ follows a normal distribution. In the logistic regression we assume Binomial or Bernoulli.\n",
    "In this example we consider the poisson distributions.\n",
    "\n",
    "Recall that the poisson distributions models the number of events happening in a certaing time interval.\n",
    "\n",
    "To clarify a little this. The Poisson distribution gives the probability of a given number of events ocurring in a fixed period of time or space, where the mean rate is constant and each trial is independent.\n",
    "\n",
    "We model our problem using a Poisson distribution. Instead of model $y$ using a linear model we will model $y \\sim Poiss(\\lambda)$ by modeling the parameter $\\lambda$, that is, $\\lambda = f(x) = e^{x \\cdot \\beta}$, where $x,\\beta$ are vectors and $\\cdot$ means dot product.\n",
    "\n",
    "Likelihood function.\n",
    "\n",
    "$$L(y_i,\\lambda_i) = \\frac{\\lambda_i^{y_i}}{y_i!}e^{-\\lambda_i}$$\n",
    "\n",
    "therefore the total likelihood function is\n",
    "\n",
    "\\begin{align*}\n",
    "L = \\prod_{j=1}^{n} \\frac{\\lambda_i^{y_i}}{y_i!}e^{-\\lambda_i}.\n",
    "\\end{align*}\n",
    "\n",
    "Taking logarithms we find that\n",
    "\n",
    "\\begin{align*}\n",
    "l = \\log(L) = \\sum_{i=1}^{n}\\left(y_i\\log(\\lambda_i)-\\lambda_i-log(y_i!)\\right)\n",
    "\\end{align*}\n",
    "\n",
    "Recall that we modeled $\\lambda_i = x^{i} \\cdot \\beta$, where $x^{i}$ is the i-th column of the matrix $X$. Using this remark we find that\n",
    "\n",
    "\\begin{align*}\n",
    "l = \\log(L) = \\sum_{i=1}^{n}\\left(y_i x^{i}\\cdot \\beta-e^{x^{i} \\cdot \\beta}-log(y_i!) \\right).\n",
    "\\end{align*}\n",
    "\n",
    "Taking partial derivatives, we find that\n",
    "\n",
    "\\begin{align*}\n",
    "\\frac{\\partial l}{\\partial \\beta_k} = \\sum_{i=1}^{n} \\left( y_i x^{i}_k-e^{x^{i} \\cdot \\beta}x^{i}_k \\right) = \\sum_{i=1}^{n} \\left((y_i-e^{x^{i} \\cdot \\beta})x^{i}_k\\right) = \\sum_{i=1}^{n} \\left((y_i-\\lambda_i)x^{i}_k\\right). \n",
    "\\end{align*}\n",
    "\n",
    "We want to maximize $l$. in order to do that we should find the zeros of the previous partial derivative.\n",
    "\n",
    "\n",
    "Again __Newton-Raphson__:\n",
    "\n",
    "\n",
    "Again we have to calculat the Hessian matrix $H$, that is, we have to calculate all the second order partial derivatives. Notice that\n",
    "\n",
    "$$\\frac{\\partial^2 l}{\\partial \\beta_k \\partial \\beta_t} = -\\sum_{i=1}^{n}\\lambda_i x^{i}_k x^{i}_t.$$\n",
    "\n",
    "Therefore we have\n",
    "\\begin{align*}\n",
    "H = X^t \\Lambda X\n",
    "\\end{align*}\n",
    "where $\\Lambda = (\\lambda_i)_{ii}$ is a diagonal matrix.\n",
    "\n",
    "We can apply againg Newton-Raphson to find that\n",
    "\n",
    "$$\\beta^{(k+1)} = \\beta^{(k)}+H \\nabla l$$\n",
    "\n",
    "where $\\beta^{0}$ is the initializing parameter."
   ]
  },
  {
   "cell_type": "markdown",
   "metadata": {},
   "source": [
    "# Generalized Linear Model (GLM)\n",
    "\n",
    "There is a general model containing the previous ones. This is called generalized linear model. \n",
    "\n",
    "In the previous cases we assumed that $y$ was following a normal distribution in the linear regression case, a Bernoulli distribution in the Logistic regression case, and a Poisson distribution in the Poisson regression case.\n",
    "\n",
    "1. In the linear regression case we modeled $\\mu = \\beta \\cdot x$.\n",
    "\n",
    "2. In the logistic regression case we modeled $p = \\frac{1}{1+\\exp(- \\beta \\cdot x)}$.\n",
    "\n",
    "3. In the Poisson regression case we modeled $\\lambda = e^{\\beta \\cdot x}$.\n",
    "\n",
    "\n",
    "Here $\\beta$ and $x$ represent vectors.  In all of these cases we consider the likelihood function. In general we write\n",
    "\n",
    "\\begin{align*}\n",
    "L(y,x; \\beta) = \\prod_{i=1}^{n}L_i(y_i, \\beta \\cdot x^{i}).\n",
    "\\end{align*}\n",
    "\n",
    "Then we use the log-likelihood function $l = log(L)$. We maximize this function using partial derivatives (here we use the maximum likelihood estimate). Then we use Newton-Raphson to find zeros of these partial derivatives. \n",
    "\n",
    "We can extract a general recipe from this procedure. We write the general exponential family\n",
    "\n",
    "\\begin{align*}\n",
    "f(y) = \\exp\\left(\\frac{y\\theta-b(\\theta)}{a(\\phi)}+c(y,\\phi) \\right)\n",
    "\\end{align*}\n",
    "\n",
    "where $a(\\phi)$, $b(\\theta)$ and $c(y,\\phi)$ are functions. If we choose these functions adequately we recover the gaussian, the Bernoulli and the Poisson.\n",
    "\n",
    "1. If we take $a(\\phi) = \\phi^2$, $b(\\theta) =\\frac{1}{2}\\theta^2$ and $c(y,\\phi) = -\\frac{y^2}{2\\phi^2}-\\frac{1}{2}\\log(2\\pi \\phi^2)$ we find that\n",
    "\n",
    "$$f(y) = \\frac{1}{\\sqrt{2\\pi}\\phi}\\exp(-\\frac{(y-\\theta)^2}{2\\phi^2})$$\n",
    "\n",
    "for $\\theta = \\mu$ and $\\phi = \\sigma$ we recover the Normal distribution.\n",
    "\n",
    "2. If we take $\\theta = log(p)-log(1-p)$, $a(\\phi) = 1$, $b(\\theta) = \\log(1+e^{\\theta})$, $c(y,\\phi) = 0$, then we find that\n",
    "\n",
    "$$f(y) = \\exp(y\\theta)\\frac{1}{1+\\exp{\\theta}} = p^{y}(1-p)^{1-y}$$\n",
    "\n",
    "where $e^{\\theta} = \\frac{p}{1-p}$, then $1+e^{\\theta}= 1-p$. Then we recover the Bernoulli distribution.\n",
    "\n",
    "3. This cover a lot of distributions. Look at the link: https://en.wikipedia.org/wiki/Exponential_family#Table_of_distributions\n",
    "\n",
    "## Moments of the exponential family.\n",
    "\n",
    "Let's studyt the moments of the exponential family. First we study the expectation. Let be $Y$ a random variable with law a exponential family. We write\n",
    "\n",
    "\\begin{align*}\n",
    "\\mathbb{E}(Y) = \\int_{-\\infty}^{\\infty} yf(y)dy = \\int_{-\\infty}^{\\infty}y \\exp\\left(\\frac{y\\theta-b(\\theta)}{a(\\phi)}+c(y,\\phi)\\right)dy.\n",
    "\\end{align*}\n",
    "\n",
    "We differentiate with respect to $\\theta$ under the integral sign, we do this informally, to find that \n",
    "\n",
    "\\begin{align*}\n",
    "\\frac{\\partial}{\\partial \\theta}\\mathbb{E}(Y) = 0 = \\int_{-\\infty}^{\\infty} \\frac{\\partial}{\\partial \\theta} y \\exp\\left(\\frac{y\\theta-b(\\theta)}{a(\\phi)}+c(y,\\phi)\\right)dy\n",
    "\\end{align*}\n",
    "\n",
    "We get that\n",
    "\\begin{align*}\n",
    "E(Y) = b'(\\theta).\n",
    "\\end{align*}\n",
    "\n",
    "This is really informal and __need to be improved__.\n",
    "\n",
    "Some examples:\n",
    "\n",
    "1. Normal distribution, $b(\\theta) = \\frac{1}{2}\\theta^2$, therefore $b'(\\theta) = \\theta$.\n",
    "\n",
    "2. Bernoulli distribution, $b(\\theta) = \\log(1+e^{\\theta})$ and $b'(\\theta) = \\frac{e^{\\theta}}{1+e^{\\theta}} = \\frac{\\frac{p}{1-p}}{1+\\frac{p}{1-p}} = p$.\n",
    "\n",
    "For the variance we have $Var(Y) = a(\\phi)b''(\\theta)$.\n",
    "\n",
    "## Likelihood function of the exponential family.\n",
    "\n",
    "Suppose we have a variable $Y$, which is a vector, and a matrix $X$ conformed by the predictors. We write a matrix $[y^t, X]$.\n",
    "\n",
    "$Y$ could follow any of the distributions given by the exponential family.\n",
    "\n",
    "The Likelihood function for one value is \n",
    "$$L(y_i) = \\exp(\\frac{y_i \\theta-b(\\theta)}{a(\\phi)}+c(y,\\phi))$$\n",
    "\n",
    "Now we made an assumption $E(Y) = b'(\\theta) = g(x \\cdot \\beta)$, where $x$ and $\\beta$ are vectors.\n",
    "\n",
    "1. For instance for the Gaussian distribution, linear regression, we should take $g(z) = z$. \n",
    "\n",
    "2. For logistic regression we should take $g(z) = \\frac{1}{1+\\exp(x \\cdot \\beta)}$\n",
    "\n",
    "The inverse of the function $g$ is called __link function__. In case where $g(z)=b'(z)$, the inverse of this function is call __the canonical link__.\n",
    "\n",
    "## Optimizing the Generalized Linear Model (GLM).\n",
    "\n",
    "We want to find $\\beta$ maximizing the likelihood. The likelihood function is\n",
    "\\begin{align*}\n",
    "L = \\prod_{i=1}^{n} \\exp(\\frac{y_i \\theta -b(\\theta)}{a(\\phi)}+c(y,\\phi))\n",
    "\\end{align*}\n",
    "here $b'(\\theta_i) = g(x^{i} \\cdot \\beta)$.\n",
    "\n",
    "The log-likelihood function is \n",
    "\\begin{align*}\n",
    "l = \\log(L) = \\sum_{i=1}^{n} \\left[ \\frac{y_i \\theta -b(\\theta)}{a(\\phi)}+c(y,\\phi) \\right].\n",
    "\\end{align*}\n",
    "\n",
    "We calculate the parcial derivatives\n",
    "\n",
    "\\begin{align*}\n",
    "\\frac{\\partial l}{\\partial \\beta_j} = 0\n",
    "\\end{align*}\n",
    "then we get the equality\n",
    "\\begin{align*}\n",
    "\\sum_{i=1}^{n}(y_i-b'(\\theta_i))x^{i}_j = 0.\n",
    "\\end{align*}\n",
    "This is the canonical link function.\n",
    "\n",
    "This is telling us that:\n",
    "\n",
    "1. If we take GLM gaussian + canonical link function $\\iff$ linear regression\n",
    "2. If we take GLM Binomial + canonical link funtion $\\iff$ logistic regression\n",
    "3. If we take GLM Poisson + canonical link function $\\iff$ Poisson regression.\n",
    "\n",
    "To use __Newton-Raphson__ we need to calculate the Hessian. This is a complex calculation, I won't write this here. In this calculations everything depends on the data sets.\n",
    "\n",
    "We should use, again, the formula\n",
    "\n",
    "\\begin{align*}\n",
    "\\beta^{k+1} = \\beta^{k}-H^{-1}\\nabla l(\\beta)\n",
    "\\end{align*}\n",
    "\n"
   ]
  },
  {
   "cell_type": "markdown",
   "metadata": {},
   "source": [
    "## Implementing GLM in Python"
   ]
  },
  {
   "cell_type": "code",
   "execution_count": 16,
   "metadata": {},
   "outputs": [],
   "source": [
    "# This is implemented using a python package\n",
    "\n",
    "# Libraries\n",
    "\n",
    "import numpy as np\n",
    "from sklearn.linear_model import LinearRegression\n",
    "import pandas as pd\n",
    "import statsmodels.api as sm # This is the library we will use to implement GLM\n",
    "\n",
    "\n"
   ]
  },
  {
   "cell_type": "markdown",
   "metadata": {},
   "source": [
    "## Generalized Linear Model: Gaussian distribution"
   ]
  },
  {
   "cell_type": "code",
   "execution_count": 38,
   "metadata": {},
   "outputs": [
    {
     "data": {
      "text/plain": [
       "array([-0.42429618, -1.31878899, -1.08886687, ...,  0.9096764 ,\n",
       "        0.14669065, -0.05173123])"
      ]
     },
     "execution_count": 38,
     "metadata": {},
     "output_type": "execute_result"
    }
   ],
   "source": [
    "X = np.random.randn(5000,3)\n",
    "Y = .3*X[:,[0]]+X[:,[1]]+2*X[:,[2]]+2+np.random.randn(5000,1)\n",
    "\n",
    "# If we add a bracket inside the matrix we get the transpose directly\n",
    "# I mean the transpose of the vector we are recovering from the matrix."
   ]
  },
  {
   "cell_type": "markdown",
   "metadata": {},
   "source": [
    "## Build GLM in statsmodels\n",
    "\n",
    "__Understading a p-value__\n",
    "\n",
    "- A p-value less than 0.05 is statistically significant.\n",
    "- A p-value higher than 0.05 is statistically significant."
   ]
  },
  {
   "cell_type": "code",
   "execution_count": 41,
   "metadata": {},
   "outputs": [],
   "source": [
    "X_pd = pd.DataFrame(X) # We need to use dataframes with this library.\n",
    "X_pd = sm.add_constant(X_pd) # create the matrix that will lead to the beta_0 coeff.\n",
    "Y_pd = pd.DataFrame(Y)\n",
    "\n",
    "# To get an intercept we need to have an x_0 variable which is 1. This\n",
    "# is what we do in add constant.\n",
    "\n"
   ]
  },
  {
   "cell_type": "code",
   "execution_count": 43,
   "metadata": {},
   "outputs": [
    {
     "name": "stdout",
     "output_type": "stream",
     "text": [
      "                 Generalized Linear Model Regression Results                  \n",
      "==============================================================================\n",
      "Dep. Variable:                      0   No. Observations:                 5000\n",
      "Model:                            GLM   Df Residuals:                     4996\n",
      "Model Family:                Gaussian   Df Model:                            3\n",
      "Link Function:               identity   Scale:                         0.97248\n",
      "Method:                          IRLS   Log-Likelihood:                -7022.9\n",
      "Date:                Sat, 10 Oct 2020   Deviance:                       4858.5\n",
      "Time:                        00:17:02   Pearson chi2:                 4.86e+03\n",
      "No. Iterations:                     3                                         \n",
      "Covariance Type:            nonrobust                                         \n",
      "==============================================================================\n",
      "                 coef    std err          z      P>|z|      [0.025      0.975]\n",
      "------------------------------------------------------------------------------\n",
      "const          2.0013      0.014    143.487      0.000       1.974       2.029\n",
      "0              0.2905      0.014     20.915      0.000       0.263       0.318\n",
      "1              0.9954      0.014     72.026      0.000       0.968       1.022\n",
      "2              2.0304      0.014    144.354      0.000       2.003       2.058\n",
      "==============================================================================\n"
     ]
    }
   ],
   "source": [
    "# Create a Gaussian model with the default link function \n",
    "\n",
    "gaussian_model = sm.GLM(Y_pd,X_pd, family = sm.families.Gaussian())\n",
    "gaussian_model_results = gaussian_model.fit() # take parameters and fit the model\n",
    "print(gaussian_model_results.summary())"
   ]
  },
  {
   "cell_type": "markdown",
   "metadata": {},
   "source": [
    "We get back a lot of information. We even recover some confidence intervals."
   ]
  },
  {
   "cell_type": "markdown",
   "metadata": {},
   "source": [
    "## Compare with Linear Regression in sklearn"
   ]
  },
  {
   "cell_type": "code",
   "execution_count": 45,
   "metadata": {},
   "outputs": [
    {
     "name": "stdout",
     "output_type": "stream",
     "text": [
      "[array([[0.29046699, 0.99536256, 2.03043557]]), array([2.00127072])]\n"
     ]
    }
   ],
   "source": [
    "from sklearn.linear_model import LinearRegression\n",
    "reg = LinearRegression().fit(X,Y)\n",
    "print([reg.coef_,reg.intercept_])\n",
    "\n",
    "# We get the same values"
   ]
  },
  {
   "cell_type": "markdown",
   "metadata": {},
   "source": [
    "## Generalized Linear Model: Bernoulli distribution"
   ]
  },
  {
   "cell_type": "code",
   "execution_count": 48,
   "metadata": {},
   "outputs": [],
   "source": [
    "X1 = 2*np.random.rand(5000,1)\n",
    "X2 = 5*np.random.rand(5000,1)\n",
    "X3 = np.random.rand(5000,1)\n",
    "\n",
    "eta = 0.5*X1+0.1*X2+1.56*X3-1\n",
    "X = np.column_stack([X1,X2,X3])\n",
    "p = 1/(1+np.exp(-eta))\n",
    "\n",
    "y = np.random.binomial(1,p).reshape(5000,1)"
   ]
  },
  {
   "cell_type": "code",
   "execution_count": 49,
   "metadata": {},
   "outputs": [],
   "source": [
    "# Dataframes\n",
    "\n",
    "X_pd = pd.DataFrame(X)\n",
    "X_pd = sm.add_constant(X_pd) # Create the [X,1] matrix\n",
    "Y_pd = pd.DataFrame(y)"
   ]
  },
  {
   "cell_type": "markdown",
   "metadata": {},
   "source": [
    "## Build GLM statsmodel"
   ]
  },
  {
   "cell_type": "code",
   "execution_count": 53,
   "metadata": {},
   "outputs": [
    {
     "name": "stdout",
     "output_type": "stream",
     "text": [
      "                 Generalized Linear Model Regression Results                  \n",
      "==============================================================================\n",
      "Dep. Variable:                      0   No. Observations:                 5000\n",
      "Model:                            GLM   Df Residuals:                     4996\n",
      "Model Family:                Binomial   Df Model:                            3\n",
      "Link Function:                  logit   Scale:                          1.0000\n",
      "Method:                          IRLS   Log-Likelihood:                -3179.3\n",
      "Date:                Sat, 10 Oct 2020   Deviance:                       6358.6\n",
      "Time:                        00:28:00   Pearson chi2:                 5.00e+03\n",
      "No. Iterations:                     4                                         \n",
      "Covariance Type:            nonrobust                                         \n",
      "==============================================================================\n",
      "                 coef    std err          z      P>|z|      [0.025      0.975]\n",
      "------------------------------------------------------------------------------\n",
      "const         -0.9129      0.094     -9.661      0.000      -1.098      -0.728\n",
      "0              0.4146      0.053      7.886      0.000       0.312       0.518\n",
      "1              0.1066      0.021      5.128      0.000       0.066       0.147\n",
      "2              1.4948      0.106     14.092      0.000       1.287       1.703\n",
      "==============================================================================\n"
     ]
    }
   ],
   "source": [
    "# Gaussian family model with the default link function\n",
    "\n",
    "binomial_model = sm.GLM(Y_pd,X_pd, family = sm.families.Binomial())\n",
    "binomial_model_results = binomial_model.fit()\n",
    "\n",
    "print(binomial_model_results.summary())"
   ]
  },
  {
   "cell_type": "markdown",
   "metadata": {},
   "source": [
    "## Compare with the logistic model using sklearn\n",
    "\n"
   ]
  },
  {
   "cell_type": "code",
   "execution_count": 55,
   "metadata": {},
   "outputs": [
    {
     "name": "stdout",
     "output_type": "stream",
     "text": [
      "[array([[0.4145558 , 0.10655078, 1.49479068]]), array([-0.91292916])]\n"
     ]
    }
   ],
   "source": [
    "from sklearn.linear_model import LogisticRegression\n",
    "\n",
    "lr = LogisticRegression(penalty = 'none', solver = 'newton-cg')\n",
    "lr.fit(X,y.reshape(y.size))\n",
    "\n",
    "print([lr.coef_,lr.intercept_])\n",
    "\n",
    "# The result is the same"
   ]
  },
  {
   "cell_type": "markdown",
   "metadata": {},
   "source": [
    "# Saturated model and deviance.\n",
    "\n",
    "In reality not all the data in the data set is useful. We won't use all the data. Sometimes we will create some variables (when we calculate the intercept we add a one column to $X$).\n",
    "\n",
    "When the length of your data increase, you will have that the likelihood function will increase.\n",
    "\n",
    "A saturated model is a model where there are as many estimated parameters as data points. In a saturated model we must have $\\hat{y}_i = \\hat{\\theta}_i = y_i$. We have been using the hat notation without writing the hat previous to this comment.\n",
    "\n",
    "Let's see an example using the logistic regression. $p_i = y_i$. The saturated model will have log-likelihood function\n",
    "\n",
    "\\begin{align*}\n",
    "l_s = \\sum_{i=1}^{n} y_i \\log(y_i)+(1-y_i)\\log(1-y_i).\n",
    "\\end{align*}\n",
    "\n",
    "Suppose we want to study how far if our model from a saturated model. Suppose that our model has log-likelihood function $l$, then we take the difference\n",
    "$$-2(l-l_s)$$\n",
    "this is called the __Deviance__.\n",
    "\n",
    "Some examples:\n",
    "\n",
    "1. For the Normal distribution the deviance is \n",
    "\\begin{align*}\n",
    "-\\frac{1}{2\\phi}\\sum_{i=1}^{n}(y_i-x^{i}\\cdot \\beta)\n",
    "\\end{align*}\n",
    "where $\\theta_i = x^{i}\\beta$. Here the deviance is almost the MSE (Mean Square Error).\n",
    "\n",
    "Deviance is always bigger than zero. The saturated model has a bigger likelihood."
   ]
  }
 ],
 "metadata": {
  "kernelspec": {
   "display_name": "Python 3",
   "language": "python",
   "name": "python3"
  },
  "language_info": {
   "codemirror_mode": {
    "name": "ipython",
    "version": 3
   },
   "file_extension": ".py",
   "mimetype": "text/x-python",
   "name": "python",
   "nbconvert_exporter": "python",
   "pygments_lexer": "ipython3",
   "version": "3.8.3"
  }
 },
 "nbformat": 4,
 "nbformat_minor": 4
}
