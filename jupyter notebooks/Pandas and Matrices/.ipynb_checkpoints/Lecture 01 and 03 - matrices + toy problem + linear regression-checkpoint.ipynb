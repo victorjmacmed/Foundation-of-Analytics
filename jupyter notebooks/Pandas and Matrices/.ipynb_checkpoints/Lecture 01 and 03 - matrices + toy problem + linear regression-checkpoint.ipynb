{
 "cells": [
  {
   "cell_type": "markdown",
   "metadata": {},
   "source": [
    "## 0. Matrix operations"
   ]
  },
  {
   "cell_type": "code",
   "execution_count": null,
   "metadata": {},
   "outputs": [],
   "source": [
    "import numpy as np"
   ]
  },
  {
   "cell_type": "code",
   "execution_count": 2,
   "metadata": {},
   "outputs": [],
   "source": [
    "# Creating a matrix\n",
    "\n",
    "list4matrix = [[1,2,3],[4,5,6],[7,8,9]]"
   ]
  },
  {
   "cell_type": "code",
   "execution_count": 3,
   "metadata": {},
   "outputs": [
    {
     "data": {
      "text/plain": [
       "list"
      ]
     },
     "execution_count": 3,
     "metadata": {},
     "output_type": "execute_result"
    }
   ],
   "source": [
    "type(list4matrix) # not a matrix yet"
   ]
  },
  {
   "cell_type": "code",
   "execution_count": 4,
   "metadata": {},
   "outputs": [],
   "source": [
    "x = np.array(list4matrix)"
   ]
  },
  {
   "cell_type": "code",
   "execution_count": 5,
   "metadata": {},
   "outputs": [
    {
     "data": {
      "text/plain": [
       "array([[1, 2, 3],\n",
       "       [4, 5, 6],\n",
       "       [7, 8, 9]])"
      ]
     },
     "execution_count": 5,
     "metadata": {},
     "output_type": "execute_result"
    }
   ],
   "source": [
    "x"
   ]
  },
  {
   "cell_type": "code",
   "execution_count": 6,
   "metadata": {},
   "outputs": [
    {
     "data": {
      "text/plain": [
       "(3, 3)"
      ]
     },
     "execution_count": 6,
     "metadata": {},
     "output_type": "execute_result"
    }
   ],
   "source": [
    "x.shape"
   ]
  },
  {
   "cell_type": "code",
   "execution_count": 7,
   "metadata": {},
   "outputs": [],
   "source": [
    "# Create a 100 x 100 matrix\n",
    "\n",
    "xones = np.ones((100,100))"
   ]
  },
  {
   "cell_type": "code",
   "execution_count": 8,
   "metadata": {},
   "outputs": [
    {
     "data": {
      "text/plain": [
       "array([[1., 1., 1., ..., 1., 1., 1.],\n",
       "       [1., 1., 1., ..., 1., 1., 1.],\n",
       "       [1., 1., 1., ..., 1., 1., 1.],\n",
       "       ...,\n",
       "       [1., 1., 1., ..., 1., 1., 1.],\n",
       "       [1., 1., 1., ..., 1., 1., 1.],\n",
       "       [1., 1., 1., ..., 1., 1., 1.]])"
      ]
     },
     "execution_count": 8,
     "metadata": {},
     "output_type": "execute_result"
    }
   ],
   "source": [
    "xones"
   ]
  },
  {
   "cell_type": "code",
   "execution_count": 9,
   "metadata": {},
   "outputs": [
    {
     "data": {
      "text/plain": [
       "(100, 100)"
      ]
     },
     "execution_count": 9,
     "metadata": {},
     "output_type": "execute_result"
    }
   ],
   "source": [
    "xones.shape"
   ]
  },
  {
   "cell_type": "code",
   "execution_count": 10,
   "metadata": {},
   "outputs": [],
   "source": [
    "# Another possibility\n",
    "\n",
    "M100 = np.arange(100)\n"
   ]
  },
  {
   "cell_type": "code",
   "execution_count": 11,
   "metadata": {},
   "outputs": [
    {
     "data": {
      "text/plain": [
       "array([ 0,  1,  2,  3,  4,  5,  6,  7,  8,  9, 10, 11, 12, 13, 14, 15, 16,\n",
       "       17, 18, 19, 20, 21, 22, 23, 24, 25, 26, 27, 28, 29, 30, 31, 32, 33,\n",
       "       34, 35, 36, 37, 38, 39, 40, 41, 42, 43, 44, 45, 46, 47, 48, 49, 50,\n",
       "       51, 52, 53, 54, 55, 56, 57, 58, 59, 60, 61, 62, 63, 64, 65, 66, 67,\n",
       "       68, 69, 70, 71, 72, 73, 74, 75, 76, 77, 78, 79, 80, 81, 82, 83, 84,\n",
       "       85, 86, 87, 88, 89, 90, 91, 92, 93, 94, 95, 96, 97, 98, 99])"
      ]
     },
     "execution_count": 11,
     "metadata": {},
     "output_type": "execute_result"
    }
   ],
   "source": [
    "M100"
   ]
  },
  {
   "cell_type": "code",
   "execution_count": 12,
   "metadata": {},
   "outputs": [
    {
     "data": {
      "text/plain": [
       "(100,)"
      ]
     },
     "execution_count": 12,
     "metadata": {},
     "output_type": "execute_result"
    }
   ],
   "source": [
    "M100.shape # This is not right..."
   ]
  },
  {
   "cell_type": "code",
   "execution_count": 13,
   "metadata": {},
   "outputs": [],
   "source": [
    "M100matrix = M100.reshape((1,100))"
   ]
  },
  {
   "cell_type": "code",
   "execution_count": 14,
   "metadata": {},
   "outputs": [
    {
     "data": {
      "text/plain": [
       "(1, 100)"
      ]
     },
     "execution_count": 14,
     "metadata": {},
     "output_type": "execute_result"
    }
   ],
   "source": [
    "M100matrix.shape"
   ]
  },
  {
   "cell_type": "code",
   "execution_count": 15,
   "metadata": {},
   "outputs": [
    {
     "data": {
      "text/plain": [
       "array([[ 0,  1,  2,  3,  4,  5,  6,  7,  8,  9, 10, 11, 12, 13, 14, 15,\n",
       "        16, 17, 18, 19, 20, 21, 22, 23, 24, 25, 26, 27, 28, 29, 30, 31,\n",
       "        32, 33, 34, 35, 36, 37, 38, 39, 40, 41, 42, 43, 44, 45, 46, 47,\n",
       "        48, 49],\n",
       "       [50, 51, 52, 53, 54, 55, 56, 57, 58, 59, 60, 61, 62, 63, 64, 65,\n",
       "        66, 67, 68, 69, 70, 71, 72, 73, 74, 75, 76, 77, 78, 79, 80, 81,\n",
       "        82, 83, 84, 85, 86, 87, 88, 89, 90, 91, 92, 93, 94, 95, 96, 97,\n",
       "        98, 99]])"
      ]
     },
     "execution_count": 15,
     "metadata": {},
     "output_type": "execute_result"
    }
   ],
   "source": [
    "M100.reshape((2,50))"
   ]
  },
  {
   "cell_type": "code",
   "execution_count": 16,
   "metadata": {},
   "outputs": [
    {
     "data": {
      "text/plain": [
       "array([[ 0,  1,  2,  3,  4,  5,  6,  7,  8,  9],\n",
       "       [10, 11, 12, 13, 14, 15, 16, 17, 18, 19],\n",
       "       [20, 21, 22, 23, 24, 25, 26, 27, 28, 29],\n",
       "       [30, 31, 32, 33, 34, 35, 36, 37, 38, 39],\n",
       "       [40, 41, 42, 43, 44, 45, 46, 47, 48, 49],\n",
       "       [50, 51, 52, 53, 54, 55, 56, 57, 58, 59],\n",
       "       [60, 61, 62, 63, 64, 65, 66, 67, 68, 69],\n",
       "       [70, 71, 72, 73, 74, 75, 76, 77, 78, 79],\n",
       "       [80, 81, 82, 83, 84, 85, 86, 87, 88, 89],\n",
       "       [90, 91, 92, 93, 94, 95, 96, 97, 98, 99]])"
      ]
     },
     "execution_count": 16,
     "metadata": {},
     "output_type": "execute_result"
    }
   ],
   "source": [
    "M100.reshape((10,10)) #10x10 matrix"
   ]
  },
  {
   "cell_type": "code",
   "execution_count": 17,
   "metadata": {},
   "outputs": [
    {
     "data": {
      "text/plain": [
       "array([[0.03171048, 0.44056674, 0.35987755, 0.11286379, 0.12365746,\n",
       "        0.99005886, 0.75031117, 0.37021855, 0.33214343, 0.5863706 ],\n",
       "       [0.47067391, 0.40443018, 0.20284258, 0.3004209 , 0.02551107,\n",
       "        0.03038891, 0.6580263 , 0.7852459 , 0.19337269, 0.07174352],\n",
       "       [0.32388323, 0.39902727, 0.46753681, 0.88857022, 0.99219909,\n",
       "        0.61312831, 0.70689635, 0.04632934, 0.04317984, 0.65229451],\n",
       "       [0.91305562, 0.99326861, 0.67165034, 0.68685614, 0.39678228,\n",
       "        0.14957638, 0.70943897, 0.08269283, 0.89030123, 0.34699761],\n",
       "       [0.74437071, 0.30643035, 0.3174196 , 0.50023596, 0.88162386,\n",
       "        0.43221741, 0.92991399, 0.84642935, 0.5528031 , 0.35122869],\n",
       "       [0.64734295, 0.50981436, 0.78981707, 0.43239518, 0.38838187,\n",
       "        0.41256296, 0.49366785, 0.17474573, 0.66693635, 0.28643181],\n",
       "       [0.43707143, 0.96310414, 0.28242266, 0.9740169 , 0.67931991,\n",
       "        0.72255564, 0.38316937, 0.37008007, 0.77406899, 0.67019309],\n",
       "       [0.94282513, 0.17235294, 0.64610422, 0.88600716, 0.27118653,\n",
       "        0.81119517, 0.65515099, 0.29203006, 0.78375711, 0.44172025],\n",
       "       [0.49846914, 0.02838696, 0.24766137, 0.10785852, 0.95523794,\n",
       "        0.3991218 , 0.31066992, 0.81213903, 0.98055751, 0.43038282],\n",
       "       [0.44033318, 0.7107298 , 0.86104256, 0.61025001, 0.61489938,\n",
       "        0.99675949, 0.21170076, 0.52085002, 0.75308114, 0.844606  ]])"
      ]
     },
     "execution_count": 17,
     "metadata": {},
     "output_type": "execute_result"
    }
   ],
   "source": [
    "# Generating random matrix\n",
    "\n",
    "np.random.rand(10,10) # generates numbers between 0 and 1"
   ]
  },
  {
   "cell_type": "code",
   "execution_count": 18,
   "metadata": {},
   "outputs": [
    {
     "data": {
      "text/plain": [
       "array([[0.70781644]])"
      ]
     },
     "execution_count": 18,
     "metadata": {},
     "output_type": "execute_result"
    }
   ],
   "source": [
    "np.random.rand(1,1)"
   ]
  },
  {
   "cell_type": "code",
   "execution_count": 19,
   "metadata": {},
   "outputs": [],
   "source": [
    "# matrix operations\n",
    "\n",
    "A = np.random.rand(4,2)\n",
    "B = np.random.rand(4,2)"
   ]
  },
  {
   "cell_type": "code",
   "execution_count": 20,
   "metadata": {},
   "outputs": [
    {
     "data": {
      "text/plain": [
       "array([[1.09020248, 1.75689009],\n",
       "       [0.81870754, 1.54531957],\n",
       "       [1.63194785, 0.95627716],\n",
       "       [0.3416265 , 1.26638448]])"
      ]
     },
     "execution_count": 20,
     "metadata": {},
     "output_type": "execute_result"
    }
   ],
   "source": [
    "A+B"
   ]
  },
  {
   "cell_type": "code",
   "execution_count": 21,
   "metadata": {},
   "outputs": [
    {
     "data": {
      "text/plain": [
       "array([[0.40932338, 0.91698038],\n",
       "       [0.41099063, 0.7475349 ],\n",
       "       [0.64707517, 0.43417251],\n",
       "       [0.00427106, 0.55099211]])"
      ]
     },
     "execution_count": 21,
     "metadata": {},
     "output_type": "execute_result"
    }
   ],
   "source": [
    "A"
   ]
  },
  {
   "cell_type": "code",
   "execution_count": 22,
   "metadata": {},
   "outputs": [
    {
     "data": {
      "text/plain": [
       "array([[0.6808791 , 0.83990971],\n",
       "       [0.40771691, 0.79778467],\n",
       "       [0.98487268, 0.52210465],\n",
       "       [0.33735545, 0.71539237]])"
      ]
     },
     "execution_count": 22,
     "metadata": {},
     "output_type": "execute_result"
    }
   ],
   "source": [
    "B"
   ]
  },
  {
   "cell_type": "code",
   "execution_count": 23,
   "metadata": {},
   "outputs": [
    {
     "data": {
      "text/plain": [
       "array([[1.04888046, 0.89844095, 0.88189113, 0.79408824],\n",
       "       [0.90769675, 0.76393971, 0.79506489, 0.67343069],\n",
       "       [0.80524567, 0.61019966, 0.86397014, 0.52889803],\n",
       "       [0.4656917 , 0.44131444, 0.29188199, 0.39561641]])"
      ]
     },
     "execution_count": 23,
     "metadata": {},
     "output_type": "execute_result"
    }
   ],
   "source": [
    "#matrix multiplication\n",
    "\n",
    "np.matmul(A,B.T) # transpose adding .T"
   ]
  },
  {
   "cell_type": "code",
   "execution_count": 24,
   "metadata": {},
   "outputs": [
    {
     "data": {
      "text/plain": [
       "0.8984409526682956"
      ]
     },
     "execution_count": 24,
     "metadata": {},
     "output_type": "execute_result"
    }
   ],
   "source": [
    "# multiplying the first row and column inside matrices\n",
    "\n",
    "np.matmul(A[0,:],B.T[:,1])"
   ]
  },
  {
   "cell_type": "code",
   "execution_count": 25,
   "metadata": {},
   "outputs": [
    {
     "data": {
      "text/plain": [
       "array([0.40932338, 0.91698038])"
      ]
     },
     "execution_count": 25,
     "metadata": {},
     "output_type": "execute_result"
    }
   ],
   "source": [
    "A[0,:]"
   ]
  },
  {
   "cell_type": "code",
   "execution_count": 26,
   "metadata": {},
   "outputs": [
    {
     "data": {
      "text/plain": [
       "array([0.6808791 , 0.83990971])"
      ]
     },
     "execution_count": 26,
     "metadata": {},
     "output_type": "execute_result"
    }
   ],
   "source": [
    "B.T[:,0]"
   ]
  },
  {
   "cell_type": "code",
   "execution_count": 27,
   "metadata": {},
   "outputs": [
    {
     "data": {
      "text/plain": [
       "0.8984409526682956"
      ]
     },
     "execution_count": 27,
     "metadata": {},
     "output_type": "execute_result"
    }
   ],
   "source": [
    "np.dot(A[0,:],B.T[:,1]) #Dot product"
   ]
  },
  {
   "cell_type": "code",
   "execution_count": 28,
   "metadata": {},
   "outputs": [],
   "source": [
    "M = np.random.rand(2,2)"
   ]
  },
  {
   "cell_type": "code",
   "execution_count": 29,
   "metadata": {},
   "outputs": [
    {
     "data": {
      "text/plain": [
       "array([[0.28508353, 0.46033519],\n",
       "       [0.93570742, 0.05937448]])"
      ]
     },
     "execution_count": 29,
     "metadata": {},
     "output_type": "execute_result"
    }
   ],
   "source": [
    "M"
   ]
  },
  {
   "cell_type": "code",
   "execution_count": 30,
   "metadata": {},
   "outputs": [],
   "source": [
    "# Calculate an inverse\n",
    "\n",
    "from numpy.linalg import inv\n",
    "\n",
    "Minv = inv(M)"
   ]
  },
  {
   "cell_type": "code",
   "execution_count": 31,
   "metadata": {},
   "outputs": [
    {
     "data": {
      "text/plain": [
       "array([[-0.14348165,  1.11242493],\n",
       "       [ 2.26118769, -0.6889198 ]])"
      ]
     },
     "execution_count": 31,
     "metadata": {},
     "output_type": "execute_result"
    }
   ],
   "source": [
    "Minv"
   ]
  },
  {
   "cell_type": "code",
   "execution_count": 32,
   "metadata": {},
   "outputs": [
    {
     "data": {
      "text/plain": [
       "array([[1., 0.],\n",
       "       [0., 1.]])"
      ]
     },
     "execution_count": 32,
     "metadata": {},
     "output_type": "execute_result"
    }
   ],
   "source": [
    "np.matmul(M,Minv)"
   ]
  },
  {
   "cell_type": "code",
   "execution_count": 33,
   "metadata": {},
   "outputs": [],
   "source": [
    "# Implement access the elements in a matrix\n",
    "\n",
    "n =np.arange(36).reshape(6,6)\n"
   ]
  },
  {
   "cell_type": "code",
   "execution_count": 34,
   "metadata": {},
   "outputs": [
    {
     "data": {
      "text/plain": [
       "array([[ 0,  1,  2,  3,  4,  5],\n",
       "       [ 6,  7,  8,  9, 10, 11],\n",
       "       [12, 13, 14, 15, 16, 17],\n",
       "       [18, 19, 20, 21, 22, 23],\n",
       "       [24, 25, 26, 27, 28, 29],\n",
       "       [30, 31, 32, 33, 34, 35]])"
      ]
     },
     "execution_count": 34,
     "metadata": {},
     "output_type": "execute_result"
    }
   ],
   "source": [
    "n"
   ]
  },
  {
   "cell_type": "code",
   "execution_count": 35,
   "metadata": {},
   "outputs": [
    {
     "data": {
      "text/plain": [
       "0"
      ]
     },
     "execution_count": 35,
     "metadata": {},
     "output_type": "execute_result"
    }
   ],
   "source": [
    "n[0][0] # first row first colum"
   ]
  },
  {
   "cell_type": "code",
   "execution_count": 36,
   "metadata": {},
   "outputs": [
    {
     "data": {
      "text/plain": [
       "14"
      ]
     },
     "execution_count": 36,
     "metadata": {},
     "output_type": "execute_result"
    }
   ],
   "source": [
    "n[2][2]"
   ]
  },
  {
   "cell_type": "code",
   "execution_count": 37,
   "metadata": {},
   "outputs": [
    {
     "data": {
      "text/plain": [
       "array([0, 1, 2, 3, 4, 5])"
      ]
     },
     "execution_count": 37,
     "metadata": {},
     "output_type": "execute_result"
    }
   ],
   "source": [
    "n[0][:]"
   ]
  },
  {
   "cell_type": "code",
   "execution_count": 38,
   "metadata": {},
   "outputs": [
    {
     "data": {
      "text/plain": [
       "array([12, 13, 14, 15, 16, 17])"
      ]
     },
     "execution_count": 38,
     "metadata": {},
     "output_type": "execute_result"
    }
   ],
   "source": [
    "n[2,:] # third row "
   ]
  },
  {
   "cell_type": "code",
   "execution_count": 39,
   "metadata": {},
   "outputs": [
    {
     "data": {
      "text/plain": [
       "array([ 2,  8, 14, 20, 26, 32])"
      ]
     },
     "execution_count": 39,
     "metadata": {},
     "output_type": "execute_result"
    }
   ],
   "source": [
    "n[:,2] # third column"
   ]
  },
  {
   "cell_type": "code",
   "execution_count": 40,
   "metadata": {},
   "outputs": [
    {
     "data": {
      "text/plain": [
       "14"
      ]
     },
     "execution_count": 40,
     "metadata": {},
     "output_type": "execute_result"
    }
   ],
   "source": [
    "n[2,2] # element a_33"
   ]
  },
  {
   "cell_type": "markdown",
   "metadata": {},
   "source": [
    "## 1. Implementing a toy problem"
   ]
  },
  {
   "cell_type": "code",
   "execution_count": 41,
   "metadata": {},
   "outputs": [],
   "source": [
    "\n",
    "listoy = [[1,1,23],[1,2,26],[1,1,24]]"
   ]
  },
  {
   "cell_type": "code",
   "execution_count": 42,
   "metadata": {},
   "outputs": [],
   "source": [
    "datatoy = np.array(listoy)"
   ]
  },
  {
   "cell_type": "code",
   "execution_count": 43,
   "metadata": {},
   "outputs": [
    {
     "data": {
      "text/plain": [
       "array([[ 1,  1, 23],\n",
       "       [ 1,  2, 26],\n",
       "       [ 1,  1, 24]])"
      ]
     },
     "execution_count": 43,
     "metadata": {},
     "output_type": "execute_result"
    }
   ],
   "source": [
    "datatoy"
   ]
  },
  {
   "cell_type": "code",
   "execution_count": 44,
   "metadata": {},
   "outputs": [],
   "source": [
    "import matplotlib.pyplot as plt"
   ]
  },
  {
   "cell_type": "code",
   "execution_count": 46,
   "metadata": {},
   "outputs": [
    {
     "data": {
      "image/png": "[encoded data removed]",
      "text/plain": [
       "<Figure size 432x288 with 1 Axes>"
      ]
     },
     "metadata": {
      "needs_background": "light"
     },
     "output_type": "display_data"
    }
   ],
   "source": [
    "plt.scatter(datatoy[:,0],datatoy[:,2]) # number of pants against cost \n",
    "plt.title('Scatter Plot Cost v.s Pants')\n",
    "plt.xlabel('Pants')\n",
    "plt.ylabel('Cost')\n",
    "plt.xlim(0,2)\n",
    "plt.ylim(0,30)\n",
    "plt.show()"
   ]
  },
  {
   "cell_type": "code",
   "execution_count": 47,
   "metadata": {},
   "outputs": [
    {
     "data": {
      "image/png": "[encoded data removed]",
      "text/plain": [
       "<Figure size 432x288 with 1 Axes>"
      ]
     },
     "metadata": {
      "needs_background": "light"
     },
     "output_type": "display_data"
    }
   ],
   "source": [
    "plt.scatter(datatoy[:,1],datatoy[:,2]) # number of pants against cost \n",
    "plt.title('Scatter Plot Cost v.s Socks')\n",
    "plt.xlabel('Socks')\n",
    "plt.ylabel('Cost')\n",
    "plt.xlim(0,3)\n",
    "plt.ylim(0,30)\n",
    "plt.show()"
   ]
  },
  {
   "cell_type": "code",
   "execution_count": 49,
   "metadata": {},
   "outputs": [],
   "source": [
    "# External data\n",
    "\n",
    "shoppingdata100 = np.loadtxt(open(\"data/Lecture01-shoppingdata100.csv\",\"rb\"), delimiter = \",\")"
   ]
  },
  {
   "cell_type": "code",
   "execution_count": 50,
   "metadata": {},
   "outputs": [
    {
     "data": {
      "text/plain": [
       "array([[  6.,   3., 129.],\n",
       "       [  6.,   8., 144.],\n",
       "       [  5.,   8., 124.],\n",
       "       [  3.,   8.,  84.],\n",
       "       [  6.,   3., 129.],\n",
       "       [  5.,   9., 127.],\n",
       "       [  3.,   1.,  63.],\n",
       "       [  6.,   7., 141.],\n",
       "       [  5.,   1., 103.],\n",
       "       [  9.,   5., 195.],\n",
       "       [  4.,   6.,  98.],\n",
       "       [  5.,   4., 112.],\n",
       "       [  2.,   3.,  49.],\n",
       "       [  9.,   7., 201.],\n",
       "       [  1.,   5.,  35.],\n",
       "       [  5.,   9., 127.],\n",
       "       [  7.,   9., 167.],\n",
       "       [  5.,   2., 106.],\n",
       "       [  2.,   6.,  58.],\n",
       "       [  2.,   5.,  55.],\n",
       "       [  9.,   2., 186.],\n",
       "       [  6.,   4., 132.],\n",
       "       [  8.,   9., 187.],\n",
       "       [  4.,   5.,  95.],\n",
       "       [  1.,   6.,  38.],\n",
       "       [  8.,   4., 172.],\n",
       "       [  8.,   2., 166.],\n",
       "       [  9.,   8., 204.],\n",
       "       [  7.,   2., 146.],\n",
       "       [  9.,   5., 195.],\n",
       "       [  6.,   6., 138.],\n",
       "       [  4.,   2.,  86.],\n",
       "       [  9.,   4., 192.],\n",
       "       [  8.,   6., 178.],\n",
       "       [  6.,   6., 138.],\n",
       "       [  1.,   9.,  47.],\n",
       "       [  8.,   6., 178.],\n",
       "       [  3.,   6.,  78.],\n",
       "       [  5.,   6., 118.],\n",
       "       [  6.,   8., 144.],\n",
       "       [  2.,   9.,  67.],\n",
       "       [  4.,   9., 107.],\n",
       "       [  8.,   5., 175.],\n",
       "       [  4.,   8., 104.],\n",
       "       [  1.,   9.,  47.],\n",
       "       [  9.,   7., 201.],\n",
       "       [  1.,   2.,  26.],\n",
       "       [  6.,   4., 132.],\n",
       "       [  1.,   7.,  41.],\n",
       "       [  5.,   2., 106.],\n",
       "       [  2.,   3.,  49.],\n",
       "       [  7.,   1., 143.],\n",
       "       [  9.,   3., 189.],\n",
       "       [  3.,   8.,  84.],\n",
       "       [  9.,   1., 183.],\n",
       "       [  7.,   5., 155.],\n",
       "       [  8.,   7., 181.],\n",
       "       [  2.,   6.,  58.],\n",
       "       [  2.,   9.,  67.],\n",
       "       [  7.,   9., 167.],\n",
       "       [  4.,   2.,  86.],\n",
       "       [  2.,   7.,  61.],\n",
       "       [  4.,   5.,  95.],\n",
       "       [  9.,   6., 198.],\n",
       "       [  8.,   8., 184.],\n",
       "       [  3.,   6.,  78.],\n",
       "       [  4.,   1.,  83.],\n",
       "       [  6.,   6., 138.],\n",
       "       [  1.,   5.,  35.],\n",
       "       [  2.,   5.,  55.],\n",
       "       [  3.,   6.,  78.],\n",
       "       [  3.,   5.,  75.],\n",
       "       [  3.,   3.,  69.],\n",
       "       [  8.,   3., 169.],\n",
       "       [  4.,   4.,  92.],\n",
       "       [  3.,   8.,  84.],\n",
       "       [  8.,   7., 181.],\n",
       "       [  9.,   4., 192.],\n",
       "       [  7.,   6., 158.],\n",
       "       [  9.,   4., 192.],\n",
       "       [  5.,   2., 106.],\n",
       "       [  9.,   5., 195.],\n",
       "       [  4.,   3.,  89.],\n",
       "       [  9.,   8., 204.],\n",
       "       [  4.,   7., 101.],\n",
       "       [  6.,   8., 144.],\n",
       "       [  8.,   6., 178.],\n",
       "       [  1.,   1.,  23.],\n",
       "       [  3.,   2.,  66.],\n",
       "       [  2.,   5.,  55.],\n",
       "       [  8.,   6., 178.],\n",
       "       [  1.,   6.,  38.],\n",
       "       [  6.,   2., 126.],\n",
       "       [  5.,   2., 106.],\n",
       "       [  1.,   7.,  41.],\n",
       "       [  1.,   6.,  38.],\n",
       "       [  5.,   4., 112.],\n",
       "       [  8.,   7., 181.],\n",
       "       [  4.,   1.,  83.],\n",
       "       [  7.,   6., 158.]])"
      ]
     },
     "execution_count": 50,
     "metadata": {},
     "output_type": "execute_result"
    }
   ],
   "source": [
    "shoppingdata100"
   ]
  },
  {
   "cell_type": "code",
   "execution_count": 51,
   "metadata": {},
   "outputs": [
    {
     "data": {
      "text/plain": [
       "(100, 3)"
      ]
     },
     "execution_count": 51,
     "metadata": {},
     "output_type": "execute_result"
    }
   ],
   "source": [
    "shoppingdata100.shape"
   ]
  },
  {
   "cell_type": "code",
   "execution_count": 58,
   "metadata": {},
   "outputs": [
    {
     "data": {
      "image/png": "[encoded data removed]",
      "text/plain": [
       "<Figure size 432x288 with 1 Axes>"
      ]
     },
     "metadata": {
      "needs_background": "light"
     },
     "output_type": "display_data"
    }
   ],
   "source": [
    "plt.scatter(shoppingdata100[:,0],shoppingdata100[:,2]) # number of pants against cost \n",
    "plt.title('Scatter Plot Cost v.s Pants')\n",
    "plt.xlabel('Pants')\n",
    "plt.ylabel('Cost')\n",
    "plt.xlim(0,max(shoppingdata100[:,0])+1)\n",
    "plt.ylim(0,max(shoppingdata100[:,2])+10)\n",
    "plt.show()"
   ]
  },
  {
   "cell_type": "code",
   "execution_count": 57,
   "metadata": {},
   "outputs": [
    {
     "data": {
      "image/png": "[encoded data removed]",
      "text/plain": [
       "<Figure size 432x288 with 1 Axes>"
      ]
     },
     "metadata": {
      "needs_background": "light"
     },
     "output_type": "display_data"
    }
   ],
   "source": [
    "plt.scatter(shoppingdata100[:,1],shoppingdata100[:,2]) # number of pants against cost \n",
    "plt.title('Scatter Plot Cost v.s Socks')\n",
    "plt.xlabel('Socks')\n",
    "plt.ylabel('Cost')\n",
    "plt.xlim(0,max(shoppingdata100[:,1])+1)\n",
    "plt.ylim(0,max(shoppingdata100[:,2])+10)\n",
    "plt.show()"
   ]
  },
  {
   "cell_type": "markdown",
   "metadata": {},
   "source": [
    "## 2. Single variable linear regression\n",
    "\n",
    "__Model:__ $y = \\beta_0+\\beta_1x$\n",
    "\n",
    "__Model estimation:__\n",
    "\n",
    "\\begin{align*}\n",
    "\\beta_1 = \\frac{Cov(X,Y)}{Var(X)} = r_{xy}\\frac{\\sigma_X}{\\sigma_Y}\n",
    "\\end{align*}\n",
    "\n",
    "where $r_{xy}$ is the correlation coefficient of $X$ and $Y$.\n",
    "\n",
    "\\begin{align*}\n",
    "\\beta_0 = (\\overline{y}-\\beta_1 \\overline{x})\n",
    "\\end{align*}"
   ]
  },
  {
   "cell_type": "code",
   "execution_count": 7,
   "metadata": {},
   "outputs": [
    {
     "name": "stdout",
     "output_type": "stream",
     "text": [
      "0.9782384994453035\n"
     ]
    }
   ],
   "source": [
    "# number of pants = predictor -> 2nd column matrix\n",
    "# cost = target variable -> 4th column matrix\n",
    "\n",
    "import numpy as np\n",
    "import matplotlib.pyplot as plt\n",
    "\n",
    "socks = np.random.randint(1,10,100)\n",
    "pants = np.random.randint(1,10,100)\n",
    "other_impact = np.random.randn(100)\n",
    "cost = 23.0*pants+5.0*socks+2.0*other_impact\n",
    "\n",
    "X = np.column_stack((socks,pants,other_impact,cost))\n",
    "\n",
    "Xpants = X[:,1]\n",
    "Ycost = X[:,3]\n",
    "\n"
   ]
  },
  {
   "cell_type": "code",
   "execution_count": 9,
   "metadata": {},
   "outputs": [
    {
     "data": {
      "text/plain": [
       "array([[   6.8716    ,  160.97330328],\n",
       "       [ 160.97330328, 3940.58173104]])"
      ]
     },
     "execution_count": 9,
     "metadata": {},
     "output_type": "execute_result"
    }
   ],
   "source": [
    "np.cov(Xpants, Ycost, bias = True)"
   ]
  },
  {
   "cell_type": "code",
   "execution_count": 12,
   "metadata": {},
   "outputs": [
    {
     "name": "stdout",
     "output_type": "stream",
     "text": [
      "23.425883823393338\n"
     ]
    }
   ],
   "source": [
    "print(np.cov(Xpants, Ycost, bias = True)[0][1]/(np.cov(Xpants, Ycost, bias = True)[0][0]))\n",
    "\n",
    "# set the bias to be true n = 100 -> biased estimator"
   ]
  },
  {
   "cell_type": "code",
   "execution_count": 17,
   "metadata": {},
   "outputs": [],
   "source": [
    "beta1 = (np.cov(Xpants, Ycost, bias = True)[0][1]/(np.cov(Xpants, Ycost, bias = True)[0][0]))"
   ]
  },
  {
   "cell_type": "code",
   "execution_count": 18,
   "metadata": {},
   "outputs": [
    {
     "name": "stdout",
     "output_type": "stream",
     "text": [
      "22.04829507643636\n"
     ]
    }
   ],
   "source": [
    "print(np.mean(Ycost)-beta1*np.mean(Xpants))"
   ]
  },
  {
   "cell_type": "markdown",
   "metadata": {},
   "source": [
    "__Calculate the correlation coefficient__ $r_{xy}$\n",
    "\n",
    "In this set up:\n",
    "\n",
    "\\begin{align*}\n",
    "\\beta_1 = r_{xy}\\frac{\\sigma_Y}{\\sigma_X} \\\\\n",
    "\\beta_0 = \\overline{y}-\\beta_1 \\overline{x}\n",
    "\\end{align*}"
   ]
  },
  {
   "cell_type": "code",
   "execution_count": 20,
   "metadata": {},
   "outputs": [
    {
     "name": "stdout",
     "output_type": "stream",
     "text": [
      "beta1 23.42588382339334\n"
     ]
    }
   ],
   "source": [
    "beta1 = np.corrcoef(Xpants, Ycost)[0][1]*np.std(Ycost)/np.std(Xpants)\n",
    "\n",
    "print(\"beta1\",beta1)"
   ]
  },
  {
   "cell_type": "code",
   "execution_count": 21,
   "metadata": {},
   "outputs": [
    {
     "name": "stdout",
     "output_type": "stream",
     "text": [
      "beta0 22.048295076436332\n"
     ]
    }
   ],
   "source": [
    "beta0 = np.mean(Ycost)-beta1*np.mean(Xpants)\n",
    "print('beta0', beta0)"
   ]
  },
  {
   "cell_type": "markdown",
   "metadata": {},
   "source": [
    "__Using sklearn package function__\n",
    "\n",
    "```class sklearn.linear_model.LinearRegression(fit_intercept = True, normalize = False, copy_X = True, n_jobs = None)```\n",
    "\n",
    "Members: coef_...etc\n",
    "\n",
    "Methods: fit(self, X, y[,sample:weught]) ... etc.\n",
    "\n",
    "More details: https://scikit-learn.org/stable/modules/generated/sklearn.linear_model.LinearRegression.html"
   ]
  },
  {
   "cell_type": "code",
   "execution_count": 22,
   "metadata": {},
   "outputs": [],
   "source": [
    "from sklearn.linear_model import LinearRegression"
   ]
  },
  {
   "cell_type": "code",
   "execution_count": 23,
   "metadata": {},
   "outputs": [
    {
     "name": "stdout",
     "output_type": "stream",
     "text": [
      "[array([[23.42588382]]), array([22.04829508])]\n"
     ]
    }
   ],
   "source": [
    "reg = LinearRegression() # Instantiate an object of class LinearRegression\n",
    "reg.fit(Xpants.reshape((100,1)), Ycost.reshape((100,1)))\n",
    "print([reg.coef_, reg.intercept_]) # this gives you Beta_0 and Beta_1"
   ]
  },
  {
   "cell_type": "markdown",
   "metadata": {},
   "source": [
    "## 3. Multivariate linear regression\n",
    "\n",
    "__Model:__ $y = \\sum_{i=1}^{n}\\beta_i x_i$\n",
    "\n",
    "__Model estimation:__ $\\beta = (X^T X)^{-1}X^T y$\n",
    "\n",
    "__In our case__ $Cost = \\beta_0 +\\beta_1 \\text{socks}+\\beta_2 \\text{pants}$"
   ]
  },
  {
   "cell_type": "code",
   "execution_count": 24,
   "metadata": {},
   "outputs": [],
   "source": [
    "Xpantsocks = X[:,[0,1]]\n",
    "Ycost_colmat = Ycost.reshape(100,1) \n",
    "\n",
    "# We use Ycost.reshape to make the matrix match the dimension of Xpantsocks\n",
    "\n"
   ]
  },
  {
   "cell_type": "markdown",
   "metadata": {},
   "source": [
    "__Fit a linear model with intercept__"
   ]
  },
  {
   "cell_type": "code",
   "execution_count": 25,
   "metadata": {},
   "outputs": [
    {
     "name": "stdout",
     "output_type": "stream",
     "text": [
      "[array([[ 5.04246182, 22.89122848]]), array([0.28240692])]\n"
     ]
    }
   ],
   "source": [
    "multireg = LinearRegression()\n",
    "multireg.fit(Xpantsocks, Ycost_colmat) # We use the first and second columns as predictors\n",
    "print([multireg.coef_, multireg.intercept_])"
   ]
  },
  {
   "cell_type": "code",
   "execution_count": null,
   "metadata": {},
   "outputs": [],
   "source": [
    "# Recall our simulation cost = 23.0*pants+5.0*socks+2.0*other_impact\n",
    "# This is really close."
   ]
  },
  {
   "cell_type": "markdown",
   "metadata": {},
   "source": [
    "__Fit a linear model without intercept__"
   ]
  },
  {
   "cell_type": "code",
   "execution_count": 27,
   "metadata": {},
   "outputs": [
    {
     "name": "stdout",
     "output_type": "stream",
     "text": [
      "[array([[ 5.06632421, 22.91614532]]), 0.0]\n"
     ]
    }
   ],
   "source": [
    "multireg = LinearRegression(fit_intercept = False)\n",
    "multireg.fit(Xpantsocks, Ycost_colmat) # We use the first and second columns as predictors\n",
    "print([multireg.coef_, multireg.intercept_])"
   ]
  },
  {
   "cell_type": "markdown",
   "metadata": {},
   "source": [
    "__Multivariate Linear Regression from Scratch without intercept__"
   ]
  },
  {
   "cell_type": "code",
   "execution_count": null,
   "metadata": {},
   "outputs": [],
   "source": [
    "# We use the formulas beta = (X^TX)^(-1)X^T y\n",
    "\n",
    "beta = np."
   ]
  }
 ],
 "metadata": {
  "kernelspec": {
   "display_name": "Python 3",
   "language": "python",
   "name": "python3"
  },
  "language_info": {
   "codemirror_mode": {
    "name": "ipython",
    "version": 3
   },
   "file_extension": ".py",
   "mimetype": "text/x-python",
   "name": "python",
   "nbconvert_exporter": "python",
   "pygments_lexer": "ipython3",
   "version": "3.8.3"
  }
 },
 "nbformat": 4,
 "nbformat_minor": 4
}
